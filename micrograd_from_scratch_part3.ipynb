{
  "nbformat": 4,
  "nbformat_minor": 0,
  "metadata": {
    "colab": {
      "name": "micrograd_from_scratch_part3.ipynb",
      "provenance": [],
      "authorship_tag": "ABX9TyMZ3/xwBX4gffVwM7FnJKTN"
    },
    "kernelspec": {
      "name": "python3",
      "display_name": "Python 3"
    },
    "language_info": {
      "name": "python"
    }
  },
  "cells": [
    {
      "cell_type": "markdown",
      "source": [
        "# **Andrej Karpathy Micrograd Tutorial**\n",
        "# [The spelled-out intro to neural networks and backpropagation: building micrograd](https://www.youtube.com/watch?v=VMj-3S1tku0)\n",
        "___"
      ],
      "metadata": {
        "id": "NM69ClaDRgMa"
      }
    },
    {
      "cell_type": "code",
      "execution_count": 1,
      "metadata": {
        "id": "e_vGYOCNRdPd"
      },
      "outputs": [],
      "source": [
        "import numpy as np\n",
        "import math\n",
        "import matplotlib.pyplot as plt"
      ]
    },
    {
      "cell_type": "code",
      "source": [
        "from graphviz import Digraph\n",
        "\n",
        "def trace(root):\n",
        "    # builds set of all nodes and edges in graph\n",
        "    nodes, edges = set(), set()\n",
        "    def build(v):\n",
        "        if v not in nodes:\n",
        "            nodes.add(v)\n",
        "            for child in v._prev:\n",
        "                edges.add((child,v))\n",
        "                build(child)\n",
        "    build(root)\n",
        "    return nodes, edges\n",
        "\n",
        "def draw_dot(root):\n",
        "    dot = Digraph(format='svg', graph_attr={'rankdir':'LR'}) # LR: left -> right\n",
        "    nodes, edges = trace(root)\n",
        "\n",
        "    for n in nodes:\n",
        "        uid = str(id(n))\n",
        "        # for value - create rectangular 'record' node\n",
        "        dot.node(name=uid, \n",
        "                 label = f\"{n.label} | data: {n.data:.4f} | grad: {n.grad:.4f}\", \n",
        "                 shape='record'\n",
        "                )\n",
        "        \n",
        "        # if result of an operation, create operator node\n",
        "        if n._op:\n",
        "            dot.node(name=uid+n._op, label = n._op)\n",
        "            dot.edge(uid+n._op, uid)\n",
        "\n",
        "    for n1,n2 in edges:\n",
        "        # connect n1 -> op node of n2\n",
        "        dot.edge(str(id(n1)), str(id(n2))+n2._op)\n",
        "\n",
        "    return dot"
      ],
      "metadata": {
        "id": "6UPUGLSORtIW"
      },
      "execution_count": 2,
      "outputs": []
    },
    {
      "cell_type": "code",
      "source": [
        "class Value:\n",
        "    \n",
        "    def __init__(self,data, _children = (), _op='', label=''):\n",
        "        self.data = data\n",
        "        \n",
        "        self.grad = 0.0\n",
        "        # function which will backpropagate\n",
        "        # based on chain rule\n",
        "        self._backward = lambda : None\n",
        "        \n",
        "        self._prev = set(_children)\n",
        "        self._op = _op\n",
        "        self.label = label\n",
        "\n",
        "    \n",
        "    def __repr__(self):\n",
        "        return f\"Value(data={self.data})\"\n",
        "\n",
        "    def __add__(self, other):\n",
        "        out = Value(self.data + other.data, (self, other), '+')\n",
        "\n",
        "        def _backward():\n",
        "            self.grad = 1.0 * out.grad\n",
        "            other.grad = 1.0 * out.grad\n",
        "\n",
        "        out._backward = _backward\n",
        "\n",
        "        return out\n",
        "\n",
        "    def __mul__(self, other):\n",
        "        out = Value(self.data * other.data, (self, other), '*')\n",
        "\n",
        "        def _backward():\n",
        "            self.grad = other.data * out.grad\n",
        "            other.grad = self.data * out.grad\n",
        "\n",
        "        out._backward = _backward\n",
        "\n",
        "        return out\n",
        "\n",
        "    def tanh(self):\n",
        "        n = self.data\n",
        "        t = (math.exp(2*n) - 1) / (math.exp(2*n) + 1)\n",
        "        out = Value(t, (self, ), 'tanh')\n",
        "\n",
        "        def _backward():\n",
        "            self.grad = (1 - t**2) * out.grad\n",
        "\n",
        "        out._backward = _backward\n",
        "\n",
        "        return out\n"
      ],
      "metadata": {
        "id": "GU2qd0DwRym8"
      },
      "execution_count": 3,
      "outputs": []
    },
    {
      "cell_type": "markdown",
      "source": [
        "## To do the backpropagation, we need to follow a sequence of nodes in the equation backwards\n",
        "\n",
        "## this ordering can be achieved through topological sort -- all the edges go in one direction\n",
        "\n",
        "\n",
        "![topological sort](https://i.imgur.com/jdNVsfi.png)\n",
        "\n",
        "[image credits](https://medium.com/@konduruharish/topological-sort-in-typescript-and-c-6d5ecc4bad95)\n"
      ],
      "metadata": {
        "id": "LMBbv0sYSIsb"
      }
    },
    {
      "cell_type": "code",
      "source": [
        "# 2D input:\n",
        "\n",
        "x1 = Value(2.0, label='x1')\n",
        "x2 = Value(0.0, label='x2')\n",
        "\n",
        "# Weights for each input\n",
        "w1 = Value(-3.0, label='w1')\n",
        "w2 = Value(1.0, label='w2')\n",
        "\n",
        "# bias\n",
        "b = Value(6.8813, label='b')\n",
        "\n",
        "# output\n",
        "x1w1 = x1*w1\n",
        "x1w1.label = 'x1*w1'\n",
        "\n",
        "x2w2 = x2*w2\n",
        "x2w2.label = 'x2*w2'\n",
        "\n",
        "x1w1x2w2 = x1w1+x2w2\n",
        "x1w1x2w2.label = 'x1w1+x2w2'\n",
        "\n",
        "n = x1w1x2w2 + b\n",
        "n.label = 'n'\n",
        "\n",
        "o = n.tanh()\n",
        "o.label = 'output'"
      ],
      "metadata": {
        "id": "tStiiuSKew7U"
      },
      "execution_count": 4,
      "outputs": []
    },
    {
      "cell_type": "code",
      "source": [
        "topo = []\n",
        "visited = set()\n",
        "def build_topo(v):\n",
        "    if v not in visited:\n",
        "        visited.add(v)\n",
        "        for child in v._prev:\n",
        "            build_topo(child)\n",
        "        topo.append(v)\n",
        "build_topo(o)\n",
        "topo"
      ],
      "metadata": {
        "id": "1e4eSek1SFLw",
        "colab": {
          "base_uri": "https://localhost:8080/"
        },
        "outputId": "ef38a658-0c88-4b59-d894-7642876aab8e"
      },
      "execution_count": 5,
      "outputs": [
        {
          "output_type": "execute_result",
          "data": {
            "text/plain": [
              "[Value(data=1.0),\n",
              " Value(data=0.0),\n",
              " Value(data=0.0),\n",
              " Value(data=2.0),\n",
              " Value(data=-3.0),\n",
              " Value(data=-6.0),\n",
              " Value(data=-6.0),\n",
              " Value(data=6.8813),\n",
              " Value(data=0.8813000000000004),\n",
              " Value(data=0.7070699857622339)]"
            ]
          },
          "metadata": {},
          "execution_count": 5
        }
      ]
    },
    {
      "cell_type": "code",
      "source": [
        "draw_dot(o)"
      ],
      "metadata": {
        "colab": {
          "base_uri": "https://localhost:8080/",
          "height": 497
        },
        "id": "KSJyGDWofZMU",
        "outputId": "e7f42a52-67a7-4323-afbe-b0b2ac909968"
      },
      "execution_count": 6,
      "outputs": [
        {
          "output_type": "execute_result",
          "data": {
            "text/plain": [
              "<graphviz.dot.Digraph at 0x7fb576ccdd90>"
            ],
            "image/svg+xml": "<?xml version=\"1.0\" encoding=\"UTF-8\" standalone=\"no\"?>\n<!DOCTYPE svg PUBLIC \"-//W3C//DTD SVG 1.1//EN\"\n \"http://www.w3.org/Graphics/SVG/1.1/DTD/svg11.dtd\">\n<!-- Generated by graphviz version 2.40.1 (20161225.0304)\n -->\n<!-- Title: %3 Pages: 1 -->\n<svg width=\"973pt\" height=\"342pt\"\n viewBox=\"0.00 0.00 973.00 342.00\" xmlns=\"http://www.w3.org/2000/svg\" xmlns:xlink=\"http://www.w3.org/1999/xlink\">\n<g id=\"graph0\" class=\"graph\" transform=\"scale(1 1) rotate(0) translate(4 338)\">\n<title>%3</title>\n<polygon fill=\"#ffffff\" stroke=\"transparent\" points=\"-4,4 -4,-338 969,-338 969,4 -4,4\"/>\n<!-- 140417358942736 -->\n<g id=\"node1\" class=\"node\">\n<title>140417358942736</title>\n<polygon fill=\"none\" stroke=\"#000000\" points=\"439,-220.5 439,-289.5 530,-289.5 530,-220.5 439,-220.5\"/>\n<text text-anchor=\"middle\" x=\"484.5\" y=\"-274.3\" font-family=\"Times,serif\" font-size=\"14.00\" fill=\"#000000\">b</text>\n<polyline fill=\"none\" stroke=\"#000000\" points=\"439,-266.5 530,-266.5 \"/>\n<text text-anchor=\"middle\" x=\"484.5\" y=\"-251.3\" font-family=\"Times,serif\" font-size=\"14.00\" fill=\"#000000\">data: 6.8813</text>\n<polyline fill=\"none\" stroke=\"#000000\" points=\"439,-243.5 530,-243.5 \"/>\n<text text-anchor=\"middle\" x=\"484.5\" y=\"-228.3\" font-family=\"Times,serif\" font-size=\"14.00\" fill=\"#000000\">grad: 0.0000</text>\n</g>\n<!-- 140417358943632+ -->\n<g id=\"node15\" class=\"node\">\n<title>140417358943632+</title>\n<ellipse fill=\"none\" stroke=\"#000000\" cx=\"594\" cy=\"-211\" rx=\"27\" ry=\"18\"/>\n<text text-anchor=\"middle\" x=\"594\" y=\"-207.3\" font-family=\"Times,serif\" font-size=\"14.00\" fill=\"#000000\">+</text>\n</g>\n<!-- 140417358942736&#45;&gt;140417358943632+ -->\n<g id=\"edge6\" class=\"edge\">\n<title>140417358942736&#45;&gt;140417358943632+</title>\n<path fill=\"none\" stroke=\"#000000\" d=\"M530.3034,-236.595C540.7644,-232.3915 551.6733,-228.008 561.4463,-224.0809\"/>\n<polygon fill=\"#000000\" stroke=\"#000000\" points=\"562.8081,-227.3058 570.7821,-220.3296 560.1981,-220.8105 562.8081,-227.3058\"/>\n</g>\n<!-- 140417358942288 -->\n<g id=\"node2\" class=\"node\">\n<title>140417358942288</title>\n<polygon fill=\"none\" stroke=\"#000000\" points=\"1,-264.5 1,-333.5 92,-333.5 92,-264.5 1,-264.5\"/>\n<text text-anchor=\"middle\" x=\"46.5\" y=\"-318.3\" font-family=\"Times,serif\" font-size=\"14.00\" fill=\"#000000\">x2</text>\n<polyline fill=\"none\" stroke=\"#000000\" points=\"1,-310.5 92,-310.5 \"/>\n<text text-anchor=\"middle\" x=\"46.5\" y=\"-295.3\" font-family=\"Times,serif\" font-size=\"14.00\" fill=\"#000000\">data: 0.0000</text>\n<polyline fill=\"none\" stroke=\"#000000\" points=\"1,-287.5 92,-287.5 \"/>\n<text text-anchor=\"middle\" x=\"46.5\" y=\"-272.3\" font-family=\"Times,serif\" font-size=\"14.00\" fill=\"#000000\">grad: 0.0000</text>\n</g>\n<!-- 140417358943120* -->\n<g id=\"node5\" class=\"node\">\n<title>140417358943120*</title>\n<ellipse fill=\"none\" stroke=\"#000000\" cx=\"156\" cy=\"-211\" rx=\"27\" ry=\"18\"/>\n<text text-anchor=\"middle\" x=\"156\" y=\"-207.3\" font-family=\"Times,serif\" font-size=\"14.00\" fill=\"#000000\">*</text>\n</g>\n<!-- 140417358942288&#45;&gt;140417358943120* -->\n<g id=\"edge11\" class=\"edge\">\n<title>140417358942288&#45;&gt;140417358943120*</title>\n<path fill=\"none\" stroke=\"#000000\" d=\"M89.463,-264.4726C103.386,-253.2834 118.3766,-241.2361 130.5978,-231.4145\"/>\n<polygon fill=\"#000000\" stroke=\"#000000\" points=\"132.9667,-234.001 138.569,-225.0085 128.5817,-228.5446 132.9667,-234.001\"/>\n</g>\n<!-- 140417358942608 -->\n<g id=\"node3\" class=\"node\">\n<title>140417358942608</title>\n<polygon fill=\"none\" stroke=\"#000000\" points=\"1,-176.5 1,-245.5 92,-245.5 92,-176.5 1,-176.5\"/>\n<text text-anchor=\"middle\" x=\"46.5\" y=\"-230.3\" font-family=\"Times,serif\" font-size=\"14.00\" fill=\"#000000\">w2</text>\n<polyline fill=\"none\" stroke=\"#000000\" points=\"1,-222.5 92,-222.5 \"/>\n<text text-anchor=\"middle\" x=\"46.5\" y=\"-207.3\" font-family=\"Times,serif\" font-size=\"14.00\" fill=\"#000000\">data: 1.0000</text>\n<polyline fill=\"none\" stroke=\"#000000\" points=\"1,-199.5 92,-199.5 \"/>\n<text text-anchor=\"middle\" x=\"46.5\" y=\"-184.3\" font-family=\"Times,serif\" font-size=\"14.00\" fill=\"#000000\">grad: 0.0000</text>\n</g>\n<!-- 140417358942608&#45;&gt;140417358943120* -->\n<g id=\"edge9\" class=\"edge\">\n<title>140417358942608&#45;&gt;140417358943120*</title>\n<path fill=\"none\" stroke=\"#000000\" d=\"M92.3034,-211C101.1363,-211 110.2885,-211 118.8066,-211\"/>\n<polygon fill=\"#000000\" stroke=\"#000000\" points=\"118.8183,-214.5001 128.8183,-211 118.8183,-207.5001 118.8183,-214.5001\"/>\n</g>\n<!-- 140417358943120 -->\n<g id=\"node4\" class=\"node\">\n<title>140417358943120</title>\n<polygon fill=\"none\" stroke=\"#000000\" points=\"220,-176.5 220,-245.5 311,-245.5 311,-176.5 220,-176.5\"/>\n<text text-anchor=\"middle\" x=\"265.5\" y=\"-230.3\" font-family=\"Times,serif\" font-size=\"14.00\" fill=\"#000000\">x2*w2</text>\n<polyline fill=\"none\" stroke=\"#000000\" points=\"220,-222.5 311,-222.5 \"/>\n<text text-anchor=\"middle\" x=\"265.5\" y=\"-207.3\" font-family=\"Times,serif\" font-size=\"14.00\" fill=\"#000000\">data: 0.0000</text>\n<polyline fill=\"none\" stroke=\"#000000\" points=\"220,-199.5 311,-199.5 \"/>\n<text text-anchor=\"middle\" x=\"265.5\" y=\"-184.3\" font-family=\"Times,serif\" font-size=\"14.00\" fill=\"#000000\">grad: 0.0000</text>\n</g>\n<!-- 140417358943376+ -->\n<g id=\"node9\" class=\"node\">\n<title>140417358943376+</title>\n<ellipse fill=\"none\" stroke=\"#000000\" cx=\"375\" cy=\"-167\" rx=\"27\" ry=\"18\"/>\n<text text-anchor=\"middle\" x=\"375\" y=\"-163.3\" font-family=\"Times,serif\" font-size=\"14.00\" fill=\"#000000\">+</text>\n</g>\n<!-- 140417358943120&#45;&gt;140417358943376+ -->\n<g id=\"edge13\" class=\"edge\">\n<title>140417358943120&#45;&gt;140417358943376+</title>\n<path fill=\"none\" stroke=\"#000000\" d=\"M311.3034,-192.595C321.7644,-188.3915 332.6733,-184.008 342.4463,-180.0809\"/>\n<polygon fill=\"#000000\" stroke=\"#000000\" points=\"343.8081,-183.3058 351.7821,-176.3296 341.1981,-176.8105 343.8081,-183.3058\"/>\n</g>\n<!-- 140417358943120*&#45;&gt;140417358943120 -->\n<g id=\"edge1\" class=\"edge\">\n<title>140417358943120*&#45;&gt;140417358943120</title>\n<path fill=\"none\" stroke=\"#000000\" d=\"M183.0674,-211C191.2531,-211 200.5591,-211 209.8982,-211\"/>\n<polygon fill=\"#000000\" stroke=\"#000000\" points=\"209.9937,-214.5001 219.9936,-211 209.9936,-207.5001 209.9937,-214.5001\"/>\n</g>\n<!-- 140417358943888 -->\n<g id=\"node6\" class=\"node\">\n<title>140417358943888</title>\n<polygon fill=\"none\" stroke=\"#000000\" points=\"874,-176.5 874,-245.5 965,-245.5 965,-176.5 874,-176.5\"/>\n<text text-anchor=\"middle\" x=\"919.5\" y=\"-230.3\" font-family=\"Times,serif\" font-size=\"14.00\" fill=\"#000000\">output</text>\n<polyline fill=\"none\" stroke=\"#000000\" points=\"874,-222.5 965,-222.5 \"/>\n<text text-anchor=\"middle\" x=\"919.5\" y=\"-207.3\" font-family=\"Times,serif\" font-size=\"14.00\" fill=\"#000000\">data: 0.7071</text>\n<polyline fill=\"none\" stroke=\"#000000\" points=\"874,-199.5 965,-199.5 \"/>\n<text text-anchor=\"middle\" x=\"919.5\" y=\"-184.3\" font-family=\"Times,serif\" font-size=\"14.00\" fill=\"#000000\">grad: 0.0000</text>\n</g>\n<!-- 140417358943888tanh -->\n<g id=\"node7\" class=\"node\">\n<title>140417358943888tanh</title>\n<ellipse fill=\"none\" stroke=\"#000000\" cx=\"811\" cy=\"-211\" rx=\"27\" ry=\"18\"/>\n<text text-anchor=\"middle\" x=\"811\" y=\"-207.3\" font-family=\"Times,serif\" font-size=\"14.00\" fill=\"#000000\">tanh</text>\n</g>\n<!-- 140417358943888tanh&#45;&gt;140417358943888 -->\n<g id=\"edge2\" class=\"edge\">\n<title>140417358943888tanh&#45;&gt;140417358943888</title>\n<path fill=\"none\" stroke=\"#000000\" d=\"M838.0992,-211C845.9432,-211 854.8075,-211 863.7268,-211\"/>\n<polygon fill=\"#000000\" stroke=\"#000000\" points=\"863.7688,-214.5001 873.7688,-211 863.7687,-207.5001 863.7688,-214.5001\"/>\n</g>\n<!-- 140417358943376 -->\n<g id=\"node8\" class=\"node\">\n<title>140417358943376</title>\n<polygon fill=\"none\" stroke=\"#000000\" points=\"438,-132.5 438,-201.5 531,-201.5 531,-132.5 438,-132.5\"/>\n<text text-anchor=\"middle\" x=\"484.5\" y=\"-186.3\" font-family=\"Times,serif\" font-size=\"14.00\" fill=\"#000000\">x1w1+x2w2</text>\n<polyline fill=\"none\" stroke=\"#000000\" points=\"438,-178.5 531,-178.5 \"/>\n<text text-anchor=\"middle\" x=\"484.5\" y=\"-163.3\" font-family=\"Times,serif\" font-size=\"14.00\" fill=\"#000000\">data: &#45;6.0000</text>\n<polyline fill=\"none\" stroke=\"#000000\" points=\"438,-155.5 531,-155.5 \"/>\n<text text-anchor=\"middle\" x=\"484.5\" y=\"-140.3\" font-family=\"Times,serif\" font-size=\"14.00\" fill=\"#000000\">grad: 0.0000</text>\n</g>\n<!-- 140417358943376&#45;&gt;140417358943632+ -->\n<g id=\"edge10\" class=\"edge\">\n<title>140417358943376&#45;&gt;140417358943632+</title>\n<path fill=\"none\" stroke=\"#000000\" d=\"M531.2555,-185.7876C541.3508,-189.8441 551.8166,-194.0496 561.2402,-197.8362\"/>\n<polygon fill=\"#000000\" stroke=\"#000000\" points=\"560.04,-201.1259 570.6239,-201.6069 562.65,-194.6307 560.04,-201.1259\"/>\n</g>\n<!-- 140417358943376+&#45;&gt;140417358943376 -->\n<g id=\"edge3\" class=\"edge\">\n<title>140417358943376+&#45;&gt;140417358943376</title>\n<path fill=\"none\" stroke=\"#000000\" d=\"M402.0674,-167C409.8899,-167 418.7356,-167 427.6555,-167\"/>\n<polygon fill=\"#000000\" stroke=\"#000000\" points=\"427.7073,-170.5001 437.7073,-167 427.7073,-163.5001 427.7073,-170.5001\"/>\n</g>\n<!-- 140417358942352 -->\n<g id=\"node10\" class=\"node\">\n<title>140417358942352</title>\n<polygon fill=\"none\" stroke=\"#000000\" points=\"1,-88.5 1,-157.5 92,-157.5 92,-88.5 1,-88.5\"/>\n<text text-anchor=\"middle\" x=\"46.5\" y=\"-142.3\" font-family=\"Times,serif\" font-size=\"14.00\" fill=\"#000000\">x1</text>\n<polyline fill=\"none\" stroke=\"#000000\" points=\"1,-134.5 92,-134.5 \"/>\n<text text-anchor=\"middle\" x=\"46.5\" y=\"-119.3\" font-family=\"Times,serif\" font-size=\"14.00\" fill=\"#000000\">data: 2.0000</text>\n<polyline fill=\"none\" stroke=\"#000000\" points=\"1,-111.5 92,-111.5 \"/>\n<text text-anchor=\"middle\" x=\"46.5\" y=\"-96.3\" font-family=\"Times,serif\" font-size=\"14.00\" fill=\"#000000\">grad: 0.0000</text>\n</g>\n<!-- 140417358942544* -->\n<g id=\"node13\" class=\"node\">\n<title>140417358942544*</title>\n<ellipse fill=\"none\" stroke=\"#000000\" cx=\"156\" cy=\"-123\" rx=\"27\" ry=\"18\"/>\n<text text-anchor=\"middle\" x=\"156\" y=\"-119.3\" font-family=\"Times,serif\" font-size=\"14.00\" fill=\"#000000\">*</text>\n</g>\n<!-- 140417358942352&#45;&gt;140417358942544* -->\n<g id=\"edge8\" class=\"edge\">\n<title>140417358942352&#45;&gt;140417358942544*</title>\n<path fill=\"none\" stroke=\"#000000\" d=\"M92.3034,-123C101.1363,-123 110.2885,-123 118.8066,-123\"/>\n<polygon fill=\"#000000\" stroke=\"#000000\" points=\"118.8183,-126.5001 128.8183,-123 118.8183,-119.5001 118.8183,-126.5001\"/>\n</g>\n<!-- 140417358942416 -->\n<g id=\"node11\" class=\"node\">\n<title>140417358942416</title>\n<polygon fill=\"none\" stroke=\"#000000\" points=\"0,-.5 0,-69.5 93,-69.5 93,-.5 0,-.5\"/>\n<text text-anchor=\"middle\" x=\"46.5\" y=\"-54.3\" font-family=\"Times,serif\" font-size=\"14.00\" fill=\"#000000\">w1</text>\n<polyline fill=\"none\" stroke=\"#000000\" points=\"0,-46.5 93,-46.5 \"/>\n<text text-anchor=\"middle\" x=\"46.5\" y=\"-31.3\" font-family=\"Times,serif\" font-size=\"14.00\" fill=\"#000000\">data: &#45;3.0000</text>\n<polyline fill=\"none\" stroke=\"#000000\" points=\"0,-23.5 93,-23.5 \"/>\n<text text-anchor=\"middle\" x=\"46.5\" y=\"-8.3\" font-family=\"Times,serif\" font-size=\"14.00\" fill=\"#000000\">grad: 0.0000</text>\n</g>\n<!-- 140417358942416&#45;&gt;140417358942544* -->\n<g id=\"edge14\" class=\"edge\">\n<title>140417358942416&#45;&gt;140417358942544*</title>\n<path fill=\"none\" stroke=\"#000000\" d=\"M89.463,-69.5274C103.386,-80.7166 118.3766,-92.7639 130.5978,-102.5855\"/>\n<polygon fill=\"#000000\" stroke=\"#000000\" points=\"128.5817,-105.4554 138.569,-108.9915 132.9667,-99.999 128.5817,-105.4554\"/>\n</g>\n<!-- 140417358942544 -->\n<g id=\"node12\" class=\"node\">\n<title>140417358942544</title>\n<polygon fill=\"none\" stroke=\"#000000\" points=\"219,-88.5 219,-157.5 312,-157.5 312,-88.5 219,-88.5\"/>\n<text text-anchor=\"middle\" x=\"265.5\" y=\"-142.3\" font-family=\"Times,serif\" font-size=\"14.00\" fill=\"#000000\">x1*w1</text>\n<polyline fill=\"none\" stroke=\"#000000\" points=\"219,-134.5 312,-134.5 \"/>\n<text text-anchor=\"middle\" x=\"265.5\" y=\"-119.3\" font-family=\"Times,serif\" font-size=\"14.00\" fill=\"#000000\">data: &#45;6.0000</text>\n<polyline fill=\"none\" stroke=\"#000000\" points=\"219,-111.5 312,-111.5 \"/>\n<text text-anchor=\"middle\" x=\"265.5\" y=\"-96.3\" font-family=\"Times,serif\" font-size=\"14.00\" fill=\"#000000\">grad: 0.0000</text>\n</g>\n<!-- 140417358942544&#45;&gt;140417358943376+ -->\n<g id=\"edge12\" class=\"edge\">\n<title>140417358942544&#45;&gt;140417358943376+</title>\n<path fill=\"none\" stroke=\"#000000\" d=\"M312.2555,-141.7876C322.3508,-145.8441 332.8166,-150.0496 342.2402,-153.8362\"/>\n<polygon fill=\"#000000\" stroke=\"#000000\" points=\"341.04,-157.1259 351.6239,-157.6069 343.65,-150.6307 341.04,-157.1259\"/>\n</g>\n<!-- 140417358942544*&#45;&gt;140417358942544 -->\n<g id=\"edge4\" class=\"edge\">\n<title>140417358942544*&#45;&gt;140417358942544</title>\n<path fill=\"none\" stroke=\"#000000\" d=\"M183.0674,-123C190.8899,-123 199.7356,-123 208.6555,-123\"/>\n<polygon fill=\"#000000\" stroke=\"#000000\" points=\"208.7073,-126.5001 218.7073,-123 208.7073,-119.5001 208.7073,-126.5001\"/>\n</g>\n<!-- 140417358943632 -->\n<g id=\"node14\" class=\"node\">\n<title>140417358943632</title>\n<polygon fill=\"none\" stroke=\"#000000\" points=\"657,-176.5 657,-245.5 748,-245.5 748,-176.5 657,-176.5\"/>\n<text text-anchor=\"middle\" x=\"702.5\" y=\"-230.3\" font-family=\"Times,serif\" font-size=\"14.00\" fill=\"#000000\">n</text>\n<polyline fill=\"none\" stroke=\"#000000\" points=\"657,-222.5 748,-222.5 \"/>\n<text text-anchor=\"middle\" x=\"702.5\" y=\"-207.3\" font-family=\"Times,serif\" font-size=\"14.00\" fill=\"#000000\">data: 0.8813</text>\n<polyline fill=\"none\" stroke=\"#000000\" points=\"657,-199.5 748,-199.5 \"/>\n<text text-anchor=\"middle\" x=\"702.5\" y=\"-184.3\" font-family=\"Times,serif\" font-size=\"14.00\" fill=\"#000000\">grad: 0.0000</text>\n</g>\n<!-- 140417358943632&#45;&gt;140417358943888tanh -->\n<g id=\"edge7\" class=\"edge\">\n<title>140417358943632&#45;&gt;140417358943888tanh</title>\n<path fill=\"none\" stroke=\"#000000\" d=\"M748.1993,-211C756.7508,-211 765.593,-211 773.8471,-211\"/>\n<polygon fill=\"#000000\" stroke=\"#000000\" points=\"773.9215,-214.5001 783.9215,-211 773.9215,-207.5001 773.9215,-214.5001\"/>\n</g>\n<!-- 140417358943632+&#45;&gt;140417358943632 -->\n<g id=\"edge5\" class=\"edge\">\n<title>140417358943632+&#45;&gt;140417358943632</title>\n<path fill=\"none\" stroke=\"#000000\" d=\"M621.0992,-211C628.9432,-211 637.8075,-211 646.7268,-211\"/>\n<polygon fill=\"#000000\" stroke=\"#000000\" points=\"646.7688,-214.5001 656.7688,-211 646.7687,-207.5001 646.7688,-214.5001\"/>\n</g>\n</g>\n</svg>\n"
          },
          "metadata": {},
          "execution_count": 6
        }
      ]
    },
    {
      "cell_type": "markdown",
      "source": [
        "# Automatic Backpropagation"
      ],
      "metadata": {
        "id": "k6GYS4h5fe43"
      }
    },
    {
      "cell_type": "code",
      "source": [
        "# backprop\n",
        "\n",
        "o.grad = 1.0\n",
        "\n",
        "for node in reversed(topo):\n",
        "    node._backward()"
      ],
      "metadata": {
        "id": "rTXMq3Mwfck2"
      },
      "execution_count": 7,
      "outputs": []
    },
    {
      "cell_type": "code",
      "source": [
        "draw_dot(o)"
      ],
      "metadata": {
        "colab": {
          "base_uri": "https://localhost:8080/",
          "height": 497
        },
        "id": "Yyj7izPQflOK",
        "outputId": "8cb3902a-d81f-4e2c-aeaa-781dfff4b444"
      },
      "execution_count": 8,
      "outputs": [
        {
          "output_type": "execute_result",
          "data": {
            "text/plain": [
              "<graphviz.dot.Digraph at 0x7fb576c5e150>"
            ],
            "image/svg+xml": "<?xml version=\"1.0\" encoding=\"UTF-8\" standalone=\"no\"?>\n<!DOCTYPE svg PUBLIC \"-//W3C//DTD SVG 1.1//EN\"\n \"http://www.w3.org/Graphics/SVG/1.1/DTD/svg11.dtd\">\n<!-- Generated by graphviz version 2.40.1 (20161225.0304)\n -->\n<!-- Title: %3 Pages: 1 -->\n<svg width=\"975pt\" height=\"342pt\"\n viewBox=\"0.00 0.00 975.00 342.00\" xmlns=\"http://www.w3.org/2000/svg\" xmlns:xlink=\"http://www.w3.org/1999/xlink\">\n<g id=\"graph0\" class=\"graph\" transform=\"scale(1 1) rotate(0) translate(4 338)\">\n<title>%3</title>\n<polygon fill=\"#ffffff\" stroke=\"transparent\" points=\"-4,4 -4,-338 971,-338 971,4 -4,4\"/>\n<!-- 140417358942736 -->\n<g id=\"node1\" class=\"node\">\n<title>140417358942736</title>\n<polygon fill=\"none\" stroke=\"#000000\" points=\"441,-220.5 441,-289.5 532,-289.5 532,-220.5 441,-220.5\"/>\n<text text-anchor=\"middle\" x=\"486.5\" y=\"-274.3\" font-family=\"Times,serif\" font-size=\"14.00\" fill=\"#000000\">b</text>\n<polyline fill=\"none\" stroke=\"#000000\" points=\"441,-266.5 532,-266.5 \"/>\n<text text-anchor=\"middle\" x=\"486.5\" y=\"-251.3\" font-family=\"Times,serif\" font-size=\"14.00\" fill=\"#000000\">data: 6.8813</text>\n<polyline fill=\"none\" stroke=\"#000000\" points=\"441,-243.5 532,-243.5 \"/>\n<text text-anchor=\"middle\" x=\"486.5\" y=\"-228.3\" font-family=\"Times,serif\" font-size=\"14.00\" fill=\"#000000\">grad: 0.5001</text>\n</g>\n<!-- 140417358943632+ -->\n<g id=\"node15\" class=\"node\">\n<title>140417358943632+</title>\n<ellipse fill=\"none\" stroke=\"#000000\" cx=\"596\" cy=\"-211\" rx=\"27\" ry=\"18\"/>\n<text text-anchor=\"middle\" x=\"596\" y=\"-207.3\" font-family=\"Times,serif\" font-size=\"14.00\" fill=\"#000000\">+</text>\n</g>\n<!-- 140417358942736&#45;&gt;140417358943632+ -->\n<g id=\"edge6\" class=\"edge\">\n<title>140417358942736&#45;&gt;140417358943632+</title>\n<path fill=\"none\" stroke=\"#000000\" d=\"M532.3034,-236.595C542.7644,-232.3915 553.6733,-228.008 563.4463,-224.0809\"/>\n<polygon fill=\"#000000\" stroke=\"#000000\" points=\"564.8081,-227.3058 572.7821,-220.3296 562.1981,-220.8105 564.8081,-227.3058\"/>\n</g>\n<!-- 140417358942288 -->\n<g id=\"node2\" class=\"node\">\n<title>140417358942288</title>\n<polygon fill=\"none\" stroke=\"#000000\" points=\"2,-264.5 2,-333.5 93,-333.5 93,-264.5 2,-264.5\"/>\n<text text-anchor=\"middle\" x=\"47.5\" y=\"-318.3\" font-family=\"Times,serif\" font-size=\"14.00\" fill=\"#000000\">x2</text>\n<polyline fill=\"none\" stroke=\"#000000\" points=\"2,-310.5 93,-310.5 \"/>\n<text text-anchor=\"middle\" x=\"47.5\" y=\"-295.3\" font-family=\"Times,serif\" font-size=\"14.00\" fill=\"#000000\">data: 0.0000</text>\n<polyline fill=\"none\" stroke=\"#000000\" points=\"2,-287.5 93,-287.5 \"/>\n<text text-anchor=\"middle\" x=\"47.5\" y=\"-272.3\" font-family=\"Times,serif\" font-size=\"14.00\" fill=\"#000000\">grad: 0.5001</text>\n</g>\n<!-- 140417358943120* -->\n<g id=\"node5\" class=\"node\">\n<title>140417358943120*</title>\n<ellipse fill=\"none\" stroke=\"#000000\" cx=\"158\" cy=\"-211\" rx=\"27\" ry=\"18\"/>\n<text text-anchor=\"middle\" x=\"158\" y=\"-207.3\" font-family=\"Times,serif\" font-size=\"14.00\" fill=\"#000000\">*</text>\n</g>\n<!-- 140417358942288&#45;&gt;140417358943120* -->\n<g id=\"edge11\" class=\"edge\">\n<title>140417358942288&#45;&gt;140417358943120*</title>\n<path fill=\"none\" stroke=\"#000000\" d=\"M90.8554,-264.4726C104.9055,-253.2834 120.033,-241.2361 132.3658,-231.4145\"/>\n<polygon fill=\"#000000\" stroke=\"#000000\" points=\"134.7677,-233.976 140.4098,-225.0085 130.4069,-228.5003 134.7677,-233.976\"/>\n</g>\n<!-- 140417358942608 -->\n<g id=\"node3\" class=\"node\">\n<title>140417358942608</title>\n<polygon fill=\"none\" stroke=\"#000000\" points=\"2,-176.5 2,-245.5 93,-245.5 93,-176.5 2,-176.5\"/>\n<text text-anchor=\"middle\" x=\"47.5\" y=\"-230.3\" font-family=\"Times,serif\" font-size=\"14.00\" fill=\"#000000\">w2</text>\n<polyline fill=\"none\" stroke=\"#000000\" points=\"2,-222.5 93,-222.5 \"/>\n<text text-anchor=\"middle\" x=\"47.5\" y=\"-207.3\" font-family=\"Times,serif\" font-size=\"14.00\" fill=\"#000000\">data: 1.0000</text>\n<polyline fill=\"none\" stroke=\"#000000\" points=\"2,-199.5 93,-199.5 \"/>\n<text text-anchor=\"middle\" x=\"47.5\" y=\"-184.3\" font-family=\"Times,serif\" font-size=\"14.00\" fill=\"#000000\">grad: 0.0000</text>\n</g>\n<!-- 140417358942608&#45;&gt;140417358943120* -->\n<g id=\"edge9\" class=\"edge\">\n<title>140417358942608&#45;&gt;140417358943120*</title>\n<path fill=\"none\" stroke=\"#000000\" d=\"M93.0825,-211C102.3122,-211 111.9133,-211 120.812,-211\"/>\n<polygon fill=\"#000000\" stroke=\"#000000\" points=\"120.8714,-214.5001 130.8714,-211 120.8714,-207.5001 120.8714,-214.5001\"/>\n</g>\n<!-- 140417358943120 -->\n<g id=\"node4\" class=\"node\">\n<title>140417358943120</title>\n<polygon fill=\"none\" stroke=\"#000000\" points=\"222,-176.5 222,-245.5 313,-245.5 313,-176.5 222,-176.5\"/>\n<text text-anchor=\"middle\" x=\"267.5\" y=\"-230.3\" font-family=\"Times,serif\" font-size=\"14.00\" fill=\"#000000\">x2*w2</text>\n<polyline fill=\"none\" stroke=\"#000000\" points=\"222,-222.5 313,-222.5 \"/>\n<text text-anchor=\"middle\" x=\"267.5\" y=\"-207.3\" font-family=\"Times,serif\" font-size=\"14.00\" fill=\"#000000\">data: 0.0000</text>\n<polyline fill=\"none\" stroke=\"#000000\" points=\"222,-199.5 313,-199.5 \"/>\n<text text-anchor=\"middle\" x=\"267.5\" y=\"-184.3\" font-family=\"Times,serif\" font-size=\"14.00\" fill=\"#000000\">grad: 0.5001</text>\n</g>\n<!-- 140417358943376+ -->\n<g id=\"node9\" class=\"node\">\n<title>140417358943376+</title>\n<ellipse fill=\"none\" stroke=\"#000000\" cx=\"377\" cy=\"-167\" rx=\"27\" ry=\"18\"/>\n<text text-anchor=\"middle\" x=\"377\" y=\"-163.3\" font-family=\"Times,serif\" font-size=\"14.00\" fill=\"#000000\">+</text>\n</g>\n<!-- 140417358943120&#45;&gt;140417358943376+ -->\n<g id=\"edge13\" class=\"edge\">\n<title>140417358943120&#45;&gt;140417358943376+</title>\n<path fill=\"none\" stroke=\"#000000\" d=\"M313.3034,-192.595C323.7644,-188.3915 334.6733,-184.008 344.4463,-180.0809\"/>\n<polygon fill=\"#000000\" stroke=\"#000000\" points=\"345.8081,-183.3058 353.7821,-176.3296 343.1981,-176.8105 345.8081,-183.3058\"/>\n</g>\n<!-- 140417358943120*&#45;&gt;140417358943120 -->\n<g id=\"edge1\" class=\"edge\">\n<title>140417358943120*&#45;&gt;140417358943120</title>\n<path fill=\"none\" stroke=\"#000000\" d=\"M185.0674,-211C193.2531,-211 202.5591,-211 211.8982,-211\"/>\n<polygon fill=\"#000000\" stroke=\"#000000\" points=\"211.9937,-214.5001 221.9936,-211 211.9936,-207.5001 211.9937,-214.5001\"/>\n</g>\n<!-- 140417358943888 -->\n<g id=\"node6\" class=\"node\">\n<title>140417358943888</title>\n<polygon fill=\"none\" stroke=\"#000000\" points=\"876,-176.5 876,-245.5 967,-245.5 967,-176.5 876,-176.5\"/>\n<text text-anchor=\"middle\" x=\"921.5\" y=\"-230.3\" font-family=\"Times,serif\" font-size=\"14.00\" fill=\"#000000\">output</text>\n<polyline fill=\"none\" stroke=\"#000000\" points=\"876,-222.5 967,-222.5 \"/>\n<text text-anchor=\"middle\" x=\"921.5\" y=\"-207.3\" font-family=\"Times,serif\" font-size=\"14.00\" fill=\"#000000\">data: 0.7071</text>\n<polyline fill=\"none\" stroke=\"#000000\" points=\"876,-199.5 967,-199.5 \"/>\n<text text-anchor=\"middle\" x=\"921.5\" y=\"-184.3\" font-family=\"Times,serif\" font-size=\"14.00\" fill=\"#000000\">grad: 1.0000</text>\n</g>\n<!-- 140417358943888tanh -->\n<g id=\"node7\" class=\"node\">\n<title>140417358943888tanh</title>\n<ellipse fill=\"none\" stroke=\"#000000\" cx=\"813\" cy=\"-211\" rx=\"27\" ry=\"18\"/>\n<text text-anchor=\"middle\" x=\"813\" y=\"-207.3\" font-family=\"Times,serif\" font-size=\"14.00\" fill=\"#000000\">tanh</text>\n</g>\n<!-- 140417358943888tanh&#45;&gt;140417358943888 -->\n<g id=\"edge2\" class=\"edge\">\n<title>140417358943888tanh&#45;&gt;140417358943888</title>\n<path fill=\"none\" stroke=\"#000000\" d=\"M840.0992,-211C847.9432,-211 856.8075,-211 865.7268,-211\"/>\n<polygon fill=\"#000000\" stroke=\"#000000\" points=\"865.7688,-214.5001 875.7688,-211 865.7687,-207.5001 865.7688,-214.5001\"/>\n</g>\n<!-- 140417358943376 -->\n<g id=\"node8\" class=\"node\">\n<title>140417358943376</title>\n<polygon fill=\"none\" stroke=\"#000000\" points=\"440,-132.5 440,-201.5 533,-201.5 533,-132.5 440,-132.5\"/>\n<text text-anchor=\"middle\" x=\"486.5\" y=\"-186.3\" font-family=\"Times,serif\" font-size=\"14.00\" fill=\"#000000\">x1w1+x2w2</text>\n<polyline fill=\"none\" stroke=\"#000000\" points=\"440,-178.5 533,-178.5 \"/>\n<text text-anchor=\"middle\" x=\"486.5\" y=\"-163.3\" font-family=\"Times,serif\" font-size=\"14.00\" fill=\"#000000\">data: &#45;6.0000</text>\n<polyline fill=\"none\" stroke=\"#000000\" points=\"440,-155.5 533,-155.5 \"/>\n<text text-anchor=\"middle\" x=\"486.5\" y=\"-140.3\" font-family=\"Times,serif\" font-size=\"14.00\" fill=\"#000000\">grad: 0.5001</text>\n</g>\n<!-- 140417358943376&#45;&gt;140417358943632+ -->\n<g id=\"edge10\" class=\"edge\">\n<title>140417358943376&#45;&gt;140417358943632+</title>\n<path fill=\"none\" stroke=\"#000000\" d=\"M533.2555,-185.7876C543.3508,-189.8441 553.8166,-194.0496 563.2402,-197.8362\"/>\n<polygon fill=\"#000000\" stroke=\"#000000\" points=\"562.04,-201.1259 572.6239,-201.6069 564.65,-194.6307 562.04,-201.1259\"/>\n</g>\n<!-- 140417358943376+&#45;&gt;140417358943376 -->\n<g id=\"edge3\" class=\"edge\">\n<title>140417358943376+&#45;&gt;140417358943376</title>\n<path fill=\"none\" stroke=\"#000000\" d=\"M404.0674,-167C411.8899,-167 420.7356,-167 429.6555,-167\"/>\n<polygon fill=\"#000000\" stroke=\"#000000\" points=\"429.7073,-170.5001 439.7073,-167 429.7073,-163.5001 429.7073,-170.5001\"/>\n</g>\n<!-- 140417358942352 -->\n<g id=\"node10\" class=\"node\">\n<title>140417358942352</title>\n<polygon fill=\"none\" stroke=\"#000000\" points=\"0,-88.5 0,-157.5 95,-157.5 95,-88.5 0,-88.5\"/>\n<text text-anchor=\"middle\" x=\"47.5\" y=\"-142.3\" font-family=\"Times,serif\" font-size=\"14.00\" fill=\"#000000\">x1</text>\n<polyline fill=\"none\" stroke=\"#000000\" points=\"0,-134.5 95,-134.5 \"/>\n<text text-anchor=\"middle\" x=\"47.5\" y=\"-119.3\" font-family=\"Times,serif\" font-size=\"14.00\" fill=\"#000000\">data: 2.0000</text>\n<polyline fill=\"none\" stroke=\"#000000\" points=\"0,-111.5 95,-111.5 \"/>\n<text text-anchor=\"middle\" x=\"47.5\" y=\"-96.3\" font-family=\"Times,serif\" font-size=\"14.00\" fill=\"#000000\">grad: &#45;1.5002</text>\n</g>\n<!-- 140417358942544* -->\n<g id=\"node13\" class=\"node\">\n<title>140417358942544*</title>\n<ellipse fill=\"none\" stroke=\"#000000\" cx=\"158\" cy=\"-123\" rx=\"27\" ry=\"18\"/>\n<text text-anchor=\"middle\" x=\"158\" y=\"-119.3\" font-family=\"Times,serif\" font-size=\"14.00\" fill=\"#000000\">*</text>\n</g>\n<!-- 140417358942352&#45;&gt;140417358942544* -->\n<g id=\"edge8\" class=\"edge\">\n<title>140417358942352&#45;&gt;140417358942544*</title>\n<path fill=\"none\" stroke=\"#000000\" d=\"M95.0032,-123C103.6403,-123 112.5351,-123 120.8206,-123\"/>\n<polygon fill=\"#000000\" stroke=\"#000000\" points=\"120.9245,-126.5001 130.9245,-123 120.9244,-119.5001 120.9245,-126.5001\"/>\n</g>\n<!-- 140417358942416 -->\n<g id=\"node11\" class=\"node\">\n<title>140417358942416</title>\n<polygon fill=\"none\" stroke=\"#000000\" points=\"1,-.5 1,-69.5 94,-69.5 94,-.5 1,-.5\"/>\n<text text-anchor=\"middle\" x=\"47.5\" y=\"-54.3\" font-family=\"Times,serif\" font-size=\"14.00\" fill=\"#000000\">w1</text>\n<polyline fill=\"none\" stroke=\"#000000\" points=\"1,-46.5 94,-46.5 \"/>\n<text text-anchor=\"middle\" x=\"47.5\" y=\"-31.3\" font-family=\"Times,serif\" font-size=\"14.00\" fill=\"#000000\">data: &#45;3.0000</text>\n<polyline fill=\"none\" stroke=\"#000000\" points=\"1,-23.5 94,-23.5 \"/>\n<text text-anchor=\"middle\" x=\"47.5\" y=\"-8.3\" font-family=\"Times,serif\" font-size=\"14.00\" fill=\"#000000\">grad: 1.0001</text>\n</g>\n<!-- 140417358942416&#45;&gt;140417358942544* -->\n<g id=\"edge14\" class=\"edge\">\n<title>140417358942416&#45;&gt;140417358942544*</title>\n<path fill=\"none\" stroke=\"#000000\" d=\"M90.8554,-69.5274C104.9055,-80.7166 120.033,-92.7639 132.3658,-102.5855\"/>\n<polygon fill=\"#000000\" stroke=\"#000000\" points=\"130.4069,-105.4997 140.4098,-108.9915 134.7677,-100.024 130.4069,-105.4997\"/>\n</g>\n<!-- 140417358942544 -->\n<g id=\"node12\" class=\"node\">\n<title>140417358942544</title>\n<polygon fill=\"none\" stroke=\"#000000\" points=\"221,-88.5 221,-157.5 314,-157.5 314,-88.5 221,-88.5\"/>\n<text text-anchor=\"middle\" x=\"267.5\" y=\"-142.3\" font-family=\"Times,serif\" font-size=\"14.00\" fill=\"#000000\">x1*w1</text>\n<polyline fill=\"none\" stroke=\"#000000\" points=\"221,-134.5 314,-134.5 \"/>\n<text text-anchor=\"middle\" x=\"267.5\" y=\"-119.3\" font-family=\"Times,serif\" font-size=\"14.00\" fill=\"#000000\">data: &#45;6.0000</text>\n<polyline fill=\"none\" stroke=\"#000000\" points=\"221,-111.5 314,-111.5 \"/>\n<text text-anchor=\"middle\" x=\"267.5\" y=\"-96.3\" font-family=\"Times,serif\" font-size=\"14.00\" fill=\"#000000\">grad: 0.5001</text>\n</g>\n<!-- 140417358942544&#45;&gt;140417358943376+ -->\n<g id=\"edge12\" class=\"edge\">\n<title>140417358942544&#45;&gt;140417358943376+</title>\n<path fill=\"none\" stroke=\"#000000\" d=\"M314.2555,-141.7876C324.3508,-145.8441 334.8166,-150.0496 344.2402,-153.8362\"/>\n<polygon fill=\"#000000\" stroke=\"#000000\" points=\"343.04,-157.1259 353.6239,-157.6069 345.65,-150.6307 343.04,-157.1259\"/>\n</g>\n<!-- 140417358942544*&#45;&gt;140417358942544 -->\n<g id=\"edge4\" class=\"edge\">\n<title>140417358942544*&#45;&gt;140417358942544</title>\n<path fill=\"none\" stroke=\"#000000\" d=\"M185.0674,-123C192.8899,-123 201.7356,-123 210.6555,-123\"/>\n<polygon fill=\"#000000\" stroke=\"#000000\" points=\"210.7073,-126.5001 220.7073,-123 210.7073,-119.5001 210.7073,-126.5001\"/>\n</g>\n<!-- 140417358943632 -->\n<g id=\"node14\" class=\"node\">\n<title>140417358943632</title>\n<polygon fill=\"none\" stroke=\"#000000\" points=\"659,-176.5 659,-245.5 750,-245.5 750,-176.5 659,-176.5\"/>\n<text text-anchor=\"middle\" x=\"704.5\" y=\"-230.3\" font-family=\"Times,serif\" font-size=\"14.00\" fill=\"#000000\">n</text>\n<polyline fill=\"none\" stroke=\"#000000\" points=\"659,-222.5 750,-222.5 \"/>\n<text text-anchor=\"middle\" x=\"704.5\" y=\"-207.3\" font-family=\"Times,serif\" font-size=\"14.00\" fill=\"#000000\">data: 0.8813</text>\n<polyline fill=\"none\" stroke=\"#000000\" points=\"659,-199.5 750,-199.5 \"/>\n<text text-anchor=\"middle\" x=\"704.5\" y=\"-184.3\" font-family=\"Times,serif\" font-size=\"14.00\" fill=\"#000000\">grad: 0.5001</text>\n</g>\n<!-- 140417358943632&#45;&gt;140417358943888tanh -->\n<g id=\"edge7\" class=\"edge\">\n<title>140417358943632&#45;&gt;140417358943888tanh</title>\n<path fill=\"none\" stroke=\"#000000\" d=\"M750.1993,-211C758.7508,-211 767.593,-211 775.8471,-211\"/>\n<polygon fill=\"#000000\" stroke=\"#000000\" points=\"775.9215,-214.5001 785.9215,-211 775.9215,-207.5001 775.9215,-214.5001\"/>\n</g>\n<!-- 140417358943632+&#45;&gt;140417358943632 -->\n<g id=\"edge5\" class=\"edge\">\n<title>140417358943632+&#45;&gt;140417358943632</title>\n<path fill=\"none\" stroke=\"#000000\" d=\"M623.0992,-211C630.9432,-211 639.8075,-211 648.7268,-211\"/>\n<polygon fill=\"#000000\" stroke=\"#000000\" points=\"648.7688,-214.5001 658.7688,-211 648.7687,-207.5001 648.7688,-214.5001\"/>\n</g>\n</g>\n</svg>\n"
          },
          "metadata": {},
          "execution_count": 8
        }
      ]
    },
    {
      "cell_type": "markdown",
      "source": [
        "# Wrapping the sort and backward call in Value class"
      ],
      "metadata": {
        "id": "lo_clEfTf5Xj"
      }
    },
    {
      "cell_type": "code",
      "source": [
        "class Value:\n",
        "    \n",
        "    def __init__(self,data, _children = (), _op='', label=''):\n",
        "        self.data = data\n",
        "        \n",
        "        self.grad = 0.0\n",
        "        # function which will backpropagate\n",
        "        # based on chain rule\n",
        "        self._backward = lambda : None\n",
        "        \n",
        "        self._prev = set(_children)\n",
        "        self._op = _op\n",
        "        self.label = label\n",
        "\n",
        "    \n",
        "    def __repr__(self):\n",
        "        return f\"Value(data={self.data})\"\n",
        "\n",
        "    def __add__(self, other):\n",
        "        out = Value(self.data + other.data, (self, other), '+')\n",
        "\n",
        "        def _backward():\n",
        "            self.grad = 1.0 * out.grad\n",
        "            other.grad = 1.0 * out.grad\n",
        "\n",
        "        out._backward = _backward\n",
        "\n",
        "        return out\n",
        "\n",
        "    def __mul__(self, other):\n",
        "        out = Value(self.data * other.data, (self, other), '*')\n",
        "\n",
        "        def _backward():\n",
        "            self.grad = other.data * out.grad\n",
        "            other.grad = self.data * out.grad\n",
        "\n",
        "        out._backward = _backward\n",
        "\n",
        "        return out\n",
        "\n",
        "    def tanh(self):\n",
        "        n = self.data\n",
        "        t = (math.exp(2*n) - 1) / (math.exp(2*n) + 1)\n",
        "        out = Value(t, (self, ), 'tanh')\n",
        "\n",
        "        def _backward():\n",
        "            self.grad = (1 - t**2) * out.grad\n",
        "\n",
        "        out._backward = _backward\n",
        "\n",
        "        return out\n",
        "\n",
        "    def backward(self):\n",
        "\n",
        "        topo = []\n",
        "        visited = set()\n",
        "        def build_topo(v):\n",
        "            if v not in visited:\n",
        "                visited.add(v)\n",
        "                for child in v._prev:\n",
        "                    build_topo(child)\n",
        "                topo.append(v)\n",
        "        build_topo(self)\n",
        "\n",
        "\n",
        "        self.grad = 1.0\n",
        "        for node in reversed(topo):\n",
        "            node._backward()"
      ],
      "metadata": {
        "id": "N_QSJubQf_J9"
      },
      "execution_count": 9,
      "outputs": []
    },
    {
      "cell_type": "code",
      "source": [
        "# 2D input:\n",
        "\n",
        "x1 = Value(2.0, label='x1')\n",
        "x2 = Value(0.0, label='x2')\n",
        "\n",
        "# Weights for each input\n",
        "w1 = Value(-3.0, label='w1')\n",
        "w2 = Value(1.0, label='w2')\n",
        "\n",
        "# bias\n",
        "b = Value(6.8813, label='b')\n",
        "\n",
        "# output\n",
        "x1w1 = x1*w1\n",
        "x1w1.label = 'x1*w1'\n",
        "\n",
        "x2w2 = x2*w2\n",
        "x2w2.label = 'x2*w2'\n",
        "\n",
        "x1w1x2w2 = x1w1+x2w2\n",
        "x1w1x2w2.label = 'x1w1+x2w2'\n",
        "\n",
        "n = x1w1x2w2 + b\n",
        "n.label = 'n'\n",
        "\n",
        "o = n.tanh()\n",
        "o.label = 'output'"
      ],
      "metadata": {
        "id": "v3Iu3esXgjfP"
      },
      "execution_count": 10,
      "outputs": []
    },
    {
      "cell_type": "code",
      "source": [
        "draw_dot(o)"
      ],
      "metadata": {
        "colab": {
          "base_uri": "https://localhost:8080/",
          "height": 497
        },
        "id": "y2qAj8QQgm_z",
        "outputId": "ce4ad9c3-ddaf-426f-be92-898a3e31374f"
      },
      "execution_count": 11,
      "outputs": [
        {
          "output_type": "execute_result",
          "data": {
            "text/plain": [
              "<graphviz.dot.Digraph at 0x7fb576c5e750>"
            ],
            "image/svg+xml": "<?xml version=\"1.0\" encoding=\"UTF-8\" standalone=\"no\"?>\n<!DOCTYPE svg PUBLIC \"-//W3C//DTD SVG 1.1//EN\"\n \"http://www.w3.org/Graphics/SVG/1.1/DTD/svg11.dtd\">\n<!-- Generated by graphviz version 2.40.1 (20161225.0304)\n -->\n<!-- Title: %3 Pages: 1 -->\n<svg width=\"973pt\" height=\"342pt\"\n viewBox=\"0.00 0.00 973.00 342.00\" xmlns=\"http://www.w3.org/2000/svg\" xmlns:xlink=\"http://www.w3.org/1999/xlink\">\n<g id=\"graph0\" class=\"graph\" transform=\"scale(1 1) rotate(0) translate(4 338)\">\n<title>%3</title>\n<polygon fill=\"#ffffff\" stroke=\"transparent\" points=\"-4,4 -4,-338 969,-338 969,4 -4,4\"/>\n<!-- 140417358603344 -->\n<g id=\"node1\" class=\"node\">\n<title>140417358603344</title>\n<polygon fill=\"none\" stroke=\"#000000\" points=\"438,-132.5 438,-201.5 531,-201.5 531,-132.5 438,-132.5\"/>\n<text text-anchor=\"middle\" x=\"484.5\" y=\"-186.3\" font-family=\"Times,serif\" font-size=\"14.00\" fill=\"#000000\">x1w1+x2w2</text>\n<polyline fill=\"none\" stroke=\"#000000\" points=\"438,-178.5 531,-178.5 \"/>\n<text text-anchor=\"middle\" x=\"484.5\" y=\"-163.3\" font-family=\"Times,serif\" font-size=\"14.00\" fill=\"#000000\">data: &#45;6.0000</text>\n<polyline fill=\"none\" stroke=\"#000000\" points=\"438,-155.5 531,-155.5 \"/>\n<text text-anchor=\"middle\" x=\"484.5\" y=\"-140.3\" font-family=\"Times,serif\" font-size=\"14.00\" fill=\"#000000\">grad: 0.0000</text>\n</g>\n<!-- 140417358603600+ -->\n<g id=\"node12\" class=\"node\">\n<title>140417358603600+</title>\n<ellipse fill=\"none\" stroke=\"#000000\" cx=\"594\" cy=\"-211\" rx=\"27\" ry=\"18\"/>\n<text text-anchor=\"middle\" x=\"594\" y=\"-207.3\" font-family=\"Times,serif\" font-size=\"14.00\" fill=\"#000000\">+</text>\n</g>\n<!-- 140417358603344&#45;&gt;140417358603600+ -->\n<g id=\"edge10\" class=\"edge\">\n<title>140417358603344&#45;&gt;140417358603600+</title>\n<path fill=\"none\" stroke=\"#000000\" d=\"M531.2555,-185.7876C541.3508,-189.8441 551.8166,-194.0496 561.2402,-197.8362\"/>\n<polygon fill=\"#000000\" stroke=\"#000000\" points=\"560.04,-201.1259 570.6239,-201.6069 562.65,-194.6307 560.04,-201.1259\"/>\n</g>\n<!-- 140417358603344+ -->\n<g id=\"node2\" class=\"node\">\n<title>140417358603344+</title>\n<ellipse fill=\"none\" stroke=\"#000000\" cx=\"375\" cy=\"-167\" rx=\"27\" ry=\"18\"/>\n<text text-anchor=\"middle\" x=\"375\" y=\"-163.3\" font-family=\"Times,serif\" font-size=\"14.00\" fill=\"#000000\">+</text>\n</g>\n<!-- 140417358603344+&#45;&gt;140417358603344 -->\n<g id=\"edge1\" class=\"edge\">\n<title>140417358603344+&#45;&gt;140417358603344</title>\n<path fill=\"none\" stroke=\"#000000\" d=\"M402.0674,-167C409.8899,-167 418.7356,-167 427.6555,-167\"/>\n<polygon fill=\"#000000\" stroke=\"#000000\" points=\"427.7073,-170.5001 437.7073,-167 427.7073,-163.5001 427.7073,-170.5001\"/>\n</g>\n<!-- 140417358603856 -->\n<g id=\"node3\" class=\"node\">\n<title>140417358603856</title>\n<polygon fill=\"none\" stroke=\"#000000\" points=\"874,-176.5 874,-245.5 965,-245.5 965,-176.5 874,-176.5\"/>\n<text text-anchor=\"middle\" x=\"919.5\" y=\"-230.3\" font-family=\"Times,serif\" font-size=\"14.00\" fill=\"#000000\">output</text>\n<polyline fill=\"none\" stroke=\"#000000\" points=\"874,-222.5 965,-222.5 \"/>\n<text text-anchor=\"middle\" x=\"919.5\" y=\"-207.3\" font-family=\"Times,serif\" font-size=\"14.00\" fill=\"#000000\">data: 0.7071</text>\n<polyline fill=\"none\" stroke=\"#000000\" points=\"874,-199.5 965,-199.5 \"/>\n<text text-anchor=\"middle\" x=\"919.5\" y=\"-184.3\" font-family=\"Times,serif\" font-size=\"14.00\" fill=\"#000000\">grad: 0.0000</text>\n</g>\n<!-- 140417358603856tanh -->\n<g id=\"node4\" class=\"node\">\n<title>140417358603856tanh</title>\n<ellipse fill=\"none\" stroke=\"#000000\" cx=\"811\" cy=\"-211\" rx=\"27\" ry=\"18\"/>\n<text text-anchor=\"middle\" x=\"811\" y=\"-207.3\" font-family=\"Times,serif\" font-size=\"14.00\" fill=\"#000000\">tanh</text>\n</g>\n<!-- 140417358603856tanh&#45;&gt;140417358603856 -->\n<g id=\"edge2\" class=\"edge\">\n<title>140417358603856tanh&#45;&gt;140417358603856</title>\n<path fill=\"none\" stroke=\"#000000\" d=\"M838.0992,-211C845.9432,-211 854.8075,-211 863.7268,-211\"/>\n<polygon fill=\"#000000\" stroke=\"#000000\" points=\"863.7688,-214.5001 873.7688,-211 863.7687,-207.5001 863.7688,-214.5001\"/>\n</g>\n<!-- 140417358602320 -->\n<g id=\"node5\" class=\"node\">\n<title>140417358602320</title>\n<polygon fill=\"none\" stroke=\"#000000\" points=\"1,-88.5 1,-157.5 92,-157.5 92,-88.5 1,-88.5\"/>\n<text text-anchor=\"middle\" x=\"46.5\" y=\"-142.3\" font-family=\"Times,serif\" font-size=\"14.00\" fill=\"#000000\">x2</text>\n<polyline fill=\"none\" stroke=\"#000000\" points=\"1,-134.5 92,-134.5 \"/>\n<text text-anchor=\"middle\" x=\"46.5\" y=\"-119.3\" font-family=\"Times,serif\" font-size=\"14.00\" fill=\"#000000\">data: 0.0000</text>\n<polyline fill=\"none\" stroke=\"#000000\" points=\"1,-111.5 92,-111.5 \"/>\n<text text-anchor=\"middle\" x=\"46.5\" y=\"-96.3\" font-family=\"Times,serif\" font-size=\"14.00\" fill=\"#000000\">grad: 0.0000</text>\n</g>\n<!-- 140417358603152* -->\n<g id=\"node15\" class=\"node\">\n<title>140417358603152*</title>\n<ellipse fill=\"none\" stroke=\"#000000\" cx=\"156\" cy=\"-123\" rx=\"27\" ry=\"18\"/>\n<text text-anchor=\"middle\" x=\"156\" y=\"-119.3\" font-family=\"Times,serif\" font-size=\"14.00\" fill=\"#000000\">*</text>\n</g>\n<!-- 140417358602320&#45;&gt;140417358603152* -->\n<g id=\"edge9\" class=\"edge\">\n<title>140417358602320&#45;&gt;140417358603152*</title>\n<path fill=\"none\" stroke=\"#000000\" d=\"M92.3034,-123C101.1363,-123 110.2885,-123 118.8066,-123\"/>\n<polygon fill=\"#000000\" stroke=\"#000000\" points=\"118.8183,-126.5001 128.8183,-123 118.8183,-119.5001 118.8183,-126.5001\"/>\n</g>\n<!-- 140417358602384 -->\n<g id=\"node6\" class=\"node\">\n<title>140417358602384</title>\n<polygon fill=\"none\" stroke=\"#000000\" points=\"1,-264.5 1,-333.5 92,-333.5 92,-264.5 1,-264.5\"/>\n<text text-anchor=\"middle\" x=\"46.5\" y=\"-318.3\" font-family=\"Times,serif\" font-size=\"14.00\" fill=\"#000000\">x1</text>\n<polyline fill=\"none\" stroke=\"#000000\" points=\"1,-310.5 92,-310.5 \"/>\n<text text-anchor=\"middle\" x=\"46.5\" y=\"-295.3\" font-family=\"Times,serif\" font-size=\"14.00\" fill=\"#000000\">data: 2.0000</text>\n<polyline fill=\"none\" stroke=\"#000000\" points=\"1,-287.5 92,-287.5 \"/>\n<text text-anchor=\"middle\" x=\"46.5\" y=\"-272.3\" font-family=\"Times,serif\" font-size=\"14.00\" fill=\"#000000\">grad: 0.0000</text>\n</g>\n<!-- 140417358602512* -->\n<g id=\"node10\" class=\"node\">\n<title>140417358602512*</title>\n<ellipse fill=\"none\" stroke=\"#000000\" cx=\"156\" cy=\"-211\" rx=\"27\" ry=\"18\"/>\n<text text-anchor=\"middle\" x=\"156\" y=\"-207.3\" font-family=\"Times,serif\" font-size=\"14.00\" fill=\"#000000\">*</text>\n</g>\n<!-- 140417358602384&#45;&gt;140417358602512* -->\n<g id=\"edge12\" class=\"edge\">\n<title>140417358602384&#45;&gt;140417358602512*</title>\n<path fill=\"none\" stroke=\"#000000\" d=\"M89.463,-264.4726C103.386,-253.2834 118.3766,-241.2361 130.5978,-231.4145\"/>\n<polygon fill=\"#000000\" stroke=\"#000000\" points=\"132.9667,-234.001 138.569,-225.0085 128.5817,-228.5446 132.9667,-234.001\"/>\n</g>\n<!-- 140417358602960 -->\n<g id=\"node7\" class=\"node\">\n<title>140417358602960</title>\n<polygon fill=\"none\" stroke=\"#000000\" points=\"439,-220.5 439,-289.5 530,-289.5 530,-220.5 439,-220.5\"/>\n<text text-anchor=\"middle\" x=\"484.5\" y=\"-274.3\" font-family=\"Times,serif\" font-size=\"14.00\" fill=\"#000000\">b</text>\n<polyline fill=\"none\" stroke=\"#000000\" points=\"439,-266.5 530,-266.5 \"/>\n<text text-anchor=\"middle\" x=\"484.5\" y=\"-251.3\" font-family=\"Times,serif\" font-size=\"14.00\" fill=\"#000000\">data: 6.8813</text>\n<polyline fill=\"none\" stroke=\"#000000\" points=\"439,-243.5 530,-243.5 \"/>\n<text text-anchor=\"middle\" x=\"484.5\" y=\"-228.3\" font-family=\"Times,serif\" font-size=\"14.00\" fill=\"#000000\">grad: 0.0000</text>\n</g>\n<!-- 140417358602960&#45;&gt;140417358603600+ -->\n<g id=\"edge14\" class=\"edge\">\n<title>140417358602960&#45;&gt;140417358603600+</title>\n<path fill=\"none\" stroke=\"#000000\" d=\"M530.3034,-236.595C540.7644,-232.3915 551.6733,-228.008 561.4463,-224.0809\"/>\n<polygon fill=\"#000000\" stroke=\"#000000\" points=\"562.8081,-227.3058 570.7821,-220.3296 560.1981,-220.8105 562.8081,-227.3058\"/>\n</g>\n<!-- 140417358602640 -->\n<g id=\"node8\" class=\"node\">\n<title>140417358602640</title>\n<polygon fill=\"none\" stroke=\"#000000\" points=\"1,-.5 1,-69.5 92,-69.5 92,-.5 1,-.5\"/>\n<text text-anchor=\"middle\" x=\"46.5\" y=\"-54.3\" font-family=\"Times,serif\" font-size=\"14.00\" fill=\"#000000\">w2</text>\n<polyline fill=\"none\" stroke=\"#000000\" points=\"1,-46.5 92,-46.5 \"/>\n<text text-anchor=\"middle\" x=\"46.5\" y=\"-31.3\" font-family=\"Times,serif\" font-size=\"14.00\" fill=\"#000000\">data: 1.0000</text>\n<polyline fill=\"none\" stroke=\"#000000\" points=\"1,-23.5 92,-23.5 \"/>\n<text text-anchor=\"middle\" x=\"46.5\" y=\"-8.3\" font-family=\"Times,serif\" font-size=\"14.00\" fill=\"#000000\">grad: 0.0000</text>\n</g>\n<!-- 140417358602640&#45;&gt;140417358603152* -->\n<g id=\"edge8\" class=\"edge\">\n<title>140417358602640&#45;&gt;140417358603152*</title>\n<path fill=\"none\" stroke=\"#000000\" d=\"M89.463,-69.5274C103.386,-80.7166 118.3766,-92.7639 130.5978,-102.5855\"/>\n<polygon fill=\"#000000\" stroke=\"#000000\" points=\"128.5817,-105.4554 138.569,-108.9915 132.9667,-99.999 128.5817,-105.4554\"/>\n</g>\n<!-- 140417358602512 -->\n<g id=\"node9\" class=\"node\">\n<title>140417358602512</title>\n<polygon fill=\"none\" stroke=\"#000000\" points=\"219,-176.5 219,-245.5 312,-245.5 312,-176.5 219,-176.5\"/>\n<text text-anchor=\"middle\" x=\"265.5\" y=\"-230.3\" font-family=\"Times,serif\" font-size=\"14.00\" fill=\"#000000\">x1*w1</text>\n<polyline fill=\"none\" stroke=\"#000000\" points=\"219,-222.5 312,-222.5 \"/>\n<text text-anchor=\"middle\" x=\"265.5\" y=\"-207.3\" font-family=\"Times,serif\" font-size=\"14.00\" fill=\"#000000\">data: &#45;6.0000</text>\n<polyline fill=\"none\" stroke=\"#000000\" points=\"219,-199.5 312,-199.5 \"/>\n<text text-anchor=\"middle\" x=\"265.5\" y=\"-184.3\" font-family=\"Times,serif\" font-size=\"14.00\" fill=\"#000000\">grad: 0.0000</text>\n</g>\n<!-- 140417358602512&#45;&gt;140417358603344+ -->\n<g id=\"edge6\" class=\"edge\">\n<title>140417358602512&#45;&gt;140417358603344+</title>\n<path fill=\"none\" stroke=\"#000000\" d=\"M312.2555,-192.2124C322.3508,-188.1559 332.8166,-183.9504 342.2402,-180.1638\"/>\n<polygon fill=\"#000000\" stroke=\"#000000\" points=\"343.65,-183.3693 351.6239,-176.3931 341.04,-176.8741 343.65,-183.3693\"/>\n</g>\n<!-- 140417358602512*&#45;&gt;140417358602512 -->\n<g id=\"edge3\" class=\"edge\">\n<title>140417358602512*&#45;&gt;140417358602512</title>\n<path fill=\"none\" stroke=\"#000000\" d=\"M183.0674,-211C190.8899,-211 199.7356,-211 208.6555,-211\"/>\n<polygon fill=\"#000000\" stroke=\"#000000\" points=\"208.7073,-214.5001 218.7073,-211 208.7073,-207.5001 208.7073,-214.5001\"/>\n</g>\n<!-- 140417358603600 -->\n<g id=\"node11\" class=\"node\">\n<title>140417358603600</title>\n<polygon fill=\"none\" stroke=\"#000000\" points=\"657,-176.5 657,-245.5 748,-245.5 748,-176.5 657,-176.5\"/>\n<text text-anchor=\"middle\" x=\"702.5\" y=\"-230.3\" font-family=\"Times,serif\" font-size=\"14.00\" fill=\"#000000\">n</text>\n<polyline fill=\"none\" stroke=\"#000000\" points=\"657,-222.5 748,-222.5 \"/>\n<text text-anchor=\"middle\" x=\"702.5\" y=\"-207.3\" font-family=\"Times,serif\" font-size=\"14.00\" fill=\"#000000\">data: 0.8813</text>\n<polyline fill=\"none\" stroke=\"#000000\" points=\"657,-199.5 748,-199.5 \"/>\n<text text-anchor=\"middle\" x=\"702.5\" y=\"-184.3\" font-family=\"Times,serif\" font-size=\"14.00\" fill=\"#000000\">grad: 0.0000</text>\n</g>\n<!-- 140417358603600&#45;&gt;140417358603856tanh -->\n<g id=\"edge11\" class=\"edge\">\n<title>140417358603600&#45;&gt;140417358603856tanh</title>\n<path fill=\"none\" stroke=\"#000000\" d=\"M748.1993,-211C756.7508,-211 765.593,-211 773.8471,-211\"/>\n<polygon fill=\"#000000\" stroke=\"#000000\" points=\"773.9215,-214.5001 783.9215,-211 773.9215,-207.5001 773.9215,-214.5001\"/>\n</g>\n<!-- 140417358603600+&#45;&gt;140417358603600 -->\n<g id=\"edge4\" class=\"edge\">\n<title>140417358603600+&#45;&gt;140417358603600</title>\n<path fill=\"none\" stroke=\"#000000\" d=\"M621.0992,-211C628.9432,-211 637.8075,-211 646.7268,-211\"/>\n<polygon fill=\"#000000\" stroke=\"#000000\" points=\"646.7688,-214.5001 656.7688,-211 646.7687,-207.5001 646.7688,-214.5001\"/>\n</g>\n<!-- 140417358602576 -->\n<g id=\"node13\" class=\"node\">\n<title>140417358602576</title>\n<polygon fill=\"none\" stroke=\"#000000\" points=\"0,-176.5 0,-245.5 93,-245.5 93,-176.5 0,-176.5\"/>\n<text text-anchor=\"middle\" x=\"46.5\" y=\"-230.3\" font-family=\"Times,serif\" font-size=\"14.00\" fill=\"#000000\">w1</text>\n<polyline fill=\"none\" stroke=\"#000000\" points=\"0,-222.5 93,-222.5 \"/>\n<text text-anchor=\"middle\" x=\"46.5\" y=\"-207.3\" font-family=\"Times,serif\" font-size=\"14.00\" fill=\"#000000\">data: &#45;3.0000</text>\n<polyline fill=\"none\" stroke=\"#000000\" points=\"0,-199.5 93,-199.5 \"/>\n<text text-anchor=\"middle\" x=\"46.5\" y=\"-184.3\" font-family=\"Times,serif\" font-size=\"14.00\" fill=\"#000000\">grad: 0.0000</text>\n</g>\n<!-- 140417358602576&#45;&gt;140417358602512* -->\n<g id=\"edge13\" class=\"edge\">\n<title>140417358602576&#45;&gt;140417358602512*</title>\n<path fill=\"none\" stroke=\"#000000\" d=\"M93.2555,-211C101.6623,-211 110.3261,-211 118.431,-211\"/>\n<polygon fill=\"#000000\" stroke=\"#000000\" points=\"118.6951,-214.5001 128.695,-211 118.695,-207.5001 118.6951,-214.5001\"/>\n</g>\n<!-- 140417358603152 -->\n<g id=\"node14\" class=\"node\">\n<title>140417358603152</title>\n<polygon fill=\"none\" stroke=\"#000000\" points=\"220,-88.5 220,-157.5 311,-157.5 311,-88.5 220,-88.5\"/>\n<text text-anchor=\"middle\" x=\"265.5\" y=\"-142.3\" font-family=\"Times,serif\" font-size=\"14.00\" fill=\"#000000\">x2*w2</text>\n<polyline fill=\"none\" stroke=\"#000000\" points=\"220,-134.5 311,-134.5 \"/>\n<text text-anchor=\"middle\" x=\"265.5\" y=\"-119.3\" font-family=\"Times,serif\" font-size=\"14.00\" fill=\"#000000\">data: 0.0000</text>\n<polyline fill=\"none\" stroke=\"#000000\" points=\"220,-111.5 311,-111.5 \"/>\n<text text-anchor=\"middle\" x=\"265.5\" y=\"-96.3\" font-family=\"Times,serif\" font-size=\"14.00\" fill=\"#000000\">grad: 0.0000</text>\n</g>\n<!-- 140417358603152&#45;&gt;140417358603344+ -->\n<g id=\"edge7\" class=\"edge\">\n<title>140417358603152&#45;&gt;140417358603344+</title>\n<path fill=\"none\" stroke=\"#000000\" d=\"M311.3034,-141.405C321.7644,-145.6085 332.6733,-149.992 342.4463,-153.9191\"/>\n<polygon fill=\"#000000\" stroke=\"#000000\" points=\"341.1981,-157.1895 351.7821,-157.6704 343.8081,-150.6942 341.1981,-157.1895\"/>\n</g>\n<!-- 140417358603152*&#45;&gt;140417358603152 -->\n<g id=\"edge5\" class=\"edge\">\n<title>140417358603152*&#45;&gt;140417358603152</title>\n<path fill=\"none\" stroke=\"#000000\" d=\"M183.0674,-123C191.2531,-123 200.5591,-123 209.8982,-123\"/>\n<polygon fill=\"#000000\" stroke=\"#000000\" points=\"209.9937,-126.5001 219.9936,-123 209.9936,-119.5001 209.9937,-126.5001\"/>\n</g>\n</g>\n</svg>\n"
          },
          "metadata": {},
          "execution_count": 11
        }
      ]
    },
    {
      "cell_type": "code",
      "source": [
        "o.backward()"
      ],
      "metadata": {
        "id": "aKOrInLago0V"
      },
      "execution_count": 12,
      "outputs": []
    },
    {
      "cell_type": "code",
      "source": [
        "draw_dot(o)"
      ],
      "metadata": {
        "colab": {
          "base_uri": "https://localhost:8080/",
          "height": 497
        },
        "id": "73atUVQgguMc",
        "outputId": "9127bca7-7c02-4fed-b119-4a3e1cd00ca9"
      },
      "execution_count": 13,
      "outputs": [
        {
          "output_type": "execute_result",
          "data": {
            "text/plain": [
              "<graphviz.dot.Digraph at 0x7fb576c623d0>"
            ],
            "image/svg+xml": "<?xml version=\"1.0\" encoding=\"UTF-8\" standalone=\"no\"?>\n<!DOCTYPE svg PUBLIC \"-//W3C//DTD SVG 1.1//EN\"\n \"http://www.w3.org/Graphics/SVG/1.1/DTD/svg11.dtd\">\n<!-- Generated by graphviz version 2.40.1 (20161225.0304)\n -->\n<!-- Title: %3 Pages: 1 -->\n<svg width=\"975pt\" height=\"342pt\"\n viewBox=\"0.00 0.00 975.00 342.00\" xmlns=\"http://www.w3.org/2000/svg\" xmlns:xlink=\"http://www.w3.org/1999/xlink\">\n<g id=\"graph0\" class=\"graph\" transform=\"scale(1 1) rotate(0) translate(4 338)\">\n<title>%3</title>\n<polygon fill=\"#ffffff\" stroke=\"transparent\" points=\"-4,4 -4,-338 971,-338 971,4 -4,4\"/>\n<!-- 140417358603344 -->\n<g id=\"node1\" class=\"node\">\n<title>140417358603344</title>\n<polygon fill=\"none\" stroke=\"#000000\" points=\"440,-132.5 440,-201.5 533,-201.5 533,-132.5 440,-132.5\"/>\n<text text-anchor=\"middle\" x=\"486.5\" y=\"-186.3\" font-family=\"Times,serif\" font-size=\"14.00\" fill=\"#000000\">x1w1+x2w2</text>\n<polyline fill=\"none\" stroke=\"#000000\" points=\"440,-178.5 533,-178.5 \"/>\n<text text-anchor=\"middle\" x=\"486.5\" y=\"-163.3\" font-family=\"Times,serif\" font-size=\"14.00\" fill=\"#000000\">data: &#45;6.0000</text>\n<polyline fill=\"none\" stroke=\"#000000\" points=\"440,-155.5 533,-155.5 \"/>\n<text text-anchor=\"middle\" x=\"486.5\" y=\"-140.3\" font-family=\"Times,serif\" font-size=\"14.00\" fill=\"#000000\">grad: 0.5001</text>\n</g>\n<!-- 140417358603600+ -->\n<g id=\"node12\" class=\"node\">\n<title>140417358603600+</title>\n<ellipse fill=\"none\" stroke=\"#000000\" cx=\"596\" cy=\"-211\" rx=\"27\" ry=\"18\"/>\n<text text-anchor=\"middle\" x=\"596\" y=\"-207.3\" font-family=\"Times,serif\" font-size=\"14.00\" fill=\"#000000\">+</text>\n</g>\n<!-- 140417358603344&#45;&gt;140417358603600+ -->\n<g id=\"edge10\" class=\"edge\">\n<title>140417358603344&#45;&gt;140417358603600+</title>\n<path fill=\"none\" stroke=\"#000000\" d=\"M533.2555,-185.7876C543.3508,-189.8441 553.8166,-194.0496 563.2402,-197.8362\"/>\n<polygon fill=\"#000000\" stroke=\"#000000\" points=\"562.04,-201.1259 572.6239,-201.6069 564.65,-194.6307 562.04,-201.1259\"/>\n</g>\n<!-- 140417358603344+ -->\n<g id=\"node2\" class=\"node\">\n<title>140417358603344+</title>\n<ellipse fill=\"none\" stroke=\"#000000\" cx=\"377\" cy=\"-167\" rx=\"27\" ry=\"18\"/>\n<text text-anchor=\"middle\" x=\"377\" y=\"-163.3\" font-family=\"Times,serif\" font-size=\"14.00\" fill=\"#000000\">+</text>\n</g>\n<!-- 140417358603344+&#45;&gt;140417358603344 -->\n<g id=\"edge1\" class=\"edge\">\n<title>140417358603344+&#45;&gt;140417358603344</title>\n<path fill=\"none\" stroke=\"#000000\" d=\"M404.0674,-167C411.8899,-167 420.7356,-167 429.6555,-167\"/>\n<polygon fill=\"#000000\" stroke=\"#000000\" points=\"429.7073,-170.5001 439.7073,-167 429.7073,-163.5001 429.7073,-170.5001\"/>\n</g>\n<!-- 140417358603856 -->\n<g id=\"node3\" class=\"node\">\n<title>140417358603856</title>\n<polygon fill=\"none\" stroke=\"#000000\" points=\"876,-176.5 876,-245.5 967,-245.5 967,-176.5 876,-176.5\"/>\n<text text-anchor=\"middle\" x=\"921.5\" y=\"-230.3\" font-family=\"Times,serif\" font-size=\"14.00\" fill=\"#000000\">output</text>\n<polyline fill=\"none\" stroke=\"#000000\" points=\"876,-222.5 967,-222.5 \"/>\n<text text-anchor=\"middle\" x=\"921.5\" y=\"-207.3\" font-family=\"Times,serif\" font-size=\"14.00\" fill=\"#000000\">data: 0.7071</text>\n<polyline fill=\"none\" stroke=\"#000000\" points=\"876,-199.5 967,-199.5 \"/>\n<text text-anchor=\"middle\" x=\"921.5\" y=\"-184.3\" font-family=\"Times,serif\" font-size=\"14.00\" fill=\"#000000\">grad: 1.0000</text>\n</g>\n<!-- 140417358603856tanh -->\n<g id=\"node4\" class=\"node\">\n<title>140417358603856tanh</title>\n<ellipse fill=\"none\" stroke=\"#000000\" cx=\"813\" cy=\"-211\" rx=\"27\" ry=\"18\"/>\n<text text-anchor=\"middle\" x=\"813\" y=\"-207.3\" font-family=\"Times,serif\" font-size=\"14.00\" fill=\"#000000\">tanh</text>\n</g>\n<!-- 140417358603856tanh&#45;&gt;140417358603856 -->\n<g id=\"edge2\" class=\"edge\">\n<title>140417358603856tanh&#45;&gt;140417358603856</title>\n<path fill=\"none\" stroke=\"#000000\" d=\"M840.0992,-211C847.9432,-211 856.8075,-211 865.7268,-211\"/>\n<polygon fill=\"#000000\" stroke=\"#000000\" points=\"865.7688,-214.5001 875.7688,-211 865.7687,-207.5001 865.7688,-214.5001\"/>\n</g>\n<!-- 140417358602320 -->\n<g id=\"node5\" class=\"node\">\n<title>140417358602320</title>\n<polygon fill=\"none\" stroke=\"#000000\" points=\"2,-88.5 2,-157.5 93,-157.5 93,-88.5 2,-88.5\"/>\n<text text-anchor=\"middle\" x=\"47.5\" y=\"-142.3\" font-family=\"Times,serif\" font-size=\"14.00\" fill=\"#000000\">x2</text>\n<polyline fill=\"none\" stroke=\"#000000\" points=\"2,-134.5 93,-134.5 \"/>\n<text text-anchor=\"middle\" x=\"47.5\" y=\"-119.3\" font-family=\"Times,serif\" font-size=\"14.00\" fill=\"#000000\">data: 0.0000</text>\n<polyline fill=\"none\" stroke=\"#000000\" points=\"2,-111.5 93,-111.5 \"/>\n<text text-anchor=\"middle\" x=\"47.5\" y=\"-96.3\" font-family=\"Times,serif\" font-size=\"14.00\" fill=\"#000000\">grad: 0.5001</text>\n</g>\n<!-- 140417358603152* -->\n<g id=\"node15\" class=\"node\">\n<title>140417358603152*</title>\n<ellipse fill=\"none\" stroke=\"#000000\" cx=\"158\" cy=\"-123\" rx=\"27\" ry=\"18\"/>\n<text text-anchor=\"middle\" x=\"158\" y=\"-119.3\" font-family=\"Times,serif\" font-size=\"14.00\" fill=\"#000000\">*</text>\n</g>\n<!-- 140417358602320&#45;&gt;140417358603152* -->\n<g id=\"edge9\" class=\"edge\">\n<title>140417358602320&#45;&gt;140417358603152*</title>\n<path fill=\"none\" stroke=\"#000000\" d=\"M93.0825,-123C102.3122,-123 111.9133,-123 120.812,-123\"/>\n<polygon fill=\"#000000\" stroke=\"#000000\" points=\"120.8714,-126.5001 130.8714,-123 120.8714,-119.5001 120.8714,-126.5001\"/>\n</g>\n<!-- 140417358602384 -->\n<g id=\"node6\" class=\"node\">\n<title>140417358602384</title>\n<polygon fill=\"none\" stroke=\"#000000\" points=\"0,-264.5 0,-333.5 95,-333.5 95,-264.5 0,-264.5\"/>\n<text text-anchor=\"middle\" x=\"47.5\" y=\"-318.3\" font-family=\"Times,serif\" font-size=\"14.00\" fill=\"#000000\">x1</text>\n<polyline fill=\"none\" stroke=\"#000000\" points=\"0,-310.5 95,-310.5 \"/>\n<text text-anchor=\"middle\" x=\"47.5\" y=\"-295.3\" font-family=\"Times,serif\" font-size=\"14.00\" fill=\"#000000\">data: 2.0000</text>\n<polyline fill=\"none\" stroke=\"#000000\" points=\"0,-287.5 95,-287.5 \"/>\n<text text-anchor=\"middle\" x=\"47.5\" y=\"-272.3\" font-family=\"Times,serif\" font-size=\"14.00\" fill=\"#000000\">grad: &#45;1.5002</text>\n</g>\n<!-- 140417358602512* -->\n<g id=\"node10\" class=\"node\">\n<title>140417358602512*</title>\n<ellipse fill=\"none\" stroke=\"#000000\" cx=\"158\" cy=\"-211\" rx=\"27\" ry=\"18\"/>\n<text text-anchor=\"middle\" x=\"158\" y=\"-207.3\" font-family=\"Times,serif\" font-size=\"14.00\" fill=\"#000000\">*</text>\n</g>\n<!-- 140417358602384&#45;&gt;140417358602512* -->\n<g id=\"edge12\" class=\"edge\">\n<title>140417358602384&#45;&gt;140417358602512*</title>\n<path fill=\"none\" stroke=\"#000000\" d=\"M90.8554,-264.4726C104.9055,-253.2834 120.033,-241.2361 132.3658,-231.4145\"/>\n<polygon fill=\"#000000\" stroke=\"#000000\" points=\"134.7677,-233.976 140.4098,-225.0085 130.4069,-228.5003 134.7677,-233.976\"/>\n</g>\n<!-- 140417358602960 -->\n<g id=\"node7\" class=\"node\">\n<title>140417358602960</title>\n<polygon fill=\"none\" stroke=\"#000000\" points=\"441,-220.5 441,-289.5 532,-289.5 532,-220.5 441,-220.5\"/>\n<text text-anchor=\"middle\" x=\"486.5\" y=\"-274.3\" font-family=\"Times,serif\" font-size=\"14.00\" fill=\"#000000\">b</text>\n<polyline fill=\"none\" stroke=\"#000000\" points=\"441,-266.5 532,-266.5 \"/>\n<text text-anchor=\"middle\" x=\"486.5\" y=\"-251.3\" font-family=\"Times,serif\" font-size=\"14.00\" fill=\"#000000\">data: 6.8813</text>\n<polyline fill=\"none\" stroke=\"#000000\" points=\"441,-243.5 532,-243.5 \"/>\n<text text-anchor=\"middle\" x=\"486.5\" y=\"-228.3\" font-family=\"Times,serif\" font-size=\"14.00\" fill=\"#000000\">grad: 0.5001</text>\n</g>\n<!-- 140417358602960&#45;&gt;140417358603600+ -->\n<g id=\"edge14\" class=\"edge\">\n<title>140417358602960&#45;&gt;140417358603600+</title>\n<path fill=\"none\" stroke=\"#000000\" d=\"M532.3034,-236.595C542.7644,-232.3915 553.6733,-228.008 563.4463,-224.0809\"/>\n<polygon fill=\"#000000\" stroke=\"#000000\" points=\"564.8081,-227.3058 572.7821,-220.3296 562.1981,-220.8105 564.8081,-227.3058\"/>\n</g>\n<!-- 140417358602640 -->\n<g id=\"node8\" class=\"node\">\n<title>140417358602640</title>\n<polygon fill=\"none\" stroke=\"#000000\" points=\"2,-.5 2,-69.5 93,-69.5 93,-.5 2,-.5\"/>\n<text text-anchor=\"middle\" x=\"47.5\" y=\"-54.3\" font-family=\"Times,serif\" font-size=\"14.00\" fill=\"#000000\">w2</text>\n<polyline fill=\"none\" stroke=\"#000000\" points=\"2,-46.5 93,-46.5 \"/>\n<text text-anchor=\"middle\" x=\"47.5\" y=\"-31.3\" font-family=\"Times,serif\" font-size=\"14.00\" fill=\"#000000\">data: 1.0000</text>\n<polyline fill=\"none\" stroke=\"#000000\" points=\"2,-23.5 93,-23.5 \"/>\n<text text-anchor=\"middle\" x=\"47.5\" y=\"-8.3\" font-family=\"Times,serif\" font-size=\"14.00\" fill=\"#000000\">grad: 0.0000</text>\n</g>\n<!-- 140417358602640&#45;&gt;140417358603152* -->\n<g id=\"edge8\" class=\"edge\">\n<title>140417358602640&#45;&gt;140417358603152*</title>\n<path fill=\"none\" stroke=\"#000000\" d=\"M90.8554,-69.5274C104.9055,-80.7166 120.033,-92.7639 132.3658,-102.5855\"/>\n<polygon fill=\"#000000\" stroke=\"#000000\" points=\"130.4069,-105.4997 140.4098,-108.9915 134.7677,-100.024 130.4069,-105.4997\"/>\n</g>\n<!-- 140417358602512 -->\n<g id=\"node9\" class=\"node\">\n<title>140417358602512</title>\n<polygon fill=\"none\" stroke=\"#000000\" points=\"221,-176.5 221,-245.5 314,-245.5 314,-176.5 221,-176.5\"/>\n<text text-anchor=\"middle\" x=\"267.5\" y=\"-230.3\" font-family=\"Times,serif\" font-size=\"14.00\" fill=\"#000000\">x1*w1</text>\n<polyline fill=\"none\" stroke=\"#000000\" points=\"221,-222.5 314,-222.5 \"/>\n<text text-anchor=\"middle\" x=\"267.5\" y=\"-207.3\" font-family=\"Times,serif\" font-size=\"14.00\" fill=\"#000000\">data: &#45;6.0000</text>\n<polyline fill=\"none\" stroke=\"#000000\" points=\"221,-199.5 314,-199.5 \"/>\n<text text-anchor=\"middle\" x=\"267.5\" y=\"-184.3\" font-family=\"Times,serif\" font-size=\"14.00\" fill=\"#000000\">grad: 0.5001</text>\n</g>\n<!-- 140417358602512&#45;&gt;140417358603344+ -->\n<g id=\"edge6\" class=\"edge\">\n<title>140417358602512&#45;&gt;140417358603344+</title>\n<path fill=\"none\" stroke=\"#000000\" d=\"M314.2555,-192.2124C324.3508,-188.1559 334.8166,-183.9504 344.2402,-180.1638\"/>\n<polygon fill=\"#000000\" stroke=\"#000000\" points=\"345.65,-183.3693 353.6239,-176.3931 343.04,-176.8741 345.65,-183.3693\"/>\n</g>\n<!-- 140417358602512*&#45;&gt;140417358602512 -->\n<g id=\"edge3\" class=\"edge\">\n<title>140417358602512*&#45;&gt;140417358602512</title>\n<path fill=\"none\" stroke=\"#000000\" d=\"M185.0674,-211C192.8899,-211 201.7356,-211 210.6555,-211\"/>\n<polygon fill=\"#000000\" stroke=\"#000000\" points=\"210.7073,-214.5001 220.7073,-211 210.7073,-207.5001 210.7073,-214.5001\"/>\n</g>\n<!-- 140417358603600 -->\n<g id=\"node11\" class=\"node\">\n<title>140417358603600</title>\n<polygon fill=\"none\" stroke=\"#000000\" points=\"659,-176.5 659,-245.5 750,-245.5 750,-176.5 659,-176.5\"/>\n<text text-anchor=\"middle\" x=\"704.5\" y=\"-230.3\" font-family=\"Times,serif\" font-size=\"14.00\" fill=\"#000000\">n</text>\n<polyline fill=\"none\" stroke=\"#000000\" points=\"659,-222.5 750,-222.5 \"/>\n<text text-anchor=\"middle\" x=\"704.5\" y=\"-207.3\" font-family=\"Times,serif\" font-size=\"14.00\" fill=\"#000000\">data: 0.8813</text>\n<polyline fill=\"none\" stroke=\"#000000\" points=\"659,-199.5 750,-199.5 \"/>\n<text text-anchor=\"middle\" x=\"704.5\" y=\"-184.3\" font-family=\"Times,serif\" font-size=\"14.00\" fill=\"#000000\">grad: 0.5001</text>\n</g>\n<!-- 140417358603600&#45;&gt;140417358603856tanh -->\n<g id=\"edge11\" class=\"edge\">\n<title>140417358603600&#45;&gt;140417358603856tanh</title>\n<path fill=\"none\" stroke=\"#000000\" d=\"M750.1993,-211C758.7508,-211 767.593,-211 775.8471,-211\"/>\n<polygon fill=\"#000000\" stroke=\"#000000\" points=\"775.9215,-214.5001 785.9215,-211 775.9215,-207.5001 775.9215,-214.5001\"/>\n</g>\n<!-- 140417358603600+&#45;&gt;140417358603600 -->\n<g id=\"edge4\" class=\"edge\">\n<title>140417358603600+&#45;&gt;140417358603600</title>\n<path fill=\"none\" stroke=\"#000000\" d=\"M623.0992,-211C630.9432,-211 639.8075,-211 648.7268,-211\"/>\n<polygon fill=\"#000000\" stroke=\"#000000\" points=\"648.7688,-214.5001 658.7688,-211 648.7687,-207.5001 648.7688,-214.5001\"/>\n</g>\n<!-- 140417358602576 -->\n<g id=\"node13\" class=\"node\">\n<title>140417358602576</title>\n<polygon fill=\"none\" stroke=\"#000000\" points=\"1,-176.5 1,-245.5 94,-245.5 94,-176.5 1,-176.5\"/>\n<text text-anchor=\"middle\" x=\"47.5\" y=\"-230.3\" font-family=\"Times,serif\" font-size=\"14.00\" fill=\"#000000\">w1</text>\n<polyline fill=\"none\" stroke=\"#000000\" points=\"1,-222.5 94,-222.5 \"/>\n<text text-anchor=\"middle\" x=\"47.5\" y=\"-207.3\" font-family=\"Times,serif\" font-size=\"14.00\" fill=\"#000000\">data: &#45;3.0000</text>\n<polyline fill=\"none\" stroke=\"#000000\" points=\"1,-199.5 94,-199.5 \"/>\n<text text-anchor=\"middle\" x=\"47.5\" y=\"-184.3\" font-family=\"Times,serif\" font-size=\"14.00\" fill=\"#000000\">grad: 1.0001</text>\n</g>\n<!-- 140417358602576&#45;&gt;140417358602512* -->\n<g id=\"edge13\" class=\"edge\">\n<title>140417358602576&#45;&gt;140417358602512*</title>\n<path fill=\"none\" stroke=\"#000000\" d=\"M94.0417,-211C102.9314,-211 112.1297,-211 120.6845,-211\"/>\n<polygon fill=\"#000000\" stroke=\"#000000\" points=\"120.7364,-214.5001 130.7364,-211 120.7363,-207.5001 120.7364,-214.5001\"/>\n</g>\n<!-- 140417358603152 -->\n<g id=\"node14\" class=\"node\">\n<title>140417358603152</title>\n<polygon fill=\"none\" stroke=\"#000000\" points=\"222,-88.5 222,-157.5 313,-157.5 313,-88.5 222,-88.5\"/>\n<text text-anchor=\"middle\" x=\"267.5\" y=\"-142.3\" font-family=\"Times,serif\" font-size=\"14.00\" fill=\"#000000\">x2*w2</text>\n<polyline fill=\"none\" stroke=\"#000000\" points=\"222,-134.5 313,-134.5 \"/>\n<text text-anchor=\"middle\" x=\"267.5\" y=\"-119.3\" font-family=\"Times,serif\" font-size=\"14.00\" fill=\"#000000\">data: 0.0000</text>\n<polyline fill=\"none\" stroke=\"#000000\" points=\"222,-111.5 313,-111.5 \"/>\n<text text-anchor=\"middle\" x=\"267.5\" y=\"-96.3\" font-family=\"Times,serif\" font-size=\"14.00\" fill=\"#000000\">grad: 0.5001</text>\n</g>\n<!-- 140417358603152&#45;&gt;140417358603344+ -->\n<g id=\"edge7\" class=\"edge\">\n<title>140417358603152&#45;&gt;140417358603344+</title>\n<path fill=\"none\" stroke=\"#000000\" d=\"M313.3034,-141.405C323.7644,-145.6085 334.6733,-149.992 344.4463,-153.9191\"/>\n<polygon fill=\"#000000\" stroke=\"#000000\" points=\"343.1981,-157.1895 353.7821,-157.6704 345.8081,-150.6942 343.1981,-157.1895\"/>\n</g>\n<!-- 140417358603152*&#45;&gt;140417358603152 -->\n<g id=\"edge5\" class=\"edge\">\n<title>140417358603152*&#45;&gt;140417358603152</title>\n<path fill=\"none\" stroke=\"#000000\" d=\"M185.0674,-123C193.2531,-123 202.5591,-123 211.8982,-123\"/>\n<polygon fill=\"#000000\" stroke=\"#000000\" points=\"211.9937,-126.5001 221.9936,-123 211.9936,-119.5001 211.9937,-126.5001\"/>\n</g>\n</g>\n</svg>\n"
          },
          "metadata": {},
          "execution_count": 13
        }
      ]
    },
    {
      "cell_type": "markdown",
      "source": [
        "___\n",
        "\n",
        "# Bug: using the same node multiple times"
      ],
      "metadata": {
        "id": "7MOgW5fwg_4D"
      }
    },
    {
      "cell_type": "code",
      "source": [
        "a = Value(3.0, label='a')\n",
        "b = a + a\n",
        "b.label = 'b'\n",
        "\n",
        "b.backward()\n",
        "draw_dot(b)"
      ],
      "metadata": {
        "colab": {
          "base_uri": "https://localhost:8080/",
          "height": 125
        },
        "id": "ny4laneKhDX7",
        "outputId": "84be9166-c776-4d22-ba5f-309907ec04f1"
      },
      "execution_count": 14,
      "outputs": [
        {
          "output_type": "execute_result",
          "data": {
            "text/plain": [
              "<graphviz.dot.Digraph at 0x7fb576c67810>"
            ],
            "image/svg+xml": "<?xml version=\"1.0\" encoding=\"UTF-8\" standalone=\"no\"?>\n<!DOCTYPE svg PUBLIC \"-//W3C//DTD SVG 1.1//EN\"\n \"http://www.w3.org/Graphics/SVG/1.1/DTD/svg11.dtd\">\n<!-- Generated by graphviz version 2.40.1 (20161225.0304)\n -->\n<!-- Title: %3 Pages: 1 -->\n<svg width=\"316pt\" height=\"78pt\"\n viewBox=\"0.00 0.00 316.00 78.00\" xmlns=\"http://www.w3.org/2000/svg\" xmlns:xlink=\"http://www.w3.org/1999/xlink\">\n<g id=\"graph0\" class=\"graph\" transform=\"scale(1 1) rotate(0) translate(4 74)\">\n<title>%3</title>\n<polygon fill=\"#ffffff\" stroke=\"transparent\" points=\"-4,4 -4,-74 312,-74 312,4 -4,4\"/>\n<!-- 140417358505488 -->\n<g id=\"node1\" class=\"node\">\n<title>140417358505488</title>\n<polygon fill=\"none\" stroke=\"#000000\" points=\"0,-.5 0,-69.5 91,-69.5 91,-.5 0,-.5\"/>\n<text text-anchor=\"middle\" x=\"45.5\" y=\"-54.3\" font-family=\"Times,serif\" font-size=\"14.00\" fill=\"#000000\">a</text>\n<polyline fill=\"none\" stroke=\"#000000\" points=\"0,-46.5 91,-46.5 \"/>\n<text text-anchor=\"middle\" x=\"45.5\" y=\"-31.3\" font-family=\"Times,serif\" font-size=\"14.00\" fill=\"#000000\">data: 3.0000</text>\n<polyline fill=\"none\" stroke=\"#000000\" points=\"0,-23.5 91,-23.5 \"/>\n<text text-anchor=\"middle\" x=\"45.5\" y=\"-8.3\" font-family=\"Times,serif\" font-size=\"14.00\" fill=\"#000000\">grad: 1.0000</text>\n</g>\n<!-- 140417358526672+ -->\n<g id=\"node3\" class=\"node\">\n<title>140417358526672+</title>\n<ellipse fill=\"none\" stroke=\"#000000\" cx=\"154\" cy=\"-35\" rx=\"27\" ry=\"18\"/>\n<text text-anchor=\"middle\" x=\"154\" y=\"-31.3\" font-family=\"Times,serif\" font-size=\"14.00\" fill=\"#000000\">+</text>\n</g>\n<!-- 140417358505488&#45;&gt;140417358526672+ -->\n<g id=\"edge2\" class=\"edge\">\n<title>140417358505488&#45;&gt;140417358526672+</title>\n<path fill=\"none\" stroke=\"#000000\" d=\"M91.1993,-35C99.7508,-35 108.593,-35 116.8471,-35\"/>\n<polygon fill=\"#000000\" stroke=\"#000000\" points=\"116.9215,-38.5001 126.9215,-35 116.9215,-31.5001 116.9215,-38.5001\"/>\n</g>\n<!-- 140417358526672 -->\n<g id=\"node2\" class=\"node\">\n<title>140417358526672</title>\n<polygon fill=\"none\" stroke=\"#000000\" points=\"217,-.5 217,-69.5 308,-69.5 308,-.5 217,-.5\"/>\n<text text-anchor=\"middle\" x=\"262.5\" y=\"-54.3\" font-family=\"Times,serif\" font-size=\"14.00\" fill=\"#000000\">b</text>\n<polyline fill=\"none\" stroke=\"#000000\" points=\"217,-46.5 308,-46.5 \"/>\n<text text-anchor=\"middle\" x=\"262.5\" y=\"-31.3\" font-family=\"Times,serif\" font-size=\"14.00\" fill=\"#000000\">data: 6.0000</text>\n<polyline fill=\"none\" stroke=\"#000000\" points=\"217,-23.5 308,-23.5 \"/>\n<text text-anchor=\"middle\" x=\"262.5\" y=\"-8.3\" font-family=\"Times,serif\" font-size=\"14.00\" fill=\"#000000\">grad: 1.0000</text>\n</g>\n<!-- 140417358526672+&#45;&gt;140417358526672 -->\n<g id=\"edge1\" class=\"edge\">\n<title>140417358526672+&#45;&gt;140417358526672</title>\n<path fill=\"none\" stroke=\"#000000\" d=\"M181.0992,-35C188.9432,-35 197.8075,-35 206.7268,-35\"/>\n<polygon fill=\"#000000\" stroke=\"#000000\" points=\"206.7688,-38.5001 216.7688,-35 206.7687,-31.5001 206.7688,-38.5001\"/>\n</g>\n</g>\n</svg>\n"
          },
          "metadata": {},
          "execution_count": 14
        }
      ]
    },
    {
      "cell_type": "markdown",
      "source": [
        "```\n",
        "b = a + a\n",
        "db/da = 1 + 1 = 2\n",
        "but in the above graph the grad = 1\n",
        "```\n",
        "\n",
        "since a is used twice, self and other in `__add__()` is the same value object so its being rewritten.\n",
        "\n",
        "so every time a variable is >1, the issue persists"
      ],
      "metadata": {
        "id": "7Cz1vf_dhT_z"
      }
    },
    {
      "cell_type": "code",
      "source": [
        "a = Value(-2.0, label = 'a')\n",
        "b = Value(3.0, label = 'b')\n",
        "d = a*b\n",
        "d.label = 'd'\n",
        "e = a+b\n",
        "e.label = 'e'\n",
        "f = d*e\n",
        "f.label = 'f'\n",
        "\n",
        "f.backward()\n",
        "draw_dot(f)"
      ],
      "metadata": {
        "colab": {
          "base_uri": "https://localhost:8080/",
          "height": 242
        },
        "id": "XxcHtGR9hoyr",
        "outputId": "283e96c3-d0ae-4890-c4ec-02b20b403967"
      },
      "execution_count": 15,
      "outputs": [
        {
          "output_type": "execute_result",
          "data": {
            "text/plain": [
              "<graphviz.dot.Digraph at 0x7fb576c74fd0>"
            ],
            "image/svg+xml": "<?xml version=\"1.0\" encoding=\"UTF-8\" standalone=\"no\"?>\n<!DOCTYPE svg PUBLIC \"-//W3C//DTD SVG 1.1//EN\"\n \"http://www.w3.org/Graphics/SVG/1.1/DTD/svg11.dtd\">\n<!-- Generated by graphviz version 2.40.1 (20161225.0304)\n -->\n<!-- Title: %3 Pages: 1 -->\n<svg width=\"543pt\" height=\"166pt\"\n viewBox=\"0.00 0.00 543.00 166.00\" xmlns=\"http://www.w3.org/2000/svg\" xmlns:xlink=\"http://www.w3.org/1999/xlink\">\n<g id=\"graph0\" class=\"graph\" transform=\"scale(1 1) rotate(0) translate(4 162)\">\n<title>%3</title>\n<polygon fill=\"#ffffff\" stroke=\"transparent\" points=\"-4,4 -4,-162 539,-162 539,4 -4,4\"/>\n<!-- 140417358585936 -->\n<g id=\"node1\" class=\"node\">\n<title>140417358585936</title>\n<polygon fill=\"none\" stroke=\"#000000\" points=\"222,-88.5 222,-157.5 315,-157.5 315,-88.5 222,-88.5\"/>\n<text text-anchor=\"middle\" x=\"268.5\" y=\"-142.3\" font-family=\"Times,serif\" font-size=\"14.00\" fill=\"#000000\">d</text>\n<polyline fill=\"none\" stroke=\"#000000\" points=\"222,-134.5 315,-134.5 \"/>\n<text text-anchor=\"middle\" x=\"268.5\" y=\"-119.3\" font-family=\"Times,serif\" font-size=\"14.00\" fill=\"#000000\">data: &#45;6.0000</text>\n<polyline fill=\"none\" stroke=\"#000000\" points=\"222,-111.5 315,-111.5 \"/>\n<text text-anchor=\"middle\" x=\"268.5\" y=\"-96.3\" font-family=\"Times,serif\" font-size=\"14.00\" fill=\"#000000\">grad: 1.0000</text>\n</g>\n<!-- 140417358586576* -->\n<g id=\"node4\" class=\"node\">\n<title>140417358586576*</title>\n<ellipse fill=\"none\" stroke=\"#000000\" cx=\"379\" cy=\"-79\" rx=\"27\" ry=\"18\"/>\n<text text-anchor=\"middle\" x=\"379\" y=\"-75.3\" font-family=\"Times,serif\" font-size=\"14.00\" fill=\"#000000\">*</text>\n</g>\n<!-- 140417358585936&#45;&gt;140417358586576* -->\n<g id=\"edge6\" class=\"edge\">\n<title>140417358585936&#45;&gt;140417358586576*</title>\n<path fill=\"none\" stroke=\"#000000\" d=\"M315.0417,-104.4676C325.57,-100.2753 336.5311,-95.9107 346.3435,-92.0035\"/>\n<polygon fill=\"#000000\" stroke=\"#000000\" points=\"347.7188,-95.2232 355.7145,-88.272 345.1291,-88.7198 347.7188,-95.2232\"/>\n</g>\n<!-- 140417358585936* -->\n<g id=\"node2\" class=\"node\">\n<title>140417358585936*</title>\n<ellipse fill=\"none\" stroke=\"#000000\" cx=\"158\" cy=\"-123\" rx=\"27\" ry=\"18\"/>\n<text text-anchor=\"middle\" x=\"158\" y=\"-119.3\" font-family=\"Times,serif\" font-size=\"14.00\" fill=\"#000000\">*</text>\n</g>\n<!-- 140417358585936*&#45;&gt;140417358585936 -->\n<g id=\"edge1\" class=\"edge\">\n<title>140417358585936*&#45;&gt;140417358585936</title>\n<path fill=\"none\" stroke=\"#000000\" d=\"M185.0313,-123C193.1957,-123 202.4838,-123 211.8263,-123\"/>\n<polygon fill=\"#000000\" stroke=\"#000000\" points=\"211.9346,-126.5001 221.9346,-123 211.9345,-119.5001 211.9346,-126.5001\"/>\n</g>\n<!-- 140417358586576 -->\n<g id=\"node3\" class=\"node\">\n<title>140417358586576</title>\n<polygon fill=\"none\" stroke=\"#000000\" points=\"442,-44.5 442,-113.5 535,-113.5 535,-44.5 442,-44.5\"/>\n<text text-anchor=\"middle\" x=\"488.5\" y=\"-98.3\" font-family=\"Times,serif\" font-size=\"14.00\" fill=\"#000000\">f</text>\n<polyline fill=\"none\" stroke=\"#000000\" points=\"442,-90.5 535,-90.5 \"/>\n<text text-anchor=\"middle\" x=\"488.5\" y=\"-75.3\" font-family=\"Times,serif\" font-size=\"14.00\" fill=\"#000000\">data: &#45;6.0000</text>\n<polyline fill=\"none\" stroke=\"#000000\" points=\"442,-67.5 535,-67.5 \"/>\n<text text-anchor=\"middle\" x=\"488.5\" y=\"-52.3\" font-family=\"Times,serif\" font-size=\"14.00\" fill=\"#000000\">grad: 1.0000</text>\n</g>\n<!-- 140417358586576*&#45;&gt;140417358586576 -->\n<g id=\"edge2\" class=\"edge\">\n<title>140417358586576*&#45;&gt;140417358586576</title>\n<path fill=\"none\" stroke=\"#000000\" d=\"M406.0674,-79C413.8899,-79 422.7356,-79 431.6555,-79\"/>\n<polygon fill=\"#000000\" stroke=\"#000000\" points=\"431.7073,-82.5001 441.7073,-79 431.7073,-75.5001 431.7073,-82.5001\"/>\n</g>\n<!-- 140417358527760 -->\n<g id=\"node5\" class=\"node\">\n<title>140417358527760</title>\n<polygon fill=\"none\" stroke=\"#000000\" points=\"0,-88.5 0,-157.5 95,-157.5 95,-88.5 0,-88.5\"/>\n<text text-anchor=\"middle\" x=\"47.5\" y=\"-142.3\" font-family=\"Times,serif\" font-size=\"14.00\" fill=\"#000000\">a</text>\n<polyline fill=\"none\" stroke=\"#000000\" points=\"0,-134.5 95,-134.5 \"/>\n<text text-anchor=\"middle\" x=\"47.5\" y=\"-119.3\" font-family=\"Times,serif\" font-size=\"14.00\" fill=\"#000000\">data: &#45;2.0000</text>\n<polyline fill=\"none\" stroke=\"#000000\" points=\"0,-111.5 95,-111.5 \"/>\n<text text-anchor=\"middle\" x=\"47.5\" y=\"-96.3\" font-family=\"Times,serif\" font-size=\"14.00\" fill=\"#000000\">grad: &#45;6.0000</text>\n</g>\n<!-- 140417358527760&#45;&gt;140417358585936* -->\n<g id=\"edge4\" class=\"edge\">\n<title>140417358527760&#45;&gt;140417358585936*</title>\n<path fill=\"none\" stroke=\"#000000\" d=\"M95.0032,-123C103.6403,-123 112.5351,-123 120.8206,-123\"/>\n<polygon fill=\"#000000\" stroke=\"#000000\" points=\"120.9245,-126.5001 130.9245,-123 120.9244,-119.5001 120.9245,-126.5001\"/>\n</g>\n<!-- 140417358586320+ -->\n<g id=\"node8\" class=\"node\">\n<title>140417358586320+</title>\n<ellipse fill=\"none\" stroke=\"#000000\" cx=\"158\" cy=\"-35\" rx=\"27\" ry=\"18\"/>\n<text text-anchor=\"middle\" x=\"158\" y=\"-31.3\" font-family=\"Times,serif\" font-size=\"14.00\" fill=\"#000000\">+</text>\n</g>\n<!-- 140417358527760&#45;&gt;140417358586320+ -->\n<g id=\"edge5\" class=\"edge\">\n<title>140417358527760&#45;&gt;140417358586320+</title>\n<path fill=\"none\" stroke=\"#000000\" d=\"M90.8554,-88.4726C104.9055,-77.2834 120.033,-65.2361 132.3658,-55.4145\"/>\n<polygon fill=\"#000000\" stroke=\"#000000\" points=\"134.7677,-57.976 140.4098,-49.0085 130.4069,-52.5003 134.7677,-57.976\"/>\n</g>\n<!-- 140417358581584 -->\n<g id=\"node6\" class=\"node\">\n<title>140417358581584</title>\n<polygon fill=\"none\" stroke=\"#000000\" points=\"0,-.5 0,-69.5 95,-69.5 95,-.5 0,-.5\"/>\n<text text-anchor=\"middle\" x=\"47.5\" y=\"-54.3\" font-family=\"Times,serif\" font-size=\"14.00\" fill=\"#000000\">b</text>\n<polyline fill=\"none\" stroke=\"#000000\" points=\"0,-46.5 95,-46.5 \"/>\n<text text-anchor=\"middle\" x=\"47.5\" y=\"-31.3\" font-family=\"Times,serif\" font-size=\"14.00\" fill=\"#000000\">data: 3.0000</text>\n<polyline fill=\"none\" stroke=\"#000000\" points=\"0,-23.5 95,-23.5 \"/>\n<text text-anchor=\"middle\" x=\"47.5\" y=\"-8.3\" font-family=\"Times,serif\" font-size=\"14.00\" fill=\"#000000\">grad: &#45;6.0000</text>\n</g>\n<!-- 140417358581584&#45;&gt;140417358585936* -->\n<g id=\"edge9\" class=\"edge\">\n<title>140417358581584&#45;&gt;140417358585936*</title>\n<path fill=\"none\" stroke=\"#000000\" d=\"M90.8554,-69.5274C104.9055,-80.7166 120.033,-92.7639 132.3658,-102.5855\"/>\n<polygon fill=\"#000000\" stroke=\"#000000\" points=\"130.4069,-105.4997 140.4098,-108.9915 134.7677,-100.024 130.4069,-105.4997\"/>\n</g>\n<!-- 140417358581584&#45;&gt;140417358586320+ -->\n<g id=\"edge7\" class=\"edge\">\n<title>140417358581584&#45;&gt;140417358586320+</title>\n<path fill=\"none\" stroke=\"#000000\" d=\"M95.0032,-35C103.6403,-35 112.5351,-35 120.8206,-35\"/>\n<polygon fill=\"#000000\" stroke=\"#000000\" points=\"120.9245,-38.5001 130.9245,-35 120.9244,-31.5001 120.9245,-38.5001\"/>\n</g>\n<!-- 140417358586320 -->\n<g id=\"node7\" class=\"node\">\n<title>140417358586320</title>\n<polygon fill=\"none\" stroke=\"#000000\" points=\"221,-.5 221,-69.5 316,-69.5 316,-.5 221,-.5\"/>\n<text text-anchor=\"middle\" x=\"268.5\" y=\"-54.3\" font-family=\"Times,serif\" font-size=\"14.00\" fill=\"#000000\">e</text>\n<polyline fill=\"none\" stroke=\"#000000\" points=\"221,-46.5 316,-46.5 \"/>\n<text text-anchor=\"middle\" x=\"268.5\" y=\"-31.3\" font-family=\"Times,serif\" font-size=\"14.00\" fill=\"#000000\">data: 1.0000</text>\n<polyline fill=\"none\" stroke=\"#000000\" points=\"221,-23.5 316,-23.5 \"/>\n<text text-anchor=\"middle\" x=\"268.5\" y=\"-8.3\" font-family=\"Times,serif\" font-size=\"14.00\" fill=\"#000000\">grad: &#45;6.0000</text>\n</g>\n<!-- 140417358586320&#45;&gt;140417358586576* -->\n<g id=\"edge8\" class=\"edge\">\n<title>140417358586320&#45;&gt;140417358586576*</title>\n<path fill=\"none\" stroke=\"#000000\" d=\"M316.0032,-53.9153C326.1621,-57.9605 336.6775,-62.1476 346.1386,-65.9149\"/>\n<polygon fill=\"#000000\" stroke=\"#000000\" points=\"344.972,-69.2176 355.5573,-69.6654 347.5616,-62.7142 344.972,-69.2176\"/>\n</g>\n<!-- 140417358586320+&#45;&gt;140417358586320 -->\n<g id=\"edge3\" class=\"edge\">\n<title>140417358586320+&#45;&gt;140417358586320</title>\n<path fill=\"none\" stroke=\"#000000\" d=\"M185.0313,-35C192.8303,-35 201.6547,-35 210.5724,-35\"/>\n<polygon fill=\"#000000\" stroke=\"#000000\" points=\"210.6306,-38.5001 220.6306,-35 210.6306,-31.5001 210.6306,-38.5001\"/>\n</g>\n</g>\n</svg>\n"
          },
          "metadata": {},
          "execution_count": 15
        }
      ]
    },
    {
      "cell_type": "markdown",
      "source": [
        "### according to the chain rule, the way to combat this problem is to accumulate gradients.\n",
        "\n",
        "So instead of setting (=) we accumulate (+=)"
      ],
      "metadata": {
        "id": "ygDGsZ1ciKhu"
      }
    },
    {
      "cell_type": "markdown",
      "source": [
        "# Correct Automatic Backpropagation"
      ],
      "metadata": {
        "id": "rbgZyMovicru"
      }
    },
    {
      "cell_type": "code",
      "source": [
        "class Value:\n",
        "    \n",
        "    def __init__(self,data, _children = (), _op='', label=''):\n",
        "        self.data = data\n",
        "        \n",
        "        self.grad = 0.0\n",
        "        # function which will backpropagate\n",
        "        # based on chain rule\n",
        "        self._backward = lambda : None\n",
        "        \n",
        "        self._prev = set(_children)\n",
        "        self._op = _op\n",
        "        self.label = label\n",
        "\n",
        "    \n",
        "    def __repr__(self):\n",
        "        return f\"Value(data={self.data})\"\n",
        "\n",
        "    def __add__(self, other):\n",
        "        out = Value(self.data + other.data, (self, other), '+')\n",
        "\n",
        "        def _backward():\n",
        "            self.grad += 1.0 * out.grad\n",
        "            other.grad += 1.0 * out.grad\n",
        "\n",
        "        out._backward = _backward\n",
        "\n",
        "        return out\n",
        "\n",
        "    def __mul__(self, other):\n",
        "        out = Value(self.data * other.data, (self, other), '*')\n",
        "\n",
        "        def _backward():\n",
        "            self.grad += other.data * out.grad\n",
        "            other.grad += self.data * out.grad\n",
        "\n",
        "        out._backward = _backward\n",
        "\n",
        "        return out\n",
        "\n",
        "    def tanh(self):\n",
        "        n = self.data\n",
        "        t = (math.exp(2*n) - 1) / (math.exp(2*n) + 1)\n",
        "        out = Value(t, (self, ), 'tanh')\n",
        "\n",
        "        def _backward():\n",
        "            self.grad += (1 - t**2) * out.grad\n",
        "\n",
        "        out._backward = _backward\n",
        "\n",
        "        return out\n",
        "\n",
        "    def backward(self):\n",
        "\n",
        "        topo = []\n",
        "        visited = set()\n",
        "        def build_topo(v):\n",
        "            if v not in visited:\n",
        "                visited.add(v)\n",
        "                for child in v._prev:\n",
        "                    build_topo(child)\n",
        "                topo.append(v)\n",
        "        build_topo(self)\n",
        "\n",
        "\n",
        "        self.grad = 1.0\n",
        "        for node in reversed(topo):\n",
        "            node._backward()"
      ],
      "metadata": {
        "id": "phQY0TCfifsY"
      },
      "execution_count": 16,
      "outputs": []
    },
    {
      "cell_type": "code",
      "source": [
        "a = Value(3.0, label='a')\n",
        "b = a + a\n",
        "b.label = 'b'\n",
        "\n",
        "b.backward()\n",
        "draw_dot(b)"
      ],
      "metadata": {
        "colab": {
          "base_uri": "https://localhost:8080/",
          "height": 125
        },
        "id": "aC2JBT7mipa4",
        "outputId": "4eafc6d9-2ced-4078-9745-0c7de9f4b8af"
      },
      "execution_count": 17,
      "outputs": [
        {
          "output_type": "execute_result",
          "data": {
            "text/plain": [
              "<graphviz.dot.Digraph at 0x7fb576c76690>"
            ],
            "image/svg+xml": "<?xml version=\"1.0\" encoding=\"UTF-8\" standalone=\"no\"?>\n<!DOCTYPE svg PUBLIC \"-//W3C//DTD SVG 1.1//EN\"\n \"http://www.w3.org/Graphics/SVG/1.1/DTD/svg11.dtd\">\n<!-- Generated by graphviz version 2.40.1 (20161225.0304)\n -->\n<!-- Title: %3 Pages: 1 -->\n<svg width=\"316pt\" height=\"78pt\"\n viewBox=\"0.00 0.00 316.00 78.00\" xmlns=\"http://www.w3.org/2000/svg\" xmlns:xlink=\"http://www.w3.org/1999/xlink\">\n<g id=\"graph0\" class=\"graph\" transform=\"scale(1 1) rotate(0) translate(4 74)\">\n<title>%3</title>\n<polygon fill=\"#ffffff\" stroke=\"transparent\" points=\"-4,4 -4,-74 312,-74 312,4 -4,4\"/>\n<!-- 140417358587920 -->\n<g id=\"node1\" class=\"node\">\n<title>140417358587920</title>\n<polygon fill=\"none\" stroke=\"#000000\" points=\"217,-.5 217,-69.5 308,-69.5 308,-.5 217,-.5\"/>\n<text text-anchor=\"middle\" x=\"262.5\" y=\"-54.3\" font-family=\"Times,serif\" font-size=\"14.00\" fill=\"#000000\">b</text>\n<polyline fill=\"none\" stroke=\"#000000\" points=\"217,-46.5 308,-46.5 \"/>\n<text text-anchor=\"middle\" x=\"262.5\" y=\"-31.3\" font-family=\"Times,serif\" font-size=\"14.00\" fill=\"#000000\">data: 6.0000</text>\n<polyline fill=\"none\" stroke=\"#000000\" points=\"217,-23.5 308,-23.5 \"/>\n<text text-anchor=\"middle\" x=\"262.5\" y=\"-8.3\" font-family=\"Times,serif\" font-size=\"14.00\" fill=\"#000000\">grad: 1.0000</text>\n</g>\n<!-- 140417358587920+ -->\n<g id=\"node2\" class=\"node\">\n<title>140417358587920+</title>\n<ellipse fill=\"none\" stroke=\"#000000\" cx=\"154\" cy=\"-35\" rx=\"27\" ry=\"18\"/>\n<text text-anchor=\"middle\" x=\"154\" y=\"-31.3\" font-family=\"Times,serif\" font-size=\"14.00\" fill=\"#000000\">+</text>\n</g>\n<!-- 140417358587920+&#45;&gt;140417358587920 -->\n<g id=\"edge1\" class=\"edge\">\n<title>140417358587920+&#45;&gt;140417358587920</title>\n<path fill=\"none\" stroke=\"#000000\" d=\"M181.0992,-35C188.9432,-35 197.8075,-35 206.7268,-35\"/>\n<polygon fill=\"#000000\" stroke=\"#000000\" points=\"206.7688,-38.5001 216.7688,-35 206.7687,-31.5001 206.7688,-38.5001\"/>\n</g>\n<!-- 140417358587600 -->\n<g id=\"node3\" class=\"node\">\n<title>140417358587600</title>\n<polygon fill=\"none\" stroke=\"#000000\" points=\"0,-.5 0,-69.5 91,-69.5 91,-.5 0,-.5\"/>\n<text text-anchor=\"middle\" x=\"45.5\" y=\"-54.3\" font-family=\"Times,serif\" font-size=\"14.00\" fill=\"#000000\">a</text>\n<polyline fill=\"none\" stroke=\"#000000\" points=\"0,-46.5 91,-46.5 \"/>\n<text text-anchor=\"middle\" x=\"45.5\" y=\"-31.3\" font-family=\"Times,serif\" font-size=\"14.00\" fill=\"#000000\">data: 3.0000</text>\n<polyline fill=\"none\" stroke=\"#000000\" points=\"0,-23.5 91,-23.5 \"/>\n<text text-anchor=\"middle\" x=\"45.5\" y=\"-8.3\" font-family=\"Times,serif\" font-size=\"14.00\" fill=\"#000000\">grad: 2.0000</text>\n</g>\n<!-- 140417358587600&#45;&gt;140417358587920+ -->\n<g id=\"edge2\" class=\"edge\">\n<title>140417358587600&#45;&gt;140417358587920+</title>\n<path fill=\"none\" stroke=\"#000000\" d=\"M91.1993,-35C99.7508,-35 108.593,-35 116.8471,-35\"/>\n<polygon fill=\"#000000\" stroke=\"#000000\" points=\"116.9215,-38.5001 126.9215,-35 116.9215,-31.5001 116.9215,-38.5001\"/>\n</g>\n</g>\n</svg>\n"
          },
          "metadata": {},
          "execution_count": 17
        }
      ]
    },
    {
      "cell_type": "code",
      "source": [
        "a = Value(-2.0, label = 'a')\n",
        "b = Value(3.0, label = 'b')\n",
        "d = a*b\n",
        "d.label = 'd'\n",
        "e = a+b\n",
        "e.label = 'e'\n",
        "f = d*e\n",
        "f.label = 'f'\n",
        "\n",
        "f.backward()\n",
        "draw_dot(f)"
      ],
      "metadata": {
        "colab": {
          "base_uri": "https://localhost:8080/",
          "height": 242
        },
        "id": "J7bKuNsOiv34",
        "outputId": "65a0cf1a-73a4-4a9c-c859-d8dc2bfc50da"
      },
      "execution_count": 18,
      "outputs": [
        {
          "output_type": "execute_result",
          "data": {
            "text/plain": [
              "<graphviz.dot.Digraph at 0x7fb576c67690>"
            ],
            "image/svg+xml": "<?xml version=\"1.0\" encoding=\"UTF-8\" standalone=\"no\"?>\n<!DOCTYPE svg PUBLIC \"-//W3C//DTD SVG 1.1//EN\"\n \"http://www.w3.org/Graphics/SVG/1.1/DTD/svg11.dtd\">\n<!-- Generated by graphviz version 2.40.1 (20161225.0304)\n -->\n<!-- Title: %3 Pages: 1 -->\n<svg width=\"543pt\" height=\"166pt\"\n viewBox=\"0.00 0.00 543.00 166.00\" xmlns=\"http://www.w3.org/2000/svg\" xmlns:xlink=\"http://www.w3.org/1999/xlink\">\n<g id=\"graph0\" class=\"graph\" transform=\"scale(1 1) rotate(0) translate(4 162)\">\n<title>%3</title>\n<polygon fill=\"#ffffff\" stroke=\"transparent\" points=\"-4,4 -4,-162 539,-162 539,4 -4,4\"/>\n<!-- 140417358525968 -->\n<g id=\"node1\" class=\"node\">\n<title>140417358525968</title>\n<polygon fill=\"none\" stroke=\"#000000\" points=\"222,-88.5 222,-157.5 315,-157.5 315,-88.5 222,-88.5\"/>\n<text text-anchor=\"middle\" x=\"268.5\" y=\"-142.3\" font-family=\"Times,serif\" font-size=\"14.00\" fill=\"#000000\">d</text>\n<polyline fill=\"none\" stroke=\"#000000\" points=\"222,-134.5 315,-134.5 \"/>\n<text text-anchor=\"middle\" x=\"268.5\" y=\"-119.3\" font-family=\"Times,serif\" font-size=\"14.00\" fill=\"#000000\">data: &#45;6.0000</text>\n<polyline fill=\"none\" stroke=\"#000000\" points=\"222,-111.5 315,-111.5 \"/>\n<text text-anchor=\"middle\" x=\"268.5\" y=\"-96.3\" font-family=\"Times,serif\" font-size=\"14.00\" fill=\"#000000\">grad: 1.0000</text>\n</g>\n<!-- 140417358525776* -->\n<g id=\"node7\" class=\"node\">\n<title>140417358525776*</title>\n<ellipse fill=\"none\" stroke=\"#000000\" cx=\"379\" cy=\"-79\" rx=\"27\" ry=\"18\"/>\n<text text-anchor=\"middle\" x=\"379\" y=\"-75.3\" font-family=\"Times,serif\" font-size=\"14.00\" fill=\"#000000\">*</text>\n</g>\n<!-- 140417358525968&#45;&gt;140417358525776* -->\n<g id=\"edge4\" class=\"edge\">\n<title>140417358525968&#45;&gt;140417358525776*</title>\n<path fill=\"none\" stroke=\"#000000\" d=\"M315.0417,-104.4676C325.57,-100.2753 336.5311,-95.9107 346.3435,-92.0035\"/>\n<polygon fill=\"#000000\" stroke=\"#000000\" points=\"347.7188,-95.2232 355.7145,-88.272 345.1291,-88.7198 347.7188,-95.2232\"/>\n</g>\n<!-- 140417358525968* -->\n<g id=\"node2\" class=\"node\">\n<title>140417358525968*</title>\n<ellipse fill=\"none\" stroke=\"#000000\" cx=\"158\" cy=\"-123\" rx=\"27\" ry=\"18\"/>\n<text text-anchor=\"middle\" x=\"158\" y=\"-119.3\" font-family=\"Times,serif\" font-size=\"14.00\" fill=\"#000000\">*</text>\n</g>\n<!-- 140417358525968*&#45;&gt;140417358525968 -->\n<g id=\"edge1\" class=\"edge\">\n<title>140417358525968*&#45;&gt;140417358525968</title>\n<path fill=\"none\" stroke=\"#000000\" d=\"M185.0313,-123C193.1957,-123 202.4838,-123 211.8263,-123\"/>\n<polygon fill=\"#000000\" stroke=\"#000000\" points=\"211.9346,-126.5001 221.9346,-123 211.9345,-119.5001 211.9346,-126.5001\"/>\n</g>\n<!-- 140417358526736 -->\n<g id=\"node3\" class=\"node\">\n<title>140417358526736</title>\n<polygon fill=\"none\" stroke=\"#000000\" points=\"221,-.5 221,-69.5 316,-69.5 316,-.5 221,-.5\"/>\n<text text-anchor=\"middle\" x=\"268.5\" y=\"-54.3\" font-family=\"Times,serif\" font-size=\"14.00\" fill=\"#000000\">e</text>\n<polyline fill=\"none\" stroke=\"#000000\" points=\"221,-46.5 316,-46.5 \"/>\n<text text-anchor=\"middle\" x=\"268.5\" y=\"-31.3\" font-family=\"Times,serif\" font-size=\"14.00\" fill=\"#000000\">data: 1.0000</text>\n<polyline fill=\"none\" stroke=\"#000000\" points=\"221,-23.5 316,-23.5 \"/>\n<text text-anchor=\"middle\" x=\"268.5\" y=\"-8.3\" font-family=\"Times,serif\" font-size=\"14.00\" fill=\"#000000\">grad: &#45;6.0000</text>\n</g>\n<!-- 140417358526736&#45;&gt;140417358525776* -->\n<g id=\"edge8\" class=\"edge\">\n<title>140417358526736&#45;&gt;140417358525776*</title>\n<path fill=\"none\" stroke=\"#000000\" d=\"M316.0032,-53.9153C326.1621,-57.9605 336.6775,-62.1476 346.1386,-65.9149\"/>\n<polygon fill=\"#000000\" stroke=\"#000000\" points=\"344.972,-69.2176 355.5573,-69.6654 347.5616,-62.7142 344.972,-69.2176\"/>\n</g>\n<!-- 140417358526736+ -->\n<g id=\"node4\" class=\"node\">\n<title>140417358526736+</title>\n<ellipse fill=\"none\" stroke=\"#000000\" cx=\"158\" cy=\"-35\" rx=\"27\" ry=\"18\"/>\n<text text-anchor=\"middle\" x=\"158\" y=\"-31.3\" font-family=\"Times,serif\" font-size=\"14.00\" fill=\"#000000\">+</text>\n</g>\n<!-- 140417358526736+&#45;&gt;140417358526736 -->\n<g id=\"edge2\" class=\"edge\">\n<title>140417358526736+&#45;&gt;140417358526736</title>\n<path fill=\"none\" stroke=\"#000000\" d=\"M185.0313,-35C192.8303,-35 201.6547,-35 210.5724,-35\"/>\n<polygon fill=\"#000000\" stroke=\"#000000\" points=\"210.6306,-38.5001 220.6306,-35 210.6306,-31.5001 210.6306,-38.5001\"/>\n</g>\n<!-- 140417358528464 -->\n<g id=\"node5\" class=\"node\">\n<title>140417358528464</title>\n<polygon fill=\"none\" stroke=\"#000000\" points=\"0,-88.5 0,-157.5 95,-157.5 95,-88.5 0,-88.5\"/>\n<text text-anchor=\"middle\" x=\"47.5\" y=\"-142.3\" font-family=\"Times,serif\" font-size=\"14.00\" fill=\"#000000\">b</text>\n<polyline fill=\"none\" stroke=\"#000000\" points=\"0,-134.5 95,-134.5 \"/>\n<text text-anchor=\"middle\" x=\"47.5\" y=\"-119.3\" font-family=\"Times,serif\" font-size=\"14.00\" fill=\"#000000\">data: 3.0000</text>\n<polyline fill=\"none\" stroke=\"#000000\" points=\"0,-111.5 95,-111.5 \"/>\n<text text-anchor=\"middle\" x=\"47.5\" y=\"-96.3\" font-family=\"Times,serif\" font-size=\"14.00\" fill=\"#000000\">grad: &#45;8.0000</text>\n</g>\n<!-- 140417358528464&#45;&gt;140417358525968* -->\n<g id=\"edge7\" class=\"edge\">\n<title>140417358528464&#45;&gt;140417358525968*</title>\n<path fill=\"none\" stroke=\"#000000\" d=\"M95.0032,-123C103.6403,-123 112.5351,-123 120.8206,-123\"/>\n<polygon fill=\"#000000\" stroke=\"#000000\" points=\"120.9245,-126.5001 130.9245,-123 120.9244,-119.5001 120.9245,-126.5001\"/>\n</g>\n<!-- 140417358528464&#45;&gt;140417358526736+ -->\n<g id=\"edge5\" class=\"edge\">\n<title>140417358528464&#45;&gt;140417358526736+</title>\n<path fill=\"none\" stroke=\"#000000\" d=\"M90.8554,-88.4726C104.9055,-77.2834 120.033,-65.2361 132.3658,-55.4145\"/>\n<polygon fill=\"#000000\" stroke=\"#000000\" points=\"134.7677,-57.976 140.4098,-49.0085 130.4069,-52.5003 134.7677,-57.976\"/>\n</g>\n<!-- 140417358525776 -->\n<g id=\"node6\" class=\"node\">\n<title>140417358525776</title>\n<polygon fill=\"none\" stroke=\"#000000\" points=\"442,-44.5 442,-113.5 535,-113.5 535,-44.5 442,-44.5\"/>\n<text text-anchor=\"middle\" x=\"488.5\" y=\"-98.3\" font-family=\"Times,serif\" font-size=\"14.00\" fill=\"#000000\">f</text>\n<polyline fill=\"none\" stroke=\"#000000\" points=\"442,-90.5 535,-90.5 \"/>\n<text text-anchor=\"middle\" x=\"488.5\" y=\"-75.3\" font-family=\"Times,serif\" font-size=\"14.00\" fill=\"#000000\">data: &#45;6.0000</text>\n<polyline fill=\"none\" stroke=\"#000000\" points=\"442,-67.5 535,-67.5 \"/>\n<text text-anchor=\"middle\" x=\"488.5\" y=\"-52.3\" font-family=\"Times,serif\" font-size=\"14.00\" fill=\"#000000\">grad: 1.0000</text>\n</g>\n<!-- 140417358525776*&#45;&gt;140417358525776 -->\n<g id=\"edge3\" class=\"edge\">\n<title>140417358525776*&#45;&gt;140417358525776</title>\n<path fill=\"none\" stroke=\"#000000\" d=\"M406.0674,-79C413.8899,-79 422.7356,-79 431.6555,-79\"/>\n<polygon fill=\"#000000\" stroke=\"#000000\" points=\"431.7073,-82.5001 441.7073,-79 431.7073,-75.5001 431.7073,-82.5001\"/>\n</g>\n<!-- 140417358588880 -->\n<g id=\"node8\" class=\"node\">\n<title>140417358588880</title>\n<polygon fill=\"none\" stroke=\"#000000\" points=\"0,-.5 0,-69.5 95,-69.5 95,-.5 0,-.5\"/>\n<text text-anchor=\"middle\" x=\"47.5\" y=\"-54.3\" font-family=\"Times,serif\" font-size=\"14.00\" fill=\"#000000\">a</text>\n<polyline fill=\"none\" stroke=\"#000000\" points=\"0,-46.5 95,-46.5 \"/>\n<text text-anchor=\"middle\" x=\"47.5\" y=\"-31.3\" font-family=\"Times,serif\" font-size=\"14.00\" fill=\"#000000\">data: &#45;2.0000</text>\n<polyline fill=\"none\" stroke=\"#000000\" points=\"0,-23.5 95,-23.5 \"/>\n<text text-anchor=\"middle\" x=\"47.5\" y=\"-8.3\" font-family=\"Times,serif\" font-size=\"14.00\" fill=\"#000000\">grad: &#45;3.0000</text>\n</g>\n<!-- 140417358588880&#45;&gt;140417358525968* -->\n<g id=\"edge9\" class=\"edge\">\n<title>140417358588880&#45;&gt;140417358525968*</title>\n<path fill=\"none\" stroke=\"#000000\" d=\"M90.8554,-69.5274C104.9055,-80.7166 120.033,-92.7639 132.3658,-102.5855\"/>\n<polygon fill=\"#000000\" stroke=\"#000000\" points=\"130.4069,-105.4997 140.4098,-108.9915 134.7677,-100.024 130.4069,-105.4997\"/>\n</g>\n<!-- 140417358588880&#45;&gt;140417358526736+ -->\n<g id=\"edge6\" class=\"edge\">\n<title>140417358588880&#45;&gt;140417358526736+</title>\n<path fill=\"none\" stroke=\"#000000\" d=\"M95.0032,-35C103.6403,-35 112.5351,-35 120.8206,-35\"/>\n<polygon fill=\"#000000\" stroke=\"#000000\" points=\"120.9245,-38.5001 130.9245,-35 120.9244,-31.5001 120.9245,-38.5001\"/>\n</g>\n</g>\n</svg>\n"
          },
          "metadata": {},
          "execution_count": 18
        }
      ]
    },
    {
      "cell_type": "markdown",
      "source": [
        "___\n",
        "\n",
        "# Improving the Value object"
      ],
      "metadata": {
        "id": "3n9NrEDUjR-t"
      }
    },
    {
      "cell_type": "code",
      "source": [
        "class Value:\n",
        "    \n",
        "    def __init__(self,data, _children = (), _op='', label=''):\n",
        "        self.data = data\n",
        "        \n",
        "        self.grad = 0.0\n",
        "        # function which will backpropagate\n",
        "        # based on chain rule\n",
        "        self._backward = lambda : None\n",
        "        \n",
        "        self._prev = set(_children)\n",
        "        self._op = _op\n",
        "        self.label = label\n",
        "\n",
        "    \n",
        "    def __repr__(self):\n",
        "        return f\"Value(data={self.data})\"\n",
        "\n",
        "    def __add__(self, other):\n",
        "        # wrap other in Value obj if its not a value obj\n",
        "        other = other if isinstance(other, Value) else Value(other)\n",
        "\n",
        "        out = Value(self.data + other.data, (self, other), '+')\n",
        "\n",
        "        def _backward():\n",
        "            self.grad += 1.0 * out.grad\n",
        "            other.grad += 1.0 * out.grad\n",
        "\n",
        "        out._backward = _backward\n",
        "\n",
        "        return out\n",
        "\n",
        "    def __radd__(self, other):\n",
        "        return self + other\n",
        "\n",
        "    def __neg__(self):\n",
        "        return self * -1\n",
        "\n",
        "    def __sub__(self, other):\n",
        "        return self + (-other)\n",
        "\n",
        "    def __mul__(self, other):\n",
        "        other = other if isinstance(other, Value) else Value(other)\n",
        "        out = Value(self.data * other.data, (self, other), '*')\n",
        "\n",
        "        def _backward():\n",
        "            self.grad += other.data * out.grad\n",
        "            other.grad += self.data * out.grad\n",
        "\n",
        "        out._backward = _backward\n",
        "\n",
        "        return out\n",
        "\n",
        "    def __rmul__(self, other):\n",
        "        return self * other\n",
        "\n",
        "    def __pow__(self, other):\n",
        "        assert isinstance(other, (int,float)), \"only supporting int/float powers\"\n",
        "        out = Value(self.data**other, (self,), f'**{other}')\n",
        "\n",
        "        def _backward():\n",
        "            self.grad += ((other) * self.data**(other-1)) * out.grad\n",
        "\n",
        "        out._backward = _backward\n",
        "\n",
        "        return out\n",
        "\n",
        "    def __truediv__(self, other):\n",
        "        return self * other**-1\n",
        "\n",
        "    def exp(self):\n",
        "        x = self.data\n",
        "        out = Value(math.exp(x), (self, ), 'exp')\n",
        "\n",
        "        def _backward():\n",
        "            self.grad += out.data * out.grad\n",
        "        \n",
        "        out._backward = _backward\n",
        "\n",
        "        return out\n",
        "\n",
        "    def tanh(self):\n",
        "        n = self.data\n",
        "        t = (math.exp(2*n) - 1) / (math.exp(2*n) + 1)\n",
        "        out = Value(t, (self, ), 'tanh')\n",
        "\n",
        "        def _backward():\n",
        "            self.grad += (1 - t**2) * out.grad\n",
        "\n",
        "        out._backward = _backward\n",
        "\n",
        "        return out\n",
        "\n",
        "    def backward(self):\n",
        "\n",
        "        topo = []\n",
        "        visited = set()\n",
        "        def build_topo(v):\n",
        "            if v not in visited:\n",
        "                visited.add(v)\n",
        "                for child in v._prev:\n",
        "                    build_topo(child)\n",
        "                topo.append(v)\n",
        "        build_topo(self)\n",
        "\n",
        "\n",
        "        self.grad = 1.0\n",
        "        for node in reversed(topo):\n",
        "            node._backward()"
      ],
      "metadata": {
        "id": "KtBUIofTjbq6"
      },
      "execution_count": 19,
      "outputs": []
    },
    {
      "cell_type": "code",
      "source": [
        "# so now we can do stuff like this:\n",
        "\n",
        "a = Value(2.0)\n",
        "b = Value(3.0)\n",
        "a + 1, b*2"
      ],
      "metadata": {
        "colab": {
          "base_uri": "https://localhost:8080/"
        },
        "id": "YTkHtFWnjr0Y",
        "outputId": "97573d5e-b869-4c7b-ad25-bfd80ab28802"
      },
      "execution_count": 20,
      "outputs": [
        {
          "output_type": "execute_result",
          "data": {
            "text/plain": [
              "(Value(data=3.0), Value(data=6.0))"
            ]
          },
          "metadata": {},
          "execution_count": 20
        }
      ]
    },
    {
      "cell_type": "code",
      "source": [
        "# but 2 * a and 1 + b, wont wont since 2.__mul__(a) and 1.__add__(b) is invalid\n",
        "# to solve this we can add __rmul__ and __radd__ which swap the operands, to the Value obj\n",
        "\n",
        "2 * a, -5 + b"
      ],
      "metadata": {
        "colab": {
          "base_uri": "https://localhost:8080/"
        },
        "id": "JmMfCP97kHCy",
        "outputId": "567d6969-9c90-4045-ce3c-093b3d8c8b6c"
      },
      "execution_count": 21,
      "outputs": [
        {
          "output_type": "execute_result",
          "data": {
            "text/plain": [
              "(Value(data=4.0), Value(data=-2.0))"
            ]
          },
          "metadata": {},
          "execution_count": 21
        }
      ]
    },
    {
      "cell_type": "markdown",
      "source": [
        "## adding exponent to Value\n",
        "`.exp()`\n",
        "```\n",
        "if there are 4 vars: a,b,c,d\n",
        "b = e**a\n",
        "db/da = e**a\n",
        "d = b + c\n",
        "dd/db = 1\n",
        "dd/dc = 1\n",
        "\n",
        "therefore by chain rule:\n",
        "dd/da = dd/db * db/da\n",
        "```"
      ],
      "metadata": {
        "id": "4GvB2pRQmpvZ"
      }
    },
    {
      "cell_type": "markdown",
      "source": [
        "## Adding Division to Value\n",
        "`__truediv__()`\n",
        "\n",
        "```\n",
        "c = a/b\n",
        "c = a * (1/b)\n",
        "c = a * (b**1)\n",
        "```"
      ],
      "metadata": {
        "id": "oRfSBY5ut4Vx"
      }
    },
    {
      "cell_type": "code",
      "source": [
        "a = Value(2.0)\n",
        "b = Value(4.0)\n",
        "a / b"
      ],
      "metadata": {
        "colab": {
          "base_uri": "https://localhost:8080/"
        },
        "id": "liXdGyG6lNcy",
        "outputId": "e83117a5-07dc-401f-a4c7-8e2185436631"
      },
      "execution_count": 22,
      "outputs": [
        {
          "output_type": "execute_result",
          "data": {
            "text/plain": [
              "Value(data=0.5)"
            ]
          },
          "metadata": {},
          "execution_count": 22
        }
      ]
    },
    {
      "cell_type": "code",
      "source": [
        "a = Value(4)\n",
        "-a - 3"
      ],
      "metadata": {
        "colab": {
          "base_uri": "https://localhost:8080/"
        },
        "id": "HR1cFlzOwpdh",
        "outputId": "7a9c0af7-e75c-469d-925f-431884c2ed8a"
      },
      "execution_count": 23,
      "outputs": [
        {
          "output_type": "execute_result",
          "data": {
            "text/plain": [
              "Value(data=-7)"
            ]
          },
          "metadata": {},
          "execution_count": 23
        }
      ]
    },
    {
      "cell_type": "markdown",
      "source": [
        "## Redefining how we calculate tanh instead of tanh(), we'll use exp,add,sub,div"
      ],
      "metadata": {
        "id": "ujeBGM4CxR9U"
      }
    },
    {
      "cell_type": "code",
      "source": [
        "# 2D input:\n",
        "\n",
        "x1 = Value(2.0, label='x1')\n",
        "x2 = Value(0.0, label='x2')\n",
        "\n",
        "# Weights for each input\n",
        "w1 = Value(-3.0, label='w1')\n",
        "w2 = Value(1.0, label='w2')\n",
        "\n",
        "# bias\n",
        "b = Value(6.8813, label='b')\n",
        "\n",
        "# output\n",
        "x1w1 = x1*w1\n",
        "x1w1.label = 'x1*w1'\n",
        "\n",
        "x2w2 = x2*w2\n",
        "x2w2.label = 'x2*w2'\n",
        "\n",
        "x1w1x2w2 = x1w1+x2w2\n",
        "x1w1x2w2.label = 'x1w1+x2w2'\n",
        "\n",
        "n = x1w1x2w2 + b\n",
        "n.label = 'n'\n",
        "\n",
        "# o = n.tanh()\n",
        "\n",
        "e = (2*n).exp()\n",
        "o = (e-1)/(e+1)\n",
        "o.label = 'output'"
      ],
      "metadata": {
        "id": "wAPiLzs-wuFz"
      },
      "execution_count": 24,
      "outputs": []
    },
    {
      "cell_type": "code",
      "source": [
        "o.backward()\n",
        "draw_dot(o)"
      ],
      "metadata": {
        "colab": {
          "base_uri": "https://localhost:8080/",
          "height": 497
        },
        "id": "icmk493bxvfy",
        "outputId": "5700302f-2cfa-4756-c7a1-0a4f08b37957"
      },
      "execution_count": 25,
      "outputs": [
        {
          "output_type": "execute_result",
          "data": {
            "text/plain": [
              "<graphviz.dot.Digraph at 0x7fb576c895d0>"
            ],
            "image/svg+xml": "<?xml version=\"1.0\" encoding=\"UTF-8\" standalone=\"no\"?>\n<!DOCTYPE svg PUBLIC \"-//W3C//DTD SVG 1.1//EN\"\n \"http://www.w3.org/Graphics/SVG/1.1/DTD/svg11.dtd\">\n<!-- Generated by graphviz version 2.40.1 (20161225.0304)\n -->\n<!-- Title: %3 Pages: 1 -->\n<svg width=\"1888pt\" height=\"342pt\"\n viewBox=\"0.00 0.00 1888.00 342.00\" xmlns=\"http://www.w3.org/2000/svg\" xmlns:xlink=\"http://www.w3.org/1999/xlink\">\n<g id=\"graph0\" class=\"graph\" transform=\"scale(1 1) rotate(0) translate(4 338)\">\n<title>%3</title>\n<polygon fill=\"#ffffff\" stroke=\"transparent\" points=\"-4,4 -4,-338 1884,-338 1884,4 -4,4\"/>\n<!-- 140417358667216 -->\n<g id=\"node1\" class=\"node\">\n<title>140417358667216</title>\n<polygon fill=\"none\" stroke=\"#000000\" points=\"659,-176.5 659,-245.5 750,-245.5 750,-176.5 659,-176.5\"/>\n<text text-anchor=\"middle\" x=\"704.5\" y=\"-230.3\" font-family=\"Times,serif\" font-size=\"14.00\" fill=\"#000000\"> </text>\n<polyline fill=\"none\" stroke=\"#000000\" points=\"659,-222.5 750,-222.5 \"/>\n<text text-anchor=\"middle\" x=\"704.5\" y=\"-207.3\" font-family=\"Times,serif\" font-size=\"14.00\" fill=\"#000000\">data: 2.0000</text>\n<polyline fill=\"none\" stroke=\"#000000\" points=\"659,-199.5 750,-199.5 \"/>\n<text text-anchor=\"middle\" x=\"704.5\" y=\"-184.3\" font-family=\"Times,serif\" font-size=\"14.00\" fill=\"#000000\">grad: 0.2203</text>\n</g>\n<!-- 140417358667280* -->\n<g id=\"node3\" class=\"node\">\n<title>140417358667280*</title>\n<ellipse fill=\"none\" stroke=\"#000000\" cx=\"813\" cy=\"-167\" rx=\"27\" ry=\"18\"/>\n<text text-anchor=\"middle\" x=\"813\" y=\"-163.3\" font-family=\"Times,serif\" font-size=\"14.00\" fill=\"#000000\">*</text>\n</g>\n<!-- 140417358667216&#45;&gt;140417358667280* -->\n<g id=\"edge27\" class=\"edge\">\n<title>140417358667216&#45;&gt;140417358667280*</title>\n<path fill=\"none\" stroke=\"#000000\" d=\"M750.1993,-192.4676C760.3434,-188.3538 770.8967,-184.0742 780.392,-180.2235\"/>\n<polygon fill=\"#000000\" stroke=\"#000000\" points=\"781.8909,-183.3926 789.8426,-176.391 779.2602,-176.9057 781.8909,-183.3926\"/>\n</g>\n<!-- 140417358667280 -->\n<g id=\"node2\" class=\"node\">\n<title>140417358667280</title>\n<polygon fill=\"none\" stroke=\"#000000\" points=\"876,-132.5 876,-201.5 967,-201.5 967,-132.5 876,-132.5\"/>\n<text text-anchor=\"middle\" x=\"921.5\" y=\"-186.3\" font-family=\"Times,serif\" font-size=\"14.00\" fill=\"#000000\"> </text>\n<polyline fill=\"none\" stroke=\"#000000\" points=\"876,-178.5 967,-178.5 \"/>\n<text text-anchor=\"middle\" x=\"921.5\" y=\"-163.3\" font-family=\"Times,serif\" font-size=\"14.00\" fill=\"#000000\">data: 1.7626</text>\n<polyline fill=\"none\" stroke=\"#000000\" points=\"876,-155.5 967,-155.5 \"/>\n<text text-anchor=\"middle\" x=\"921.5\" y=\"-140.3\" font-family=\"Times,serif\" font-size=\"14.00\" fill=\"#000000\">grad: 0.2500</text>\n</g>\n<!-- 140417358667472exp -->\n<g id=\"node17\" class=\"node\">\n<title>140417358667472exp</title>\n<ellipse fill=\"none\" stroke=\"#000000\" cx=\"1030\" cy=\"-167\" rx=\"27\" ry=\"18\"/>\n<text text-anchor=\"middle\" x=\"1030\" y=\"-163.3\" font-family=\"Times,serif\" font-size=\"14.00\" fill=\"#000000\">exp</text>\n</g>\n<!-- 140417358667280&#45;&gt;140417358667472exp -->\n<g id=\"edge17\" class=\"edge\">\n<title>140417358667280&#45;&gt;140417358667472exp</title>\n<path fill=\"none\" stroke=\"#000000\" d=\"M967.1993,-167C975.7508,-167 984.593,-167 992.8471,-167\"/>\n<polygon fill=\"#000000\" stroke=\"#000000\" points=\"992.9215,-170.5001 1002.9215,-167 992.9215,-163.5001 992.9215,-170.5001\"/>\n</g>\n<!-- 140417358667280*&#45;&gt;140417358667280 -->\n<g id=\"edge1\" class=\"edge\">\n<title>140417358667280*&#45;&gt;140417358667280</title>\n<path fill=\"none\" stroke=\"#000000\" d=\"M840.0992,-167C847.9432,-167 856.8075,-167 865.7268,-167\"/>\n<polygon fill=\"#000000\" stroke=\"#000000\" points=\"865.7688,-170.5001 875.7688,-167 865.7687,-163.5001 865.7688,-170.5001\"/>\n</g>\n<!-- 140417358665808 -->\n<g id=\"node4\" class=\"node\">\n<title>140417358665808</title>\n<polygon fill=\"none\" stroke=\"#000000\" points=\"221,-176.5 221,-245.5 314,-245.5 314,-176.5 221,-176.5\"/>\n<text text-anchor=\"middle\" x=\"267.5\" y=\"-230.3\" font-family=\"Times,serif\" font-size=\"14.00\" fill=\"#000000\">x1*w1</text>\n<polyline fill=\"none\" stroke=\"#000000\" points=\"221,-222.5 314,-222.5 \"/>\n<text text-anchor=\"middle\" x=\"267.5\" y=\"-207.3\" font-family=\"Times,serif\" font-size=\"14.00\" fill=\"#000000\">data: &#45;6.0000</text>\n<polyline fill=\"none\" stroke=\"#000000\" points=\"221,-199.5 314,-199.5 \"/>\n<text text-anchor=\"middle\" x=\"267.5\" y=\"-184.3\" font-family=\"Times,serif\" font-size=\"14.00\" fill=\"#000000\">grad: 0.5001</text>\n</g>\n<!-- 140417358666640+ -->\n<g id=\"node13\" class=\"node\">\n<title>140417358666640+</title>\n<ellipse fill=\"none\" stroke=\"#000000\" cx=\"377\" cy=\"-167\" rx=\"27\" ry=\"18\"/>\n<text text-anchor=\"middle\" x=\"377\" y=\"-163.3\" font-family=\"Times,serif\" font-size=\"14.00\" fill=\"#000000\">+</text>\n</g>\n<!-- 140417358665808&#45;&gt;140417358666640+ -->\n<g id=\"edge26\" class=\"edge\">\n<title>140417358665808&#45;&gt;140417358666640+</title>\n<path fill=\"none\" stroke=\"#000000\" d=\"M314.2555,-192.2124C324.3508,-188.1559 334.8166,-183.9504 344.2402,-180.1638\"/>\n<polygon fill=\"#000000\" stroke=\"#000000\" points=\"345.65,-183.3693 353.6239,-176.3931 343.04,-176.8741 345.65,-183.3693\"/>\n</g>\n<!-- 140417358665808* -->\n<g id=\"node5\" class=\"node\">\n<title>140417358665808*</title>\n<ellipse fill=\"none\" stroke=\"#000000\" cx=\"158\" cy=\"-211\" rx=\"27\" ry=\"18\"/>\n<text text-anchor=\"middle\" x=\"158\" y=\"-207.3\" font-family=\"Times,serif\" font-size=\"14.00\" fill=\"#000000\">*</text>\n</g>\n<!-- 140417358665808*&#45;&gt;140417358665808 -->\n<g id=\"edge2\" class=\"edge\">\n<title>140417358665808*&#45;&gt;140417358665808</title>\n<path fill=\"none\" stroke=\"#000000\" d=\"M185.0674,-211C192.8899,-211 201.7356,-211 210.6555,-211\"/>\n<polygon fill=\"#000000\" stroke=\"#000000\" points=\"210.7073,-214.5001 220.7073,-211 210.7073,-207.5001 210.7073,-214.5001\"/>\n</g>\n<!-- 140417358671952 -->\n<g id=\"node6\" class=\"node\">\n<title>140417358671952</title>\n<polygon fill=\"none\" stroke=\"#000000\" points=\"1445,-167.5 1445,-236.5 1536,-236.5 1536,-167.5 1445,-167.5\"/>\n<text text-anchor=\"middle\" x=\"1490.5\" y=\"-221.3\" font-family=\"Times,serif\" font-size=\"14.00\" fill=\"#000000\"> </text>\n<polyline fill=\"none\" stroke=\"#000000\" points=\"1445,-213.5 1536,-213.5 \"/>\n<text text-anchor=\"middle\" x=\"1490.5\" y=\"-198.3\" font-family=\"Times,serif\" font-size=\"14.00\" fill=\"#000000\">data: 4.8276</text>\n<polyline fill=\"none\" stroke=\"#000000\" points=\"1445,-190.5 1536,-190.5 \"/>\n<text text-anchor=\"middle\" x=\"1490.5\" y=\"-175.3\" font-family=\"Times,serif\" font-size=\"14.00\" fill=\"#000000\">grad: 0.1465</text>\n</g>\n<!-- 140417358672848* -->\n<g id=\"node28\" class=\"node\">\n<title>140417358672848*</title>\n<ellipse fill=\"none\" stroke=\"#000000\" cx=\"1726\" cy=\"-166\" rx=\"27\" ry=\"18\"/>\n<text text-anchor=\"middle\" x=\"1726\" y=\"-162.3\" font-family=\"Times,serif\" font-size=\"14.00\" fill=\"#000000\">*</text>\n</g>\n<!-- 140417358671952&#45;&gt;140417358672848* -->\n<g id=\"edge21\" class=\"edge\">\n<title>140417358671952&#45;&gt;140417358672848*</title>\n<path fill=\"none\" stroke=\"#000000\" d=\"M1536.0318,-196.8229C1570.8877,-192.6436 1620.106,-186.2757 1663,-179 1671.8636,-177.4965 1681.3823,-175.6532 1690.2677,-173.8323\"/>\n<polygon fill=\"#000000\" stroke=\"#000000\" points=\"1691.259,-177.2008 1700.3302,-171.7269 1689.8253,-170.3491 1691.259,-177.2008\"/>\n</g>\n<!-- 140417358671952+ -->\n<g id=\"node7\" class=\"node\">\n<title>140417358671952+</title>\n<ellipse fill=\"none\" stroke=\"#000000\" cx=\"1251\" cy=\"-202\" rx=\"27\" ry=\"18\"/>\n<text text-anchor=\"middle\" x=\"1251\" y=\"-198.3\" font-family=\"Times,serif\" font-size=\"14.00\" fill=\"#000000\">+</text>\n</g>\n<!-- 140417358671952+&#45;&gt;140417358671952 -->\n<g id=\"edge3\" class=\"edge\">\n<title>140417358671952+&#45;&gt;140417358671952</title>\n<path fill=\"none\" stroke=\"#000000\" d=\"M1278.0081,-202C1315.8119,-202 1385.3884,-202 1434.6135,-202\"/>\n<polygon fill=\"#000000\" stroke=\"#000000\" points=\"1434.7899,-205.5001 1444.7899,-202 1434.7899,-198.5001 1434.7899,-205.5001\"/>\n</g>\n<!-- 140417358672528 -->\n<g id=\"node8\" class=\"node\">\n<title>140417358672528</title>\n<polygon fill=\"none\" stroke=\"#000000\" points=\"1572,-100.5 1572,-169.5 1663,-169.5 1663,-100.5 1572,-100.5\"/>\n<text text-anchor=\"middle\" x=\"1617.5\" y=\"-154.3\" font-family=\"Times,serif\" font-size=\"14.00\" fill=\"#000000\"> </text>\n<polyline fill=\"none\" stroke=\"#000000\" points=\"1572,-146.5 1663,-146.5 \"/>\n<text text-anchor=\"middle\" x=\"1617.5\" y=\"-131.3\" font-family=\"Times,serif\" font-size=\"14.00\" fill=\"#000000\">data: 0.1465</text>\n<polyline fill=\"none\" stroke=\"#000000\" points=\"1572,-123.5 1663,-123.5 \"/>\n<text text-anchor=\"middle\" x=\"1617.5\" y=\"-108.3\" font-family=\"Times,serif\" font-size=\"14.00\" fill=\"#000000\">grad: 4.8276</text>\n</g>\n<!-- 140417358672528&#45;&gt;140417358672848* -->\n<g id=\"edge24\" class=\"edge\">\n<title>140417358672528&#45;&gt;140417358672848*</title>\n<path fill=\"none\" stroke=\"#000000\" d=\"M1663.1993,-148.0569C1672.6249,-150.75 1682.4038,-153.5439 1691.3589,-156.1025\"/>\n<polygon fill=\"#000000\" stroke=\"#000000\" points=\"1690.4801,-159.4914 1701.0568,-158.8734 1692.4032,-152.7608 1690.4801,-159.4914\"/>\n</g>\n<!-- 140417358672528**&#45;1 -->\n<g id=\"node9\" class=\"node\">\n<title>140417358672528**&#45;1</title>\n<ellipse fill=\"none\" stroke=\"#000000\" cx=\"1490.5\" cy=\"-131\" rx=\"28.6953\" ry=\"18\"/>\n<text text-anchor=\"middle\" x=\"1490.5\" y=\"-127.3\" font-family=\"Times,serif\" font-size=\"14.00\" fill=\"#000000\">**&#45;1</text>\n</g>\n<!-- 140417358672528**&#45;1&#45;&gt;140417358672528 -->\n<g id=\"edge4\" class=\"edge\">\n<title>140417358672528**&#45;1&#45;&gt;140417358672528</title>\n<path fill=\"none\" stroke=\"#000000\" d=\"M1519.3183,-131.9077C1531.9242,-132.3047 1547.1607,-132.7846 1561.831,-133.2466\"/>\n<polygon fill=\"#000000\" stroke=\"#000000\" points=\"1561.7523,-136.7458 1571.8575,-133.5624 1561.9727,-129.7493 1561.7523,-136.7458\"/>\n</g>\n<!-- 140417358666896 -->\n<g id=\"node10\" class=\"node\">\n<title>140417358666896</title>\n<polygon fill=\"none\" stroke=\"#000000\" points=\"659,-88.5 659,-157.5 750,-157.5 750,-88.5 659,-88.5\"/>\n<text text-anchor=\"middle\" x=\"704.5\" y=\"-142.3\" font-family=\"Times,serif\" font-size=\"14.00\" fill=\"#000000\">n</text>\n<polyline fill=\"none\" stroke=\"#000000\" points=\"659,-134.5 750,-134.5 \"/>\n<text text-anchor=\"middle\" x=\"704.5\" y=\"-119.3\" font-family=\"Times,serif\" font-size=\"14.00\" fill=\"#000000\">data: 0.8813</text>\n<polyline fill=\"none\" stroke=\"#000000\" points=\"659,-111.5 750,-111.5 \"/>\n<text text-anchor=\"middle\" x=\"704.5\" y=\"-96.3\" font-family=\"Times,serif\" font-size=\"14.00\" fill=\"#000000\">grad: 0.5001</text>\n</g>\n<!-- 140417358666896&#45;&gt;140417358667280* -->\n<g id=\"edge14\" class=\"edge\">\n<title>140417358666896&#45;&gt;140417358667280*</title>\n<path fill=\"none\" stroke=\"#000000\" d=\"M750.1993,-141.5324C760.3434,-145.6462 770.8967,-149.9258 780.392,-153.7765\"/>\n<polygon fill=\"#000000\" stroke=\"#000000\" points=\"779.2602,-157.0943 789.8426,-157.609 781.8909,-150.6074 779.2602,-157.0943\"/>\n</g>\n<!-- 140417358666896+ -->\n<g id=\"node11\" class=\"node\">\n<title>140417358666896+</title>\n<ellipse fill=\"none\" stroke=\"#000000\" cx=\"596\" cy=\"-123\" rx=\"27\" ry=\"18\"/>\n<text text-anchor=\"middle\" x=\"596\" y=\"-119.3\" font-family=\"Times,serif\" font-size=\"14.00\" fill=\"#000000\">+</text>\n</g>\n<!-- 140417358666896+&#45;&gt;140417358666896 -->\n<g id=\"edge5\" class=\"edge\">\n<title>140417358666896+&#45;&gt;140417358666896</title>\n<path fill=\"none\" stroke=\"#000000\" d=\"M623.0992,-123C630.9432,-123 639.8075,-123 648.7268,-123\"/>\n<polygon fill=\"#000000\" stroke=\"#000000\" points=\"648.7688,-126.5001 658.7688,-123 648.7687,-119.5001 648.7688,-126.5001\"/>\n</g>\n<!-- 140417358666640 -->\n<g id=\"node12\" class=\"node\">\n<title>140417358666640</title>\n<polygon fill=\"none\" stroke=\"#000000\" points=\"440,-132.5 440,-201.5 533,-201.5 533,-132.5 440,-132.5\"/>\n<text text-anchor=\"middle\" x=\"486.5\" y=\"-186.3\" font-family=\"Times,serif\" font-size=\"14.00\" fill=\"#000000\">x1w1+x2w2</text>\n<polyline fill=\"none\" stroke=\"#000000\" points=\"440,-178.5 533,-178.5 \"/>\n<text text-anchor=\"middle\" x=\"486.5\" y=\"-163.3\" font-family=\"Times,serif\" font-size=\"14.00\" fill=\"#000000\">data: &#45;6.0000</text>\n<polyline fill=\"none\" stroke=\"#000000\" points=\"440,-155.5 533,-155.5 \"/>\n<text text-anchor=\"middle\" x=\"486.5\" y=\"-140.3\" font-family=\"Times,serif\" font-size=\"14.00\" fill=\"#000000\">grad: 0.5001</text>\n</g>\n<!-- 140417358666640&#45;&gt;140417358666896+ -->\n<g id=\"edge13\" class=\"edge\">\n<title>140417358666640&#45;&gt;140417358666896+</title>\n<path fill=\"none\" stroke=\"#000000\" d=\"M533.2555,-148.2124C543.3508,-144.1559 553.8166,-139.9504 563.2402,-136.1638\"/>\n<polygon fill=\"#000000\" stroke=\"#000000\" points=\"564.65,-139.3693 572.6239,-132.3931 562.04,-132.8741 564.65,-139.3693\"/>\n</g>\n<!-- 140417358666640+&#45;&gt;140417358666640 -->\n<g id=\"edge6\" class=\"edge\">\n<title>140417358666640+&#45;&gt;140417358666640</title>\n<path fill=\"none\" stroke=\"#000000\" d=\"M404.0674,-167C411.8899,-167 420.7356,-167 429.6555,-167\"/>\n<polygon fill=\"#000000\" stroke=\"#000000\" points=\"429.7073,-170.5001 439.7073,-167 429.7073,-163.5001 429.7073,-170.5001\"/>\n</g>\n<!-- 140417358666384 -->\n<g id=\"node14\" class=\"node\">\n<title>140417358666384</title>\n<polygon fill=\"none\" stroke=\"#000000\" points=\"222,-88.5 222,-157.5 313,-157.5 313,-88.5 222,-88.5\"/>\n<text text-anchor=\"middle\" x=\"267.5\" y=\"-142.3\" font-family=\"Times,serif\" font-size=\"14.00\" fill=\"#000000\">x2*w2</text>\n<polyline fill=\"none\" stroke=\"#000000\" points=\"222,-134.5 313,-134.5 \"/>\n<text text-anchor=\"middle\" x=\"267.5\" y=\"-119.3\" font-family=\"Times,serif\" font-size=\"14.00\" fill=\"#000000\">data: 0.0000</text>\n<polyline fill=\"none\" stroke=\"#000000\" points=\"222,-111.5 313,-111.5 \"/>\n<text text-anchor=\"middle\" x=\"267.5\" y=\"-96.3\" font-family=\"Times,serif\" font-size=\"14.00\" fill=\"#000000\">grad: 0.5001</text>\n</g>\n<!-- 140417358666384&#45;&gt;140417358666640+ -->\n<g id=\"edge18\" class=\"edge\">\n<title>140417358666384&#45;&gt;140417358666640+</title>\n<path fill=\"none\" stroke=\"#000000\" d=\"M313.3034,-141.405C323.7644,-145.6085 334.6733,-149.992 344.4463,-153.9191\"/>\n<polygon fill=\"#000000\" stroke=\"#000000\" points=\"343.1981,-157.1895 353.7821,-157.6704 345.8081,-150.6942 343.1981,-157.1895\"/>\n</g>\n<!-- 140417358666384* -->\n<g id=\"node15\" class=\"node\">\n<title>140417358666384*</title>\n<ellipse fill=\"none\" stroke=\"#000000\" cx=\"158\" cy=\"-123\" rx=\"27\" ry=\"18\"/>\n<text text-anchor=\"middle\" x=\"158\" y=\"-119.3\" font-family=\"Times,serif\" font-size=\"14.00\" fill=\"#000000\">*</text>\n</g>\n<!-- 140417358666384*&#45;&gt;140417358666384 -->\n<g id=\"edge7\" class=\"edge\">\n<title>140417358666384*&#45;&gt;140417358666384</title>\n<path fill=\"none\" stroke=\"#000000\" d=\"M185.0674,-123C193.2531,-123 202.5591,-123 211.8982,-123\"/>\n<polygon fill=\"#000000\" stroke=\"#000000\" points=\"211.9937,-126.5001 221.9936,-123 211.9936,-119.5001 211.9937,-126.5001\"/>\n</g>\n<!-- 140417358667472 -->\n<g id=\"node16\" class=\"node\">\n<title>140417358667472</title>\n<polygon fill=\"none\" stroke=\"#000000\" points=\"1095,-132.5 1095,-201.5 1186,-201.5 1186,-132.5 1095,-132.5\"/>\n<text text-anchor=\"middle\" x=\"1140.5\" y=\"-186.3\" font-family=\"Times,serif\" font-size=\"14.00\" fill=\"#000000\"> </text>\n<polyline fill=\"none\" stroke=\"#000000\" points=\"1095,-178.5 1186,-178.5 \"/>\n<text text-anchor=\"middle\" x=\"1140.5\" y=\"-163.3\" font-family=\"Times,serif\" font-size=\"14.00\" fill=\"#000000\">data: 5.8276</text>\n<polyline fill=\"none\" stroke=\"#000000\" points=\"1095,-155.5 1186,-155.5 \"/>\n<text text-anchor=\"middle\" x=\"1140.5\" y=\"-140.3\" font-family=\"Times,serif\" font-size=\"14.00\" fill=\"#000000\">grad: 0.0429</text>\n</g>\n<!-- 140417358667472&#45;&gt;140417358671952+ -->\n<g id=\"edge23\" class=\"edge\">\n<title>140417358667472&#45;&gt;140417358671952+</title>\n<path fill=\"none\" stroke=\"#000000\" d=\"M1186.0825,-181.4379C1196.3191,-184.6803 1207.0127,-188.0674 1216.6981,-191.1351\"/>\n<polygon fill=\"#000000\" stroke=\"#000000\" points=\"1215.7748,-194.514 1226.3649,-194.197 1217.8886,-187.8408 1215.7748,-194.514\"/>\n</g>\n<!-- 140417358672272+ -->\n<g id=\"node26\" class=\"node\">\n<title>140417358672272+</title>\n<ellipse fill=\"none\" stroke=\"#000000\" cx=\"1251\" cy=\"-131\" rx=\"27\" ry=\"18\"/>\n<text text-anchor=\"middle\" x=\"1251\" y=\"-127.3\" font-family=\"Times,serif\" font-size=\"14.00\" fill=\"#000000\">+</text>\n</g>\n<!-- 140417358667472&#45;&gt;140417358672272+ -->\n<g id=\"edge16\" class=\"edge\">\n<title>140417358667472&#45;&gt;140417358672272+</title>\n<path fill=\"none\" stroke=\"#000000\" d=\"M1186.0825,-152.1496C1196.4074,-148.7858 1207.1971,-145.2706 1216.9483,-142.0938\"/>\n<polygon fill=\"#000000\" stroke=\"#000000\" points=\"1218.2473,-145.3517 1226.6713,-138.9261 1216.0789,-138.696 1218.2473,-145.3517\"/>\n</g>\n<!-- 140417358667472exp&#45;&gt;140417358667472 -->\n<g id=\"edge8\" class=\"edge\">\n<title>140417358667472exp&#45;&gt;140417358667472</title>\n<path fill=\"none\" stroke=\"#000000\" d=\"M1057.0313,-167C1065.4722,-167 1075.1143,-167 1084.7758,-167\"/>\n<polygon fill=\"#000000\" stroke=\"#000000\" points=\"1084.8015,-170.5001 1094.8014,-167 1084.8014,-163.5001 1084.8015,-170.5001\"/>\n</g>\n<!-- 140417358665872 -->\n<g id=\"node18\" class=\"node\">\n<title>140417358665872</title>\n<polygon fill=\"none\" stroke=\"#000000\" points=\"2,-88.5 2,-157.5 93,-157.5 93,-88.5 2,-88.5\"/>\n<text text-anchor=\"middle\" x=\"47.5\" y=\"-142.3\" font-family=\"Times,serif\" font-size=\"14.00\" fill=\"#000000\">w2</text>\n<polyline fill=\"none\" stroke=\"#000000\" points=\"2,-134.5 93,-134.5 \"/>\n<text text-anchor=\"middle\" x=\"47.5\" y=\"-119.3\" font-family=\"Times,serif\" font-size=\"14.00\" fill=\"#000000\">data: 1.0000</text>\n<polyline fill=\"none\" stroke=\"#000000\" points=\"2,-111.5 93,-111.5 \"/>\n<text text-anchor=\"middle\" x=\"47.5\" y=\"-96.3\" font-family=\"Times,serif\" font-size=\"14.00\" fill=\"#000000\">grad: 0.0000</text>\n</g>\n<!-- 140417358665872&#45;&gt;140417358666384* -->\n<g id=\"edge20\" class=\"edge\">\n<title>140417358665872&#45;&gt;140417358666384*</title>\n<path fill=\"none\" stroke=\"#000000\" d=\"M93.0825,-123C102.3122,-123 111.9133,-123 120.812,-123\"/>\n<polygon fill=\"#000000\" stroke=\"#000000\" points=\"120.8714,-126.5001 130.8714,-123 120.8714,-119.5001 120.8714,-126.5001\"/>\n</g>\n<!-- 140417358665616 -->\n<g id=\"node19\" class=\"node\">\n<title>140417358665616</title>\n<polygon fill=\"none\" stroke=\"#000000\" points=\"0,-264.5 0,-333.5 95,-333.5 95,-264.5 0,-264.5\"/>\n<text text-anchor=\"middle\" x=\"47.5\" y=\"-318.3\" font-family=\"Times,serif\" font-size=\"14.00\" fill=\"#000000\">x1</text>\n<polyline fill=\"none\" stroke=\"#000000\" points=\"0,-310.5 95,-310.5 \"/>\n<text text-anchor=\"middle\" x=\"47.5\" y=\"-295.3\" font-family=\"Times,serif\" font-size=\"14.00\" fill=\"#000000\">data: 2.0000</text>\n<polyline fill=\"none\" stroke=\"#000000\" points=\"0,-287.5 95,-287.5 \"/>\n<text text-anchor=\"middle\" x=\"47.5\" y=\"-272.3\" font-family=\"Times,serif\" font-size=\"14.00\" fill=\"#000000\">grad: &#45;1.5002</text>\n</g>\n<!-- 140417358665616&#45;&gt;140417358665808* -->\n<g id=\"edge19\" class=\"edge\">\n<title>140417358665616&#45;&gt;140417358665808*</title>\n<path fill=\"none\" stroke=\"#000000\" d=\"M90.8554,-264.4726C104.9055,-253.2834 120.033,-241.2361 132.3658,-231.4145\"/>\n<polygon fill=\"#000000\" stroke=\"#000000\" points=\"134.7677,-233.976 140.4098,-225.0085 130.4069,-228.5003 134.7677,-233.976\"/>\n</g>\n<!-- 140417358667664 -->\n<g id=\"node20\" class=\"node\">\n<title>140417358667664</title>\n<polygon fill=\"none\" stroke=\"#000000\" points=\"1094,-220.5 1094,-289.5 1187,-289.5 1187,-220.5 1094,-220.5\"/>\n<text text-anchor=\"middle\" x=\"1140.5\" y=\"-274.3\" font-family=\"Times,serif\" font-size=\"14.00\" fill=\"#000000\"> </text>\n<polyline fill=\"none\" stroke=\"#000000\" points=\"1094,-266.5 1187,-266.5 \"/>\n<text text-anchor=\"middle\" x=\"1140.5\" y=\"-251.3\" font-family=\"Times,serif\" font-size=\"14.00\" fill=\"#000000\">data: &#45;1.0000</text>\n<polyline fill=\"none\" stroke=\"#000000\" points=\"1094,-243.5 1187,-243.5 \"/>\n<text text-anchor=\"middle\" x=\"1140.5\" y=\"-228.3\" font-family=\"Times,serif\" font-size=\"14.00\" fill=\"#000000\">grad: 0.1465</text>\n</g>\n<!-- 140417358667664&#45;&gt;140417358671952+ -->\n<g id=\"edge22\" class=\"edge\">\n<title>140417358667664&#45;&gt;140417358671952+</title>\n<path fill=\"none\" stroke=\"#000000\" d=\"M1187.0417,-232.6768C1198.0373,-227.4029 1209.5049,-221.9026 1219.643,-217.04\"/>\n<polygon fill=\"#000000\" stroke=\"#000000\" points=\"1221.3941,-220.0819 1228.897,-212.6014 1218.3668,-213.7704 1221.3941,-220.0819\"/>\n</g>\n<!-- 140417358666000 -->\n<g id=\"node21\" class=\"node\">\n<title>140417358666000</title>\n<polygon fill=\"none\" stroke=\"#000000\" points=\"441,-44.5 441,-113.5 532,-113.5 532,-44.5 441,-44.5\"/>\n<text text-anchor=\"middle\" x=\"486.5\" y=\"-98.3\" font-family=\"Times,serif\" font-size=\"14.00\" fill=\"#000000\">b</text>\n<polyline fill=\"none\" stroke=\"#000000\" points=\"441,-90.5 532,-90.5 \"/>\n<text text-anchor=\"middle\" x=\"486.5\" y=\"-75.3\" font-family=\"Times,serif\" font-size=\"14.00\" fill=\"#000000\">data: 6.8813</text>\n<polyline fill=\"none\" stroke=\"#000000\" points=\"441,-67.5 532,-67.5 \"/>\n<text text-anchor=\"middle\" x=\"486.5\" y=\"-52.3\" font-family=\"Times,serif\" font-size=\"14.00\" fill=\"#000000\">grad: 0.5001</text>\n</g>\n<!-- 140417358666000&#45;&gt;140417358666896+ -->\n<g id=\"edge15\" class=\"edge\">\n<title>140417358666000&#45;&gt;140417358666896+</title>\n<path fill=\"none\" stroke=\"#000000\" d=\"M532.3034,-97.405C542.7644,-101.6085 553.6733,-105.992 563.4463,-109.9191\"/>\n<polygon fill=\"#000000\" stroke=\"#000000\" points=\"562.1981,-113.1895 572.7821,-113.6704 564.8081,-106.6942 562.1981,-113.1895\"/>\n</g>\n<!-- 140417358665680 -->\n<g id=\"node22\" class=\"node\">\n<title>140417358665680</title>\n<polygon fill=\"none\" stroke=\"#000000\" points=\"1,-176.5 1,-245.5 94,-245.5 94,-176.5 1,-176.5\"/>\n<text text-anchor=\"middle\" x=\"47.5\" y=\"-230.3\" font-family=\"Times,serif\" font-size=\"14.00\" fill=\"#000000\">w1</text>\n<polyline fill=\"none\" stroke=\"#000000\" points=\"1,-222.5 94,-222.5 \"/>\n<text text-anchor=\"middle\" x=\"47.5\" y=\"-207.3\" font-family=\"Times,serif\" font-size=\"14.00\" fill=\"#000000\">data: &#45;3.0000</text>\n<polyline fill=\"none\" stroke=\"#000000\" points=\"1,-199.5 94,-199.5 \"/>\n<text text-anchor=\"middle\" x=\"47.5\" y=\"-184.3\" font-family=\"Times,serif\" font-size=\"14.00\" fill=\"#000000\">grad: 1.0001</text>\n</g>\n<!-- 140417358665680&#45;&gt;140417358665808* -->\n<g id=\"edge11\" class=\"edge\">\n<title>140417358665680&#45;&gt;140417358665808*</title>\n<path fill=\"none\" stroke=\"#000000\" d=\"M94.0417,-211C102.9314,-211 112.1297,-211 120.6845,-211\"/>\n<polygon fill=\"#000000\" stroke=\"#000000\" points=\"120.7364,-214.5001 130.7364,-211 120.7363,-207.5001 120.7364,-214.5001\"/>\n</g>\n<!-- 140417358672208 -->\n<g id=\"node23\" class=\"node\">\n<title>140417358672208</title>\n<polygon fill=\"none\" stroke=\"#000000\" points=\"1093,-44.5 1093,-113.5 1188,-113.5 1188,-44.5 1093,-44.5\"/>\n<text text-anchor=\"middle\" x=\"1140.5\" y=\"-98.3\" font-family=\"Times,serif\" font-size=\"14.00\" fill=\"#000000\"> </text>\n<polyline fill=\"none\" stroke=\"#000000\" points=\"1093,-90.5 1188,-90.5 \"/>\n<text text-anchor=\"middle\" x=\"1140.5\" y=\"-75.3\" font-family=\"Times,serif\" font-size=\"14.00\" fill=\"#000000\">data: 1.0000</text>\n<polyline fill=\"none\" stroke=\"#000000\" points=\"1093,-67.5 1188,-67.5 \"/>\n<text text-anchor=\"middle\" x=\"1140.5\" y=\"-52.3\" font-family=\"Times,serif\" font-size=\"14.00\" fill=\"#000000\">grad: &#45;0.1036</text>\n</g>\n<!-- 140417358672208&#45;&gt;140417358672272+ -->\n<g id=\"edge12\" class=\"edge\">\n<title>140417358672208&#45;&gt;140417358672272+</title>\n<path fill=\"none\" stroke=\"#000000\" d=\"M1188.0032,-101.3545C1198.62,-106.3506 1209.6261,-111.5299 1219.4114,-116.1348\"/>\n<polygon fill=\"#000000\" stroke=\"#000000\" points=\"1218.1916,-119.4289 1228.7301,-120.52 1221.1722,-113.0951 1218.1916,-119.4289\"/>\n</g>\n<!-- 140417358665552 -->\n<g id=\"node24\" class=\"node\">\n<title>140417358665552</title>\n<polygon fill=\"none\" stroke=\"#000000\" points=\"2,-.5 2,-69.5 93,-69.5 93,-.5 2,-.5\"/>\n<text text-anchor=\"middle\" x=\"47.5\" y=\"-54.3\" font-family=\"Times,serif\" font-size=\"14.00\" fill=\"#000000\">x2</text>\n<polyline fill=\"none\" stroke=\"#000000\" points=\"2,-46.5 93,-46.5 \"/>\n<text text-anchor=\"middle\" x=\"47.5\" y=\"-31.3\" font-family=\"Times,serif\" font-size=\"14.00\" fill=\"#000000\">data: 0.0000</text>\n<polyline fill=\"none\" stroke=\"#000000\" points=\"2,-23.5 93,-23.5 \"/>\n<text text-anchor=\"middle\" x=\"47.5\" y=\"-8.3\" font-family=\"Times,serif\" font-size=\"14.00\" fill=\"#000000\">grad: 0.5001</text>\n</g>\n<!-- 140417358665552&#45;&gt;140417358666384* -->\n<g id=\"edge25\" class=\"edge\">\n<title>140417358665552&#45;&gt;140417358666384*</title>\n<path fill=\"none\" stroke=\"#000000\" d=\"M90.8554,-69.5274C104.9055,-80.7166 120.033,-92.7639 132.3658,-102.5855\"/>\n<polygon fill=\"#000000\" stroke=\"#000000\" points=\"130.4069,-105.4997 140.4098,-108.9915 134.7677,-100.024 130.4069,-105.4997\"/>\n</g>\n<!-- 140417358672272 -->\n<g id=\"node25\" class=\"node\">\n<title>140417358672272</title>\n<polygon fill=\"none\" stroke=\"#000000\" points=\"1314,-96.5 1314,-165.5 1409,-165.5 1409,-96.5 1314,-96.5\"/>\n<text text-anchor=\"middle\" x=\"1361.5\" y=\"-150.3\" font-family=\"Times,serif\" font-size=\"14.00\" fill=\"#000000\"> </text>\n<polyline fill=\"none\" stroke=\"#000000\" points=\"1314,-142.5 1409,-142.5 \"/>\n<text text-anchor=\"middle\" x=\"1361.5\" y=\"-127.3\" font-family=\"Times,serif\" font-size=\"14.00\" fill=\"#000000\">data: 6.8276</text>\n<polyline fill=\"none\" stroke=\"#000000\" points=\"1314,-119.5 1409,-119.5 \"/>\n<text text-anchor=\"middle\" x=\"1361.5\" y=\"-104.3\" font-family=\"Times,serif\" font-size=\"14.00\" fill=\"#000000\">grad: &#45;0.1036</text>\n</g>\n<!-- 140417358672272&#45;&gt;140417358672528**&#45;1 -->\n<g id=\"edge28\" class=\"edge\">\n<title>140417358672272&#45;&gt;140417358672528**&#45;1</title>\n<path fill=\"none\" stroke=\"#000000\" d=\"M1409.1683,-131C1423.1,-131 1438.158,-131 1451.486,-131\"/>\n<polygon fill=\"#000000\" stroke=\"#000000\" points=\"1451.7493,-134.5001 1461.7493,-131 1451.7493,-127.5001 1451.7493,-134.5001\"/>\n</g>\n<!-- 140417358672272+&#45;&gt;140417358672272 -->\n<g id=\"edge9\" class=\"edge\">\n<title>140417358672272+&#45;&gt;140417358672272</title>\n<path fill=\"none\" stroke=\"#000000\" d=\"M1278.0313,-131C1285.8303,-131 1294.6547,-131 1303.5724,-131\"/>\n<polygon fill=\"#000000\" stroke=\"#000000\" points=\"1303.6306,-134.5001 1313.6306,-131 1303.6306,-127.5001 1303.6306,-134.5001\"/>\n</g>\n<!-- 140417358672848 -->\n<g id=\"node27\" class=\"node\">\n<title>140417358672848</title>\n<polygon fill=\"none\" stroke=\"#000000\" points=\"1789,-131.5 1789,-200.5 1880,-200.5 1880,-131.5 1789,-131.5\"/>\n<text text-anchor=\"middle\" x=\"1834.5\" y=\"-185.3\" font-family=\"Times,serif\" font-size=\"14.00\" fill=\"#000000\">output</text>\n<polyline fill=\"none\" stroke=\"#000000\" points=\"1789,-177.5 1880,-177.5 \"/>\n<text text-anchor=\"middle\" x=\"1834.5\" y=\"-162.3\" font-family=\"Times,serif\" font-size=\"14.00\" fill=\"#000000\">data: 0.7071</text>\n<polyline fill=\"none\" stroke=\"#000000\" points=\"1789,-154.5 1880,-154.5 \"/>\n<text text-anchor=\"middle\" x=\"1834.5\" y=\"-139.3\" font-family=\"Times,serif\" font-size=\"14.00\" fill=\"#000000\">grad: 1.0000</text>\n</g>\n<!-- 140417358672848*&#45;&gt;140417358672848 -->\n<g id=\"edge10\" class=\"edge\">\n<title>140417358672848*&#45;&gt;140417358672848</title>\n<path fill=\"none\" stroke=\"#000000\" d=\"M1753.0992,-166C1760.9432,-166 1769.8075,-166 1778.7268,-166\"/>\n<polygon fill=\"#000000\" stroke=\"#000000\" points=\"1778.7688,-169.5001 1788.7688,-166 1778.7687,-162.5001 1778.7688,-169.5001\"/>\n</g>\n</g>\n</svg>\n"
          },
          "metadata": {},
          "execution_count": 25
        }
      ]
    }
  ]
}