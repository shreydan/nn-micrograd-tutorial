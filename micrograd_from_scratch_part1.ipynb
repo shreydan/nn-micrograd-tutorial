{
  "nbformat": 4,
  "nbformat_minor": 0,
  "metadata": {
    "colab": {
      "name": "micrograd_from_scratch_part1.ipynb",
      "provenance": [],
      "authorship_tag": "ABX9TyNjcjwRopUulRRod6ozpjEK"
    },
    "kernelspec": {
      "name": "python3",
      "display_name": "Python 3"
    },
    "language_info": {
      "name": "python"
    }
  },
  "cells": [
    {
      "cell_type": "markdown",
      "source": [
        "# **Andrej Karpathy Micrograd Tutorial**\n",
        "## [The spelled-out intro to neural networks and backpropagation: building micrograd](https://www.youtube.com/watch?v=VMj-3S1tku0&t=969s)\n",
        "\n",
        "___"
      ],
      "metadata": {
        "id": "20nbXHqT8pii"
      }
    },
    {
      "cell_type": "code",
      "execution_count": 71,
      "metadata": {
        "id": "FMULQ7kx07vz"
      },
      "outputs": [],
      "source": [
        "import numpy as np\n",
        "import math\n",
        "import matplotlib.pyplot as plt\n",
        "%matplotlib inline"
      ]
    },
    {
      "cell_type": "code",
      "source": [
        "def f(x):\n",
        "    return 3*x**2 - 4*x + 5"
      ],
      "metadata": {
        "id": "TY22PGah1IWy"
      },
      "execution_count": 72,
      "outputs": []
    },
    {
      "cell_type": "code",
      "source": [
        "f(3.0)"
      ],
      "metadata": {
        "colab": {
          "base_uri": "https://localhost:8080/"
        },
        "id": "dwe-ML5N1dcB",
        "outputId": "79cde5a5-95c2-416f-9bc5-ceb454d8d9db"
      },
      "execution_count": 73,
      "outputs": [
        {
          "output_type": "execute_result",
          "data": {
            "text/plain": [
              "20.0"
            ]
          },
          "metadata": {},
          "execution_count": 73
        }
      ]
    },
    {
      "cell_type": "code",
      "source": [
        "xs = np.arange(-5,5,0.25)\n",
        "ys = f(xs)"
      ],
      "metadata": {
        "id": "MBR-Up4j1gDD"
      },
      "execution_count": 74,
      "outputs": []
    },
    {
      "cell_type": "code",
      "source": [
        "plt.plot(xs,ys)"
      ],
      "metadata": {
        "colab": {
          "base_uri": "https://localhost:8080/",
          "height": 282
        },
        "id": "LT48Q4cL1oWh",
        "outputId": "67150213-c20a-4bf4-ed09-ecd67fa18a95"
      },
      "execution_count": 75,
      "outputs": [
        {
          "output_type": "execute_result",
          "data": {
            "text/plain": [
              "[<matplotlib.lines.Line2D at 0x7fde51fd9d90>]"
            ]
          },
          "metadata": {},
          "execution_count": 75
        },
        {
          "output_type": "display_data",
          "data": {
            "text/plain": [
              "<Figure size 432x288 with 1 Axes>"
            ],
            "image/png": "[encoded data removed]"
          },
          "metadata": {
            "needs_background": "light"
          }
        }
      ]
    },
    {
      "cell_type": "markdown",
      "source": [
        "# what is the derivative at different points on this curve?"
      ],
      "metadata": {
        "id": "PB3xRjyh1ton"
      }
    },
    {
      "cell_type": "code",
      "source": [
        "h = 0.001\n",
        "xs = [3,-3]\n",
        "# definition of derivative\n",
        "[(f(x+h) - f(x))/h for x in xs]\n",
        "# at 3 it has positive slope and at -3 it has negative slope"
      ],
      "metadata": {
        "colab": {
          "base_uri": "https://localhost:8080/"
        },
        "id": "CjV9fZ9W19iR",
        "outputId": "5b921b9f-dd88-432a-f114-739d83375c80"
      },
      "execution_count": 76,
      "outputs": [
        {
          "output_type": "execute_result",
          "data": {
            "text/plain": [
              "[14.00300000000243, -21.996999999998934]"
            ]
          },
          "metadata": {},
          "execution_count": 76
        }
      ]
    },
    {
      "cell_type": "code",
      "source": [
        "# slightly more complex stuff:\n",
        "a = 2.0\n",
        "b = -3.0\n",
        "c = 10.0\n",
        "d = a*b + c\n",
        "d"
      ],
      "metadata": {
        "colab": {
          "base_uri": "https://localhost:8080/"
        },
        "id": "75sVo3mg2jbF",
        "outputId": "dd5622fe-22ab-4841-8961-d5572cb053d0"
      },
      "execution_count": 77,
      "outputs": [
        {
          "output_type": "execute_result",
          "data": {
            "text/plain": [
              "4.0"
            ]
          },
          "metadata": {},
          "execution_count": 77
        }
      ]
    },
    {
      "cell_type": "code",
      "source": [
        "h = 0.0001\n",
        "\n",
        "# wrt a\n",
        "a = 2.0\n",
        "b = -3.0\n",
        "c = 10.0\n",
        "d1 = a*b + c\n",
        "\n",
        "a += h\n",
        "d2 = a*b + c\n",
        "print(f\"a -> d1: {d1}, d2: {d2}, slope: {(d2-d1)/h}\")\n",
        "\n",
        "# wrt b\n",
        "a = 2.0\n",
        "b = -3.0\n",
        "c = 10.0\n",
        "\n",
        "b += h\n",
        "d2 = a*b + c\n",
        "print(f\"b -> d1: {d1}, d2: {d2}, slope: {(d2-d1)/h}\")\n",
        "\n",
        "# wrt c\n",
        "a = 2.0\n",
        "b = -3.0\n",
        "c = 10.0\n",
        "c += h\n",
        "d2 = a*b + c\n",
        "\n",
        "print(f\"c -> d1: {d1}, d2: {d2}, slope: {(d2-d1)/h}\")"
      ],
      "metadata": {
        "colab": {
          "base_uri": "https://localhost:8080/"
        },
        "id": "U5kNW80p3Wnv",
        "outputId": "9aa9a6d6-f039-4264-8ec7-40fdc1d0db8d"
      },
      "execution_count": 78,
      "outputs": [
        {
          "output_type": "stream",
          "name": "stdout",
          "text": [
            "a -> d1: 4.0, d2: 3.999699999999999, slope: -3.000000000010772\n",
            "b -> d1: 4.0, d2: 4.0002, slope: 2.0000000000042206\n",
            "c -> d1: 4.0, d2: 4.0001, slope: 0.9999999999976694\n"
          ]
        }
      ]
    },
    {
      "cell_type": "markdown",
      "source": [
        "___\n",
        "\n",
        "\n",
        "# Micrograd"
      ],
      "metadata": {
        "id": "3thC4Mi-7qJE"
      }
    },
    {
      "cell_type": "code",
      "source": [
        "class Value:\n",
        "    \n",
        "    def __init__(self,data, _children = (), _op='', label=''):\n",
        "        self.data = data\n",
        "        self.grad = 0.0 # 0 = no effect\n",
        "        self._prev = set(_children)\n",
        "        self._op = _op\n",
        "        self.label = label\n",
        "\n",
        "    \n",
        "    def __repr__(self):\n",
        "        return f\"Value(data={self.data})\"\n",
        "\n",
        "    # addition: internally a.__add__(b)\n",
        "    def __add__(self, other):\n",
        "        return Value(self.data + other.data, (self, other), '+')\n",
        "\n",
        "    # multiplication\n",
        "    def __mul__(self, other):\n",
        "        return Value(self.data * other.data, (self, other), '*')"
      ],
      "metadata": {
        "id": "H04Qe53K5m_w"
      },
      "execution_count": 79,
      "outputs": []
    },
    {
      "cell_type": "code",
      "source": [
        "a = Value(2.0, label='a')\n",
        "b = Value(-3.0, label='b')\n",
        "c = Value(10, label = 'c')\n",
        "d = a*b\n",
        "d.label = 'd'\n",
        "e = d + c\n",
        "e.label = 'e'\n",
        "print(e, e._prev, e._op)"
      ],
      "metadata": {
        "colab": {
          "base_uri": "https://localhost:8080/"
        },
        "id": "k8KPQ5-Q8AQ1",
        "outputId": "059fd945-bb45-45de-c28e-cb982b131e5f"
      },
      "execution_count": 80,
      "outputs": [
        {
          "output_type": "stream",
          "name": "stdout",
          "text": [
            "Value(data=4.0) {Value(data=10), Value(data=-6.0)} +\n"
          ]
        }
      ]
    },
    {
      "cell_type": "markdown",
      "source": [
        "# Visualizing the equation"
      ],
      "metadata": {
        "id": "8p5VZdiM-b55"
      }
    },
    {
      "cell_type": "code",
      "source": [
        "from graphviz import Digraph\n",
        "\n",
        "def trace(root):\n",
        "    # builds set of all nodes and edges in graph\n",
        "    nodes, edges = set(), set()\n",
        "    def build(v):\n",
        "        if v not in nodes:\n",
        "            nodes.add(v)\n",
        "            for child in v._prev:\n",
        "                edges.add((child,v))\n",
        "                build(child)\n",
        "    build(root)\n",
        "    return nodes, edges\n",
        "\n",
        "def draw_dot(root):\n",
        "    dot = Digraph(format='svg', graph_attr={'rankdir':'LR'}) # LR: left -> right\n",
        "    nodes, edges = trace(root)\n",
        "\n",
        "    for n in nodes:\n",
        "        uid = str(id(n))\n",
        "        # for value - create rectangular 'record' node\n",
        "        dot.node(name=uid, \n",
        "                 label = f\"{n.label} | data: {n.data:.4f} | grad: {n.grad:.4f}\", \n",
        "                 shape='record'\n",
        "                )\n",
        "        \n",
        "        # if result of an operation, create operator node\n",
        "        if n._op:\n",
        "            dot.node(name=uid+n._op, label = n._op)\n",
        "            dot.edge(uid+n._op, uid)\n",
        "\n",
        "    for n1,n2 in edges:\n",
        "        # connect n1 -> op node of n2\n",
        "        dot.edge(str(id(n1)), str(id(n2))+n2._op)\n",
        "\n",
        "    return dot"
      ],
      "metadata": {
        "id": "go50TpUb-eeN"
      },
      "execution_count": 81,
      "outputs": []
    },
    {
      "cell_type": "code",
      "source": [
        "draw_dot(c)"
      ],
      "metadata": {
        "colab": {
          "base_uri": "https://localhost:8080/",
          "height": 125
        },
        "id": "4n613qdTAoQ7",
        "outputId": "fb3d0a67-6f5c-4bda-e59c-e9e0f0af51c7"
      },
      "execution_count": 82,
      "outputs": [
        {
          "output_type": "execute_result",
          "data": {
            "text/plain": [
              "<graphviz.dot.Digraph at 0x7fde52008350>"
            ],
            "image/svg+xml": "<?xml version=\"1.0\" encoding=\"UTF-8\" standalone=\"no\"?>\n<!DOCTYPE svg PUBLIC \"-//W3C//DTD SVG 1.1//EN\"\n \"http://www.w3.org/Graphics/SVG/1.1/DTD/svg11.dtd\">\n<!-- Generated by graphviz version 2.40.1 (20161225.0304)\n -->\n<!-- Title: %3 Pages: 1 -->\n<svg width=\"104pt\" height=\"78pt\"\n viewBox=\"0.00 0.00 104.00 78.00\" xmlns=\"http://www.w3.org/2000/svg\" xmlns:xlink=\"http://www.w3.org/1999/xlink\">\n<g id=\"graph0\" class=\"graph\" transform=\"scale(1 1) rotate(0) translate(4 74)\">\n<title>%3</title>\n<polygon fill=\"#ffffff\" stroke=\"transparent\" points=\"-4,4 -4,-74 100,-74 100,4 -4,4\"/>\n<!-- 140592834892432 -->\n<g id=\"node1\" class=\"node\">\n<title>140592834892432</title>\n<polygon fill=\"none\" stroke=\"#000000\" points=\"0,-.5 0,-69.5 96,-69.5 96,-.5 0,-.5\"/>\n<text text-anchor=\"middle\" x=\"48\" y=\"-54.3\" font-family=\"Times,serif\" font-size=\"14.00\" fill=\"#000000\">c</text>\n<polyline fill=\"none\" stroke=\"#000000\" points=\"0,-46.5 96,-46.5 \"/>\n<text text-anchor=\"middle\" x=\"48\" y=\"-31.3\" font-family=\"Times,serif\" font-size=\"14.00\" fill=\"#000000\">data: 10.0000</text>\n<polyline fill=\"none\" stroke=\"#000000\" points=\"0,-23.5 96,-23.5 \"/>\n<text text-anchor=\"middle\" x=\"48\" y=\"-8.3\" font-family=\"Times,serif\" font-size=\"14.00\" fill=\"#000000\">grad: 0.0000</text>\n</g>\n</g>\n</svg>\n"
          },
          "metadata": {},
          "execution_count": 82
        }
      ]
    },
    {
      "cell_type": "code",
      "source": [
        "draw_dot(d)"
      ],
      "metadata": {
        "colab": {
          "base_uri": "https://localhost:8080/",
          "height": 242
        },
        "id": "JpBG2PmgACzf",
        "outputId": "7a98e03b-5efd-4495-aba9-e545e58c958e"
      },
      "execution_count": 83,
      "outputs": [
        {
          "output_type": "execute_result",
          "data": {
            "text/plain": [
              "<graphviz.dot.Digraph at 0x7fde51fa7f50>"
            ],
            "image/svg+xml": "<?xml version=\"1.0\" encoding=\"UTF-8\" standalone=\"no\"?>\n<!DOCTYPE svg PUBLIC \"-//W3C//DTD SVG 1.1//EN\"\n \"http://www.w3.org/Graphics/SVG/1.1/DTD/svg11.dtd\">\n<!-- Generated by graphviz version 2.40.1 (20161225.0304)\n -->\n<!-- Title: %3 Pages: 1 -->\n<svg width=\"320pt\" height=\"166pt\"\n viewBox=\"0.00 0.00 320.00 166.00\" xmlns=\"http://www.w3.org/2000/svg\" xmlns:xlink=\"http://www.w3.org/1999/xlink\">\n<g id=\"graph0\" class=\"graph\" transform=\"scale(1 1) rotate(0) translate(4 162)\">\n<title>%3</title>\n<polygon fill=\"#ffffff\" stroke=\"transparent\" points=\"-4,4 -4,-162 316,-162 316,4 -4,4\"/>\n<!-- 140592834892240 -->\n<g id=\"node1\" class=\"node\">\n<title>140592834892240</title>\n<polygon fill=\"none\" stroke=\"#000000\" points=\"0,-88.5 0,-157.5 93,-157.5 93,-88.5 0,-88.5\"/>\n<text text-anchor=\"middle\" x=\"46.5\" y=\"-142.3\" font-family=\"Times,serif\" font-size=\"14.00\" fill=\"#000000\">b</text>\n<polyline fill=\"none\" stroke=\"#000000\" points=\"0,-134.5 93,-134.5 \"/>\n<text text-anchor=\"middle\" x=\"46.5\" y=\"-119.3\" font-family=\"Times,serif\" font-size=\"14.00\" fill=\"#000000\">data: &#45;3.0000</text>\n<polyline fill=\"none\" stroke=\"#000000\" points=\"0,-111.5 93,-111.5 \"/>\n<text text-anchor=\"middle\" x=\"46.5\" y=\"-96.3\" font-family=\"Times,serif\" font-size=\"14.00\" fill=\"#000000\">grad: 0.0000</text>\n</g>\n<!-- 140592834892624* -->\n<g id=\"node4\" class=\"node\">\n<title>140592834892624*</title>\n<ellipse fill=\"none\" stroke=\"#000000\" cx=\"156\" cy=\"-79\" rx=\"27\" ry=\"18\"/>\n<text text-anchor=\"middle\" x=\"156\" y=\"-75.3\" font-family=\"Times,serif\" font-size=\"14.00\" fill=\"#000000\">*</text>\n</g>\n<!-- 140592834892240&#45;&gt;140592834892624* -->\n<g id=\"edge3\" class=\"edge\">\n<title>140592834892240&#45;&gt;140592834892624*</title>\n<path fill=\"none\" stroke=\"#000000\" d=\"M93.2555,-104.2124C103.3508,-100.1559 113.8166,-95.9504 123.2402,-92.1638\"/>\n<polygon fill=\"#000000\" stroke=\"#000000\" points=\"124.65,-95.3693 132.6239,-88.3931 122.04,-88.8741 124.65,-95.3693\"/>\n</g>\n<!-- 140592834892368 -->\n<g id=\"node2\" class=\"node\">\n<title>140592834892368</title>\n<polygon fill=\"none\" stroke=\"#000000\" points=\"1,-.5 1,-69.5 92,-69.5 92,-.5 1,-.5\"/>\n<text text-anchor=\"middle\" x=\"46.5\" y=\"-54.3\" font-family=\"Times,serif\" font-size=\"14.00\" fill=\"#000000\">a</text>\n<polyline fill=\"none\" stroke=\"#000000\" points=\"1,-46.5 92,-46.5 \"/>\n<text text-anchor=\"middle\" x=\"46.5\" y=\"-31.3\" font-family=\"Times,serif\" font-size=\"14.00\" fill=\"#000000\">data: 2.0000</text>\n<polyline fill=\"none\" stroke=\"#000000\" points=\"1,-23.5 92,-23.5 \"/>\n<text text-anchor=\"middle\" x=\"46.5\" y=\"-8.3\" font-family=\"Times,serif\" font-size=\"14.00\" fill=\"#000000\">grad: 0.0000</text>\n</g>\n<!-- 140592834892368&#45;&gt;140592834892624* -->\n<g id=\"edge2\" class=\"edge\">\n<title>140592834892368&#45;&gt;140592834892624*</title>\n<path fill=\"none\" stroke=\"#000000\" d=\"M92.3034,-53.405C102.7644,-57.6085 113.6733,-61.992 123.4463,-65.9191\"/>\n<polygon fill=\"#000000\" stroke=\"#000000\" points=\"122.1981,-69.1895 132.7821,-69.6704 124.8081,-62.6942 122.1981,-69.1895\"/>\n</g>\n<!-- 140592834892624 -->\n<g id=\"node3\" class=\"node\">\n<title>140592834892624</title>\n<polygon fill=\"none\" stroke=\"#000000\" points=\"219,-44.5 219,-113.5 312,-113.5 312,-44.5 219,-44.5\"/>\n<text text-anchor=\"middle\" x=\"265.5\" y=\"-98.3\" font-family=\"Times,serif\" font-size=\"14.00\" fill=\"#000000\">d</text>\n<polyline fill=\"none\" stroke=\"#000000\" points=\"219,-90.5 312,-90.5 \"/>\n<text text-anchor=\"middle\" x=\"265.5\" y=\"-75.3\" font-family=\"Times,serif\" font-size=\"14.00\" fill=\"#000000\">data: &#45;6.0000</text>\n<polyline fill=\"none\" stroke=\"#000000\" points=\"219,-67.5 312,-67.5 \"/>\n<text text-anchor=\"middle\" x=\"265.5\" y=\"-52.3\" font-family=\"Times,serif\" font-size=\"14.00\" fill=\"#000000\">grad: 0.0000</text>\n</g>\n<!-- 140592834892624*&#45;&gt;140592834892624 -->\n<g id=\"edge1\" class=\"edge\">\n<title>140592834892624*&#45;&gt;140592834892624</title>\n<path fill=\"none\" stroke=\"#000000\" d=\"M183.0674,-79C190.8899,-79 199.7356,-79 208.6555,-79\"/>\n<polygon fill=\"#000000\" stroke=\"#000000\" points=\"208.7073,-82.5001 218.7073,-79 208.7073,-75.5001 208.7073,-82.5001\"/>\n</g>\n</g>\n</svg>\n"
          },
          "metadata": {},
          "execution_count": 83
        }
      ]
    },
    {
      "cell_type": "code",
      "source": [
        "draw_dot(e)"
      ],
      "metadata": {
        "colab": {
          "base_uri": "https://localhost:8080/",
          "height": 301
        },
        "id": "K4FWXR-VAmCC",
        "outputId": "30fe6109-815c-40a6-a605-cbf253b60fe5"
      },
      "execution_count": 84,
      "outputs": [
        {
          "output_type": "execute_result",
          "data": {
            "text/plain": [
              "<graphviz.dot.Digraph at 0x7fde51fb55d0>"
            ],
            "image/svg+xml": "<?xml version=\"1.0\" encoding=\"UTF-8\" standalone=\"no\"?>\n<!DOCTYPE svg PUBLIC \"-//W3C//DTD SVG 1.1//EN\"\n \"http://www.w3.org/Graphics/SVG/1.1/DTD/svg11.dtd\">\n<!-- Generated by graphviz version 2.40.1 (20161225.0304)\n -->\n<!-- Title: %3 Pages: 1 -->\n<svg width=\"540pt\" height=\"210pt\"\n viewBox=\"0.00 0.00 540.00 210.00\" xmlns=\"http://www.w3.org/2000/svg\" xmlns:xlink=\"http://www.w3.org/1999/xlink\">\n<g id=\"graph0\" class=\"graph\" transform=\"scale(1 1) rotate(0) translate(4 206)\">\n<title>%3</title>\n<polygon fill=\"#ffffff\" stroke=\"transparent\" points=\"-4,4 -4,-206 536,-206 536,4 -4,4\"/>\n<!-- 140592834892816 -->\n<g id=\"node1\" class=\"node\">\n<title>140592834892816</title>\n<polygon fill=\"none\" stroke=\"#000000\" points=\"441,-88.5 441,-157.5 532,-157.5 532,-88.5 441,-88.5\"/>\n<text text-anchor=\"middle\" x=\"486.5\" y=\"-142.3\" font-family=\"Times,serif\" font-size=\"14.00\" fill=\"#000000\">e</text>\n<polyline fill=\"none\" stroke=\"#000000\" points=\"441,-134.5 532,-134.5 \"/>\n<text text-anchor=\"middle\" x=\"486.5\" y=\"-119.3\" font-family=\"Times,serif\" font-size=\"14.00\" fill=\"#000000\">data: 4.0000</text>\n<polyline fill=\"none\" stroke=\"#000000\" points=\"441,-111.5 532,-111.5 \"/>\n<text text-anchor=\"middle\" x=\"486.5\" y=\"-96.3\" font-family=\"Times,serif\" font-size=\"14.00\" fill=\"#000000\">grad: 0.0000</text>\n</g>\n<!-- 140592834892816+ -->\n<g id=\"node2\" class=\"node\">\n<title>140592834892816+</title>\n<ellipse fill=\"none\" stroke=\"#000000\" cx=\"378\" cy=\"-123\" rx=\"27\" ry=\"18\"/>\n<text text-anchor=\"middle\" x=\"378\" y=\"-119.3\" font-family=\"Times,serif\" font-size=\"14.00\" fill=\"#000000\">+</text>\n</g>\n<!-- 140592834892816+&#45;&gt;140592834892816 -->\n<g id=\"edge1\" class=\"edge\">\n<title>140592834892816+&#45;&gt;140592834892816</title>\n<path fill=\"none\" stroke=\"#000000\" d=\"M405.0992,-123C412.9432,-123 421.8075,-123 430.7268,-123\"/>\n<polygon fill=\"#000000\" stroke=\"#000000\" points=\"430.7688,-126.5001 440.7688,-123 430.7687,-119.5001 430.7688,-126.5001\"/>\n</g>\n<!-- 140592834892368 -->\n<g id=\"node3\" class=\"node\">\n<title>140592834892368</title>\n<polygon fill=\"none\" stroke=\"#000000\" points=\"1,-88.5 1,-157.5 92,-157.5 92,-88.5 1,-88.5\"/>\n<text text-anchor=\"middle\" x=\"46.5\" y=\"-142.3\" font-family=\"Times,serif\" font-size=\"14.00\" fill=\"#000000\">a</text>\n<polyline fill=\"none\" stroke=\"#000000\" points=\"1,-134.5 92,-134.5 \"/>\n<text text-anchor=\"middle\" x=\"46.5\" y=\"-119.3\" font-family=\"Times,serif\" font-size=\"14.00\" fill=\"#000000\">data: 2.0000</text>\n<polyline fill=\"none\" stroke=\"#000000\" points=\"1,-111.5 92,-111.5 \"/>\n<text text-anchor=\"middle\" x=\"46.5\" y=\"-96.3\" font-family=\"Times,serif\" font-size=\"14.00\" fill=\"#000000\">grad: 0.0000</text>\n</g>\n<!-- 140592834892624* -->\n<g id=\"node6\" class=\"node\">\n<title>140592834892624*</title>\n<ellipse fill=\"none\" stroke=\"#000000\" cx=\"156\" cy=\"-79\" rx=\"27\" ry=\"18\"/>\n<text text-anchor=\"middle\" x=\"156\" y=\"-75.3\" font-family=\"Times,serif\" font-size=\"14.00\" fill=\"#000000\">*</text>\n</g>\n<!-- 140592834892368&#45;&gt;140592834892624* -->\n<g id=\"edge4\" class=\"edge\">\n<title>140592834892368&#45;&gt;140592834892624*</title>\n<path fill=\"none\" stroke=\"#000000\" d=\"M92.3034,-104.595C102.7644,-100.3915 113.6733,-96.008 123.4463,-92.0809\"/>\n<polygon fill=\"#000000\" stroke=\"#000000\" points=\"124.8081,-95.3058 132.7821,-88.3296 122.1981,-88.8105 124.8081,-95.3058\"/>\n</g>\n<!-- 140592834892432 -->\n<g id=\"node4\" class=\"node\">\n<title>140592834892432</title>\n<polygon fill=\"none\" stroke=\"#000000\" points=\"219,-132.5 219,-201.5 315,-201.5 315,-132.5 219,-132.5\"/>\n<text text-anchor=\"middle\" x=\"267\" y=\"-186.3\" font-family=\"Times,serif\" font-size=\"14.00\" fill=\"#000000\">c</text>\n<polyline fill=\"none\" stroke=\"#000000\" points=\"219,-178.5 315,-178.5 \"/>\n<text text-anchor=\"middle\" x=\"267\" y=\"-163.3\" font-family=\"Times,serif\" font-size=\"14.00\" fill=\"#000000\">data: 10.0000</text>\n<polyline fill=\"none\" stroke=\"#000000\" points=\"219,-155.5 315,-155.5 \"/>\n<text text-anchor=\"middle\" x=\"267\" y=\"-140.3\" font-family=\"Times,serif\" font-size=\"14.00\" fill=\"#000000\">grad: 0.0000</text>\n</g>\n<!-- 140592834892432&#45;&gt;140592834892816+ -->\n<g id=\"edge6\" class=\"edge\">\n<title>140592834892432&#45;&gt;140592834892816+</title>\n<path fill=\"none\" stroke=\"#000000\" d=\"M315.0406,-147.9569C325.2164,-143.9232 335.7329,-139.7545 345.1881,-136.0065\"/>\n<polygon fill=\"#000000\" stroke=\"#000000\" points=\"346.5921,-139.215 354.5986,-132.2762 344.0125,-132.7076 346.5921,-139.215\"/>\n</g>\n<!-- 140592834892624 -->\n<g id=\"node5\" class=\"node\">\n<title>140592834892624</title>\n<polygon fill=\"none\" stroke=\"#000000\" points=\"220.5,-44.5 220.5,-113.5 313.5,-113.5 313.5,-44.5 220.5,-44.5\"/>\n<text text-anchor=\"middle\" x=\"267\" y=\"-98.3\" font-family=\"Times,serif\" font-size=\"14.00\" fill=\"#000000\">d</text>\n<polyline fill=\"none\" stroke=\"#000000\" points=\"220.5,-90.5 313.5,-90.5 \"/>\n<text text-anchor=\"middle\" x=\"267\" y=\"-75.3\" font-family=\"Times,serif\" font-size=\"14.00\" fill=\"#000000\">data: &#45;6.0000</text>\n<polyline fill=\"none\" stroke=\"#000000\" points=\"220.5,-67.5 313.5,-67.5 \"/>\n<text text-anchor=\"middle\" x=\"267\" y=\"-52.3\" font-family=\"Times,serif\" font-size=\"14.00\" fill=\"#000000\">grad: 0.0000</text>\n</g>\n<!-- 140592834892624&#45;&gt;140592834892816+ -->\n<g id=\"edge3\" class=\"edge\">\n<title>140592834892624&#45;&gt;140592834892816+</title>\n<path fill=\"none\" stroke=\"#000000\" d=\"M313.7523,-97.5324C324.3282,-101.7247 335.3389,-106.0893 345.1958,-109.9965\"/>\n<polygon fill=\"#000000\" stroke=\"#000000\" points=\"344.0231,-113.2966 354.6091,-113.728 346.6026,-106.7892 344.0231,-113.2966\"/>\n</g>\n<!-- 140592834892624*&#45;&gt;140592834892624 -->\n<g id=\"edge2\" class=\"edge\">\n<title>140592834892624*&#45;&gt;140592834892624</title>\n<path fill=\"none\" stroke=\"#000000\" d=\"M183.1537,-79C191.355,-79 200.6851,-79 210.0698,-79\"/>\n<polygon fill=\"#000000\" stroke=\"#000000\" points=\"210.2239,-82.5001 220.2238,-79 210.2238,-75.5001 210.2239,-82.5001\"/>\n</g>\n<!-- 140592834892240 -->\n<g id=\"node7\" class=\"node\">\n<title>140592834892240</title>\n<polygon fill=\"none\" stroke=\"#000000\" points=\"0,-.5 0,-69.5 93,-69.5 93,-.5 0,-.5\"/>\n<text text-anchor=\"middle\" x=\"46.5\" y=\"-54.3\" font-family=\"Times,serif\" font-size=\"14.00\" fill=\"#000000\">b</text>\n<polyline fill=\"none\" stroke=\"#000000\" points=\"0,-46.5 93,-46.5 \"/>\n<text text-anchor=\"middle\" x=\"46.5\" y=\"-31.3\" font-family=\"Times,serif\" font-size=\"14.00\" fill=\"#000000\">data: &#45;3.0000</text>\n<polyline fill=\"none\" stroke=\"#000000\" points=\"0,-23.5 93,-23.5 \"/>\n<text text-anchor=\"middle\" x=\"46.5\" y=\"-8.3\" font-family=\"Times,serif\" font-size=\"14.00\" fill=\"#000000\">grad: 0.0000</text>\n</g>\n<!-- 140592834892240&#45;&gt;140592834892624* -->\n<g id=\"edge5\" class=\"edge\">\n<title>140592834892240&#45;&gt;140592834892624*</title>\n<path fill=\"none\" stroke=\"#000000\" d=\"M93.2555,-53.7876C103.3508,-57.8441 113.8166,-62.0496 123.2402,-65.8362\"/>\n<polygon fill=\"#000000\" stroke=\"#000000\" points=\"122.04,-69.1259 132.6239,-69.6069 124.65,-62.6307 122.04,-69.1259\"/>\n</g>\n</g>\n</svg>\n"
          },
          "metadata": {},
          "execution_count": 84
        }
      ]
    },
    {
      "cell_type": "code",
      "source": [
        "f =  Value(-2.0, label='f')\n",
        "L = e*f\n",
        "L.label = 'L'\n",
        "L"
      ],
      "metadata": {
        "colab": {
          "base_uri": "https://localhost:8080/"
        },
        "id": "C2N-Fp5bB5vT",
        "outputId": "c3a462b1-7204-4063-cc79-56920147907c"
      },
      "execution_count": 85,
      "outputs": [
        {
          "output_type": "execute_result",
          "data": {
            "text/plain": [
              "Value(data=-8.0)"
            ]
          },
          "metadata": {},
          "execution_count": 85
        }
      ]
    },
    {
      "cell_type": "code",
      "source": [
        "draw_dot(L)"
      ],
      "metadata": {
        "colab": {
          "base_uri": "https://localhost:8080/",
          "height": 360
        },
        "id": "jCf1GFvYCS-q",
        "outputId": "094b35ff-376b-4ce0-bca8-acbd3c4b1366"
      },
      "execution_count": 86,
      "outputs": [
        {
          "output_type": "execute_result",
          "data": {
            "text/plain": [
              "<graphviz.dot.Digraph at 0x7fde51f4e610>"
            ],
            "image/svg+xml": "<?xml version=\"1.0\" encoding=\"UTF-8\" standalone=\"no\"?>\n<!DOCTYPE svg PUBLIC \"-//W3C//DTD SVG 1.1//EN\"\n \"http://www.w3.org/Graphics/SVG/1.1/DTD/svg11.dtd\">\n<!-- Generated by graphviz version 2.40.1 (20161225.0304)\n -->\n<!-- Title: %3 Pages: 1 -->\n<svg width=\"761pt\" height=\"254pt\"\n viewBox=\"0.00 0.00 761.00 254.00\" xmlns=\"http://www.w3.org/2000/svg\" xmlns:xlink=\"http://www.w3.org/1999/xlink\">\n<g id=\"graph0\" class=\"graph\" transform=\"scale(1 1) rotate(0) translate(4 250)\">\n<title>%3</title>\n<polygon fill=\"#ffffff\" stroke=\"transparent\" points=\"-4,4 -4,-250 757,-250 757,4 -4,4\"/>\n<!-- 140592834892816 -->\n<g id=\"node1\" class=\"node\">\n<title>140592834892816</title>\n<polygon fill=\"none\" stroke=\"#000000\" points=\"442,-88.5 442,-157.5 533,-157.5 533,-88.5 442,-88.5\"/>\n<text text-anchor=\"middle\" x=\"487.5\" y=\"-142.3\" font-family=\"Times,serif\" font-size=\"14.00\" fill=\"#000000\">e</text>\n<polyline fill=\"none\" stroke=\"#000000\" points=\"442,-134.5 533,-134.5 \"/>\n<text text-anchor=\"middle\" x=\"487.5\" y=\"-119.3\" font-family=\"Times,serif\" font-size=\"14.00\" fill=\"#000000\">data: 4.0000</text>\n<polyline fill=\"none\" stroke=\"#000000\" points=\"442,-111.5 533,-111.5 \"/>\n<text text-anchor=\"middle\" x=\"487.5\" y=\"-96.3\" font-family=\"Times,serif\" font-size=\"14.00\" fill=\"#000000\">grad: 0.0000</text>\n</g>\n<!-- 140592834470672* -->\n<g id=\"node6\" class=\"node\">\n<title>140592834470672*</title>\n<ellipse fill=\"none\" stroke=\"#000000\" cx=\"597\" cy=\"-167\" rx=\"27\" ry=\"18\"/>\n<text text-anchor=\"middle\" x=\"597\" y=\"-163.3\" font-family=\"Times,serif\" font-size=\"14.00\" fill=\"#000000\">*</text>\n</g>\n<!-- 140592834892816&#45;&gt;140592834470672* -->\n<g id=\"edge7\" class=\"edge\">\n<title>140592834892816&#45;&gt;140592834470672*</title>\n<path fill=\"none\" stroke=\"#000000\" d=\"M533.3034,-141.405C543.7644,-145.6085 554.6733,-149.992 564.4463,-153.9191\"/>\n<polygon fill=\"#000000\" stroke=\"#000000\" points=\"563.1981,-157.1895 573.7821,-157.6704 565.8081,-150.6942 563.1981,-157.1895\"/>\n</g>\n<!-- 140592834892816+ -->\n<g id=\"node2\" class=\"node\">\n<title>140592834892816+</title>\n<ellipse fill=\"none\" stroke=\"#000000\" cx=\"378\" cy=\"-123\" rx=\"27\" ry=\"18\"/>\n<text text-anchor=\"middle\" x=\"378\" y=\"-119.3\" font-family=\"Times,serif\" font-size=\"14.00\" fill=\"#000000\">+</text>\n</g>\n<!-- 140592834892816+&#45;&gt;140592834892816 -->\n<g id=\"edge1\" class=\"edge\">\n<title>140592834892816+&#45;&gt;140592834892816</title>\n<path fill=\"none\" stroke=\"#000000\" d=\"M405.0674,-123C413.2531,-123 422.5591,-123 431.8982,-123\"/>\n<polygon fill=\"#000000\" stroke=\"#000000\" points=\"431.9937,-126.5001 441.9936,-123 431.9936,-119.5001 431.9937,-126.5001\"/>\n</g>\n<!-- 140592834892368 -->\n<g id=\"node3\" class=\"node\">\n<title>140592834892368</title>\n<polygon fill=\"none\" stroke=\"#000000\" points=\"1,-88.5 1,-157.5 92,-157.5 92,-88.5 1,-88.5\"/>\n<text text-anchor=\"middle\" x=\"46.5\" y=\"-142.3\" font-family=\"Times,serif\" font-size=\"14.00\" fill=\"#000000\">a</text>\n<polyline fill=\"none\" stroke=\"#000000\" points=\"1,-134.5 92,-134.5 \"/>\n<text text-anchor=\"middle\" x=\"46.5\" y=\"-119.3\" font-family=\"Times,serif\" font-size=\"14.00\" fill=\"#000000\">data: 2.0000</text>\n<polyline fill=\"none\" stroke=\"#000000\" points=\"1,-111.5 92,-111.5 \"/>\n<text text-anchor=\"middle\" x=\"46.5\" y=\"-96.3\" font-family=\"Times,serif\" font-size=\"14.00\" fill=\"#000000\">grad: 0.0000</text>\n</g>\n<!-- 140592834892624* -->\n<g id=\"node8\" class=\"node\">\n<title>140592834892624*</title>\n<ellipse fill=\"none\" stroke=\"#000000\" cx=\"156\" cy=\"-79\" rx=\"27\" ry=\"18\"/>\n<text text-anchor=\"middle\" x=\"156\" y=\"-75.3\" font-family=\"Times,serif\" font-size=\"14.00\" fill=\"#000000\">*</text>\n</g>\n<!-- 140592834892368&#45;&gt;140592834892624* -->\n<g id=\"edge8\" class=\"edge\">\n<title>140592834892368&#45;&gt;140592834892624*</title>\n<path fill=\"none\" stroke=\"#000000\" d=\"M92.3034,-104.595C102.7644,-100.3915 113.6733,-96.008 123.4463,-92.0809\"/>\n<polygon fill=\"#000000\" stroke=\"#000000\" points=\"124.8081,-95.3058 132.7821,-88.3296 122.1981,-88.8105 124.8081,-95.3058\"/>\n</g>\n<!-- 140592834892432 -->\n<g id=\"node4\" class=\"node\">\n<title>140592834892432</title>\n<polygon fill=\"none\" stroke=\"#000000\" points=\"219,-132.5 219,-201.5 315,-201.5 315,-132.5 219,-132.5\"/>\n<text text-anchor=\"middle\" x=\"267\" y=\"-186.3\" font-family=\"Times,serif\" font-size=\"14.00\" fill=\"#000000\">c</text>\n<polyline fill=\"none\" stroke=\"#000000\" points=\"219,-178.5 315,-178.5 \"/>\n<text text-anchor=\"middle\" x=\"267\" y=\"-163.3\" font-family=\"Times,serif\" font-size=\"14.00\" fill=\"#000000\">data: 10.0000</text>\n<polyline fill=\"none\" stroke=\"#000000\" points=\"219,-155.5 315,-155.5 \"/>\n<text text-anchor=\"middle\" x=\"267\" y=\"-140.3\" font-family=\"Times,serif\" font-size=\"14.00\" fill=\"#000000\">grad: 0.0000</text>\n</g>\n<!-- 140592834892432&#45;&gt;140592834892816+ -->\n<g id=\"edge4\" class=\"edge\">\n<title>140592834892432&#45;&gt;140592834892816+</title>\n<path fill=\"none\" stroke=\"#000000\" d=\"M315.0406,-147.9569C325.2164,-143.9232 335.7329,-139.7545 345.1881,-136.0065\"/>\n<polygon fill=\"#000000\" stroke=\"#000000\" points=\"346.5921,-139.215 354.5986,-132.2762 344.0125,-132.7076 346.5921,-139.215\"/>\n</g>\n<!-- 140592834470672 -->\n<g id=\"node5\" class=\"node\">\n<title>140592834470672</title>\n<polygon fill=\"none\" stroke=\"#000000\" points=\"660,-132.5 660,-201.5 753,-201.5 753,-132.5 660,-132.5\"/>\n<text text-anchor=\"middle\" x=\"706.5\" y=\"-186.3\" font-family=\"Times,serif\" font-size=\"14.00\" fill=\"#000000\">L</text>\n<polyline fill=\"none\" stroke=\"#000000\" points=\"660,-178.5 753,-178.5 \"/>\n<text text-anchor=\"middle\" x=\"706.5\" y=\"-163.3\" font-family=\"Times,serif\" font-size=\"14.00\" fill=\"#000000\">data: &#45;8.0000</text>\n<polyline fill=\"none\" stroke=\"#000000\" points=\"660,-155.5 753,-155.5 \"/>\n<text text-anchor=\"middle\" x=\"706.5\" y=\"-140.3\" font-family=\"Times,serif\" font-size=\"14.00\" fill=\"#000000\">grad: 0.0000</text>\n</g>\n<!-- 140592834470672*&#45;&gt;140592834470672 -->\n<g id=\"edge2\" class=\"edge\">\n<title>140592834470672*&#45;&gt;140592834470672</title>\n<path fill=\"none\" stroke=\"#000000\" d=\"M624.0674,-167C631.8899,-167 640.7356,-167 649.6555,-167\"/>\n<polygon fill=\"#000000\" stroke=\"#000000\" points=\"649.7073,-170.5001 659.7073,-167 649.7073,-163.5001 649.7073,-170.5001\"/>\n</g>\n<!-- 140592834892624 -->\n<g id=\"node7\" class=\"node\">\n<title>140592834892624</title>\n<polygon fill=\"none\" stroke=\"#000000\" points=\"220.5,-44.5 220.5,-113.5 313.5,-113.5 313.5,-44.5 220.5,-44.5\"/>\n<text text-anchor=\"middle\" x=\"267\" y=\"-98.3\" font-family=\"Times,serif\" font-size=\"14.00\" fill=\"#000000\">d</text>\n<polyline fill=\"none\" stroke=\"#000000\" points=\"220.5,-90.5 313.5,-90.5 \"/>\n<text text-anchor=\"middle\" x=\"267\" y=\"-75.3\" font-family=\"Times,serif\" font-size=\"14.00\" fill=\"#000000\">data: &#45;6.0000</text>\n<polyline fill=\"none\" stroke=\"#000000\" points=\"220.5,-67.5 313.5,-67.5 \"/>\n<text text-anchor=\"middle\" x=\"267\" y=\"-52.3\" font-family=\"Times,serif\" font-size=\"14.00\" fill=\"#000000\">grad: 0.0000</text>\n</g>\n<!-- 140592834892624&#45;&gt;140592834892816+ -->\n<g id=\"edge5\" class=\"edge\">\n<title>140592834892624&#45;&gt;140592834892816+</title>\n<path fill=\"none\" stroke=\"#000000\" d=\"M313.7523,-97.5324C324.3282,-101.7247 335.3389,-106.0893 345.1958,-109.9965\"/>\n<polygon fill=\"#000000\" stroke=\"#000000\" points=\"344.0231,-113.2966 354.6091,-113.728 346.6026,-106.7892 344.0231,-113.2966\"/>\n</g>\n<!-- 140592834892624*&#45;&gt;140592834892624 -->\n<g id=\"edge3\" class=\"edge\">\n<title>140592834892624*&#45;&gt;140592834892624</title>\n<path fill=\"none\" stroke=\"#000000\" d=\"M183.1537,-79C191.355,-79 200.6851,-79 210.0698,-79\"/>\n<polygon fill=\"#000000\" stroke=\"#000000\" points=\"210.2239,-82.5001 220.2238,-79 210.2238,-75.5001 210.2239,-82.5001\"/>\n</g>\n<!-- 140592834470736 -->\n<g id=\"node9\" class=\"node\">\n<title>140592834470736</title>\n<polygon fill=\"none\" stroke=\"#000000\" points=\"441,-176.5 441,-245.5 534,-245.5 534,-176.5 441,-176.5\"/>\n<text text-anchor=\"middle\" x=\"487.5\" y=\"-230.3\" font-family=\"Times,serif\" font-size=\"14.00\" fill=\"#000000\">f</text>\n<polyline fill=\"none\" stroke=\"#000000\" points=\"441,-222.5 534,-222.5 \"/>\n<text text-anchor=\"middle\" x=\"487.5\" y=\"-207.3\" font-family=\"Times,serif\" font-size=\"14.00\" fill=\"#000000\">data: &#45;2.0000</text>\n<polyline fill=\"none\" stroke=\"#000000\" points=\"441,-199.5 534,-199.5 \"/>\n<text text-anchor=\"middle\" x=\"487.5\" y=\"-184.3\" font-family=\"Times,serif\" font-size=\"14.00\" fill=\"#000000\">grad: 0.0000</text>\n</g>\n<!-- 140592834470736&#45;&gt;140592834470672* -->\n<g id=\"edge9\" class=\"edge\">\n<title>140592834470736&#45;&gt;140592834470672*</title>\n<path fill=\"none\" stroke=\"#000000\" d=\"M534.2555,-192.2124C544.3508,-188.1559 554.8166,-183.9504 564.2402,-180.1638\"/>\n<polygon fill=\"#000000\" stroke=\"#000000\" points=\"565.65,-183.3693 573.6239,-176.3931 563.04,-176.8741 565.65,-183.3693\"/>\n</g>\n<!-- 140592834892240 -->\n<g id=\"node10\" class=\"node\">\n<title>140592834892240</title>\n<polygon fill=\"none\" stroke=\"#000000\" points=\"0,-.5 0,-69.5 93,-69.5 93,-.5 0,-.5\"/>\n<text text-anchor=\"middle\" x=\"46.5\" y=\"-54.3\" font-family=\"Times,serif\" font-size=\"14.00\" fill=\"#000000\">b</text>\n<polyline fill=\"none\" stroke=\"#000000\" points=\"0,-46.5 93,-46.5 \"/>\n<text text-anchor=\"middle\" x=\"46.5\" y=\"-31.3\" font-family=\"Times,serif\" font-size=\"14.00\" fill=\"#000000\">data: &#45;3.0000</text>\n<polyline fill=\"none\" stroke=\"#000000\" points=\"0,-23.5 93,-23.5 \"/>\n<text text-anchor=\"middle\" x=\"46.5\" y=\"-8.3\" font-family=\"Times,serif\" font-size=\"14.00\" fill=\"#000000\">grad: 0.0000</text>\n</g>\n<!-- 140592834892240&#45;&gt;140592834892624* -->\n<g id=\"edge6\" class=\"edge\">\n<title>140592834892240&#45;&gt;140592834892624*</title>\n<path fill=\"none\" stroke=\"#000000\" d=\"M93.2555,-53.7876C103.3508,-57.8441 113.8166,-62.0496 123.2402,-65.8362\"/>\n<polygon fill=\"#000000\" stroke=\"#000000\" points=\"122.04,-69.1259 132.6239,-69.6069 124.65,-62.6307 122.04,-69.1259\"/>\n</g>\n</g>\n</svg>\n"
          },
          "metadata": {},
          "execution_count": 86
        }
      ]
    },
    {
      "cell_type": "code",
      "source": [
        "L._prev"
      ],
      "metadata": {
        "colab": {
          "base_uri": "https://localhost:8080/"
        },
        "id": "n31u7WWP4QUu",
        "outputId": "dd39208d-9fec-49c5-eaef-f7d0ac476799"
      },
      "execution_count": 87,
      "outputs": [
        {
          "output_type": "execute_result",
          "data": {
            "text/plain": [
              "{Value(data=-2.0), Value(data=4.0)}"
            ]
          },
          "metadata": {},
          "execution_count": 87
        }
      ]
    },
    {
      "cell_type": "markdown",
      "source": [
        "# in backpropagation, we'll find the derivative of L wrt all the previous nodes\n",
        "\n",
        "beginning from L"
      ],
      "metadata": {
        "id": "mtlke9naCz6V"
      }
    },
    {
      "cell_type": "markdown",
      "source": [
        "## Manual Backprop"
      ],
      "metadata": {
        "id": "n5P0eFmr-jMS"
      }
    },
    {
      "cell_type": "code",
      "source": [
        "def derive():\n",
        "    # L = e*f\n",
        "    # e = d + c\n",
        "    # d = a*b \n",
        "    # L = (a*b + c)*f\n",
        "\n",
        "    h = 0.0001\n",
        "\n",
        "    a = Value(2.0, label='a')\n",
        "    b = Value(-3.0, label='b')\n",
        "    c = Value(10, label = 'c')\n",
        "\n",
        "    d = a*b\n",
        "    d.label = 'd'\n",
        "\n",
        "    e = d + c\n",
        "    e.label = 'e'\n",
        "\n",
        "    f =  Value(-2.0, label='f')\n",
        "\n",
        "    L = e*f\n",
        "    L.label = 'L'\n",
        "\n",
        "    L1 = L.data\n",
        "\n",
        "    # --------- wrt a\n",
        "\n",
        "    a = Value(2.0 + h, label='a')\n",
        "    b = Value(-3.0, label='b')\n",
        "    c = Value(10, label = 'c')\n",
        "    d = a*b\n",
        "    d.label = 'd'\n",
        "    e = d + c\n",
        "    e.label = 'e'\n",
        "    f =  Value(-2.0, label='f')\n",
        "    L = e*f\n",
        "    L.label = 'L'\n",
        "\n",
        "    L2 = L.data\n",
        "\n",
        "    print(\"derivative of L wrt a: \",(L2 - L1)/h)\n",
        "\n",
        "    # --------- wrt L\n",
        "\n",
        "    a = Value(2.0, label='a')\n",
        "    b = Value(-3.0, label='b')\n",
        "    c = Value(10, label = 'c')\n",
        "    d = a*b\n",
        "    d.label = 'd'\n",
        "    e = d + c\n",
        "    e.label = 'e'\n",
        "    f =  Value(-2.0, label='f')\n",
        "    L = e*f\n",
        "    L.label = 'L'\n",
        "\n",
        "    L2 = L.data + h\n",
        "\n",
        "    # close to 1 since derivative of anything by itself = 1\n",
        "    print(\"derivative of L wrt L: \",(L2 - L1)/h)\n"
      ],
      "metadata": {
        "id": "uCQ6_TdeCWSi"
      },
      "execution_count": 88,
      "outputs": []
    },
    {
      "cell_type": "code",
      "source": [
        "derive()"
      ],
      "metadata": {
        "colab": {
          "base_uri": "https://localhost:8080/"
        },
        "id": "JBabXMKO6l2c",
        "outputId": "d0a58513-f254-4e23-81de-a9ec0c093fe7"
      },
      "execution_count": 89,
      "outputs": [
        {
          "output_type": "stream",
          "name": "stdout",
          "text": [
            "derivative of L wrt a:  6.000000000021544\n",
            "derivative of L wrt L:  0.9999999999976694\n"
          ]
        }
      ]
    },
    {
      "cell_type": "code",
      "source": [
        "# so we can set the grad value of L = 1\n",
        "L.grad = 1"
      ],
      "metadata": {
        "id": "t1NJD6Ym8PwL"
      },
      "execution_count": 90,
      "outputs": []
    },
    {
      "cell_type": "code",
      "source": [
        "draw_dot(L)"
      ],
      "metadata": {
        "colab": {
          "base_uri": "https://localhost:8080/",
          "height": 360
        },
        "id": "n4nAfEuo8SwK",
        "outputId": "ccff542f-633a-44fc-9cd0-5023abbd2890"
      },
      "execution_count": 91,
      "outputs": [
        {
          "output_type": "execute_result",
          "data": {
            "text/plain": [
              "<graphviz.dot.Digraph at 0x7fde51fb5c50>"
            ],
            "image/svg+xml": "<?xml version=\"1.0\" encoding=\"UTF-8\" standalone=\"no\"?>\n<!DOCTYPE svg PUBLIC \"-//W3C//DTD SVG 1.1//EN\"\n \"http://www.w3.org/Graphics/SVG/1.1/DTD/svg11.dtd\">\n<!-- Generated by graphviz version 2.40.1 (20161225.0304)\n -->\n<!-- Title: %3 Pages: 1 -->\n<svg width=\"761pt\" height=\"254pt\"\n viewBox=\"0.00 0.00 761.00 254.00\" xmlns=\"http://www.w3.org/2000/svg\" xmlns:xlink=\"http://www.w3.org/1999/xlink\">\n<g id=\"graph0\" class=\"graph\" transform=\"scale(1 1) rotate(0) translate(4 250)\">\n<title>%3</title>\n<polygon fill=\"#ffffff\" stroke=\"transparent\" points=\"-4,4 -4,-250 757,-250 757,4 -4,4\"/>\n<!-- 140592834892816 -->\n<g id=\"node1\" class=\"node\">\n<title>140592834892816</title>\n<polygon fill=\"none\" stroke=\"#000000\" points=\"442,-88.5 442,-157.5 533,-157.5 533,-88.5 442,-88.5\"/>\n<text text-anchor=\"middle\" x=\"487.5\" y=\"-142.3\" font-family=\"Times,serif\" font-size=\"14.00\" fill=\"#000000\">e</text>\n<polyline fill=\"none\" stroke=\"#000000\" points=\"442,-134.5 533,-134.5 \"/>\n<text text-anchor=\"middle\" x=\"487.5\" y=\"-119.3\" font-family=\"Times,serif\" font-size=\"14.00\" fill=\"#000000\">data: 4.0000</text>\n<polyline fill=\"none\" stroke=\"#000000\" points=\"442,-111.5 533,-111.5 \"/>\n<text text-anchor=\"middle\" x=\"487.5\" y=\"-96.3\" font-family=\"Times,serif\" font-size=\"14.00\" fill=\"#000000\">grad: 0.0000</text>\n</g>\n<!-- 140592834470672* -->\n<g id=\"node6\" class=\"node\">\n<title>140592834470672*</title>\n<ellipse fill=\"none\" stroke=\"#000000\" cx=\"597\" cy=\"-167\" rx=\"27\" ry=\"18\"/>\n<text text-anchor=\"middle\" x=\"597\" y=\"-163.3\" font-family=\"Times,serif\" font-size=\"14.00\" fill=\"#000000\">*</text>\n</g>\n<!-- 140592834892816&#45;&gt;140592834470672* -->\n<g id=\"edge7\" class=\"edge\">\n<title>140592834892816&#45;&gt;140592834470672*</title>\n<path fill=\"none\" stroke=\"#000000\" d=\"M533.3034,-141.405C543.7644,-145.6085 554.6733,-149.992 564.4463,-153.9191\"/>\n<polygon fill=\"#000000\" stroke=\"#000000\" points=\"563.1981,-157.1895 573.7821,-157.6704 565.8081,-150.6942 563.1981,-157.1895\"/>\n</g>\n<!-- 140592834892816+ -->\n<g id=\"node2\" class=\"node\">\n<title>140592834892816+</title>\n<ellipse fill=\"none\" stroke=\"#000000\" cx=\"378\" cy=\"-123\" rx=\"27\" ry=\"18\"/>\n<text text-anchor=\"middle\" x=\"378\" y=\"-119.3\" font-family=\"Times,serif\" font-size=\"14.00\" fill=\"#000000\">+</text>\n</g>\n<!-- 140592834892816+&#45;&gt;140592834892816 -->\n<g id=\"edge1\" class=\"edge\">\n<title>140592834892816+&#45;&gt;140592834892816</title>\n<path fill=\"none\" stroke=\"#000000\" d=\"M405.0674,-123C413.2531,-123 422.5591,-123 431.8982,-123\"/>\n<polygon fill=\"#000000\" stroke=\"#000000\" points=\"431.9937,-126.5001 441.9936,-123 431.9936,-119.5001 431.9937,-126.5001\"/>\n</g>\n<!-- 140592834892368 -->\n<g id=\"node3\" class=\"node\">\n<title>140592834892368</title>\n<polygon fill=\"none\" stroke=\"#000000\" points=\"1,-88.5 1,-157.5 92,-157.5 92,-88.5 1,-88.5\"/>\n<text text-anchor=\"middle\" x=\"46.5\" y=\"-142.3\" font-family=\"Times,serif\" font-size=\"14.00\" fill=\"#000000\">a</text>\n<polyline fill=\"none\" stroke=\"#000000\" points=\"1,-134.5 92,-134.5 \"/>\n<text text-anchor=\"middle\" x=\"46.5\" y=\"-119.3\" font-family=\"Times,serif\" font-size=\"14.00\" fill=\"#000000\">data: 2.0000</text>\n<polyline fill=\"none\" stroke=\"#000000\" points=\"1,-111.5 92,-111.5 \"/>\n<text text-anchor=\"middle\" x=\"46.5\" y=\"-96.3\" font-family=\"Times,serif\" font-size=\"14.00\" fill=\"#000000\">grad: 0.0000</text>\n</g>\n<!-- 140592834892624* -->\n<g id=\"node8\" class=\"node\">\n<title>140592834892624*</title>\n<ellipse fill=\"none\" stroke=\"#000000\" cx=\"156\" cy=\"-79\" rx=\"27\" ry=\"18\"/>\n<text text-anchor=\"middle\" x=\"156\" y=\"-75.3\" font-family=\"Times,serif\" font-size=\"14.00\" fill=\"#000000\">*</text>\n</g>\n<!-- 140592834892368&#45;&gt;140592834892624* -->\n<g id=\"edge8\" class=\"edge\">\n<title>140592834892368&#45;&gt;140592834892624*</title>\n<path fill=\"none\" stroke=\"#000000\" d=\"M92.3034,-104.595C102.7644,-100.3915 113.6733,-96.008 123.4463,-92.0809\"/>\n<polygon fill=\"#000000\" stroke=\"#000000\" points=\"124.8081,-95.3058 132.7821,-88.3296 122.1981,-88.8105 124.8081,-95.3058\"/>\n</g>\n<!-- 140592834892432 -->\n<g id=\"node4\" class=\"node\">\n<title>140592834892432</title>\n<polygon fill=\"none\" stroke=\"#000000\" points=\"219,-132.5 219,-201.5 315,-201.5 315,-132.5 219,-132.5\"/>\n<text text-anchor=\"middle\" x=\"267\" y=\"-186.3\" font-family=\"Times,serif\" font-size=\"14.00\" fill=\"#000000\">c</text>\n<polyline fill=\"none\" stroke=\"#000000\" points=\"219,-178.5 315,-178.5 \"/>\n<text text-anchor=\"middle\" x=\"267\" y=\"-163.3\" font-family=\"Times,serif\" font-size=\"14.00\" fill=\"#000000\">data: 10.0000</text>\n<polyline fill=\"none\" stroke=\"#000000\" points=\"219,-155.5 315,-155.5 \"/>\n<text text-anchor=\"middle\" x=\"267\" y=\"-140.3\" font-family=\"Times,serif\" font-size=\"14.00\" fill=\"#000000\">grad: 0.0000</text>\n</g>\n<!-- 140592834892432&#45;&gt;140592834892816+ -->\n<g id=\"edge4\" class=\"edge\">\n<title>140592834892432&#45;&gt;140592834892816+</title>\n<path fill=\"none\" stroke=\"#000000\" d=\"M315.0406,-147.9569C325.2164,-143.9232 335.7329,-139.7545 345.1881,-136.0065\"/>\n<polygon fill=\"#000000\" stroke=\"#000000\" points=\"346.5921,-139.215 354.5986,-132.2762 344.0125,-132.7076 346.5921,-139.215\"/>\n</g>\n<!-- 140592834470672 -->\n<g id=\"node5\" class=\"node\">\n<title>140592834470672</title>\n<polygon fill=\"none\" stroke=\"#000000\" points=\"660,-132.5 660,-201.5 753,-201.5 753,-132.5 660,-132.5\"/>\n<text text-anchor=\"middle\" x=\"706.5\" y=\"-186.3\" font-family=\"Times,serif\" font-size=\"14.00\" fill=\"#000000\">L</text>\n<polyline fill=\"none\" stroke=\"#000000\" points=\"660,-178.5 753,-178.5 \"/>\n<text text-anchor=\"middle\" x=\"706.5\" y=\"-163.3\" font-family=\"Times,serif\" font-size=\"14.00\" fill=\"#000000\">data: &#45;8.0000</text>\n<polyline fill=\"none\" stroke=\"#000000\" points=\"660,-155.5 753,-155.5 \"/>\n<text text-anchor=\"middle\" x=\"706.5\" y=\"-140.3\" font-family=\"Times,serif\" font-size=\"14.00\" fill=\"#000000\">grad: 1.0000</text>\n</g>\n<!-- 140592834470672*&#45;&gt;140592834470672 -->\n<g id=\"edge2\" class=\"edge\">\n<title>140592834470672*&#45;&gt;140592834470672</title>\n<path fill=\"none\" stroke=\"#000000\" d=\"M624.0674,-167C631.8899,-167 640.7356,-167 649.6555,-167\"/>\n<polygon fill=\"#000000\" stroke=\"#000000\" points=\"649.7073,-170.5001 659.7073,-167 649.7073,-163.5001 649.7073,-170.5001\"/>\n</g>\n<!-- 140592834892624 -->\n<g id=\"node7\" class=\"node\">\n<title>140592834892624</title>\n<polygon fill=\"none\" stroke=\"#000000\" points=\"220.5,-44.5 220.5,-113.5 313.5,-113.5 313.5,-44.5 220.5,-44.5\"/>\n<text text-anchor=\"middle\" x=\"267\" y=\"-98.3\" font-family=\"Times,serif\" font-size=\"14.00\" fill=\"#000000\">d</text>\n<polyline fill=\"none\" stroke=\"#000000\" points=\"220.5,-90.5 313.5,-90.5 \"/>\n<text text-anchor=\"middle\" x=\"267\" y=\"-75.3\" font-family=\"Times,serif\" font-size=\"14.00\" fill=\"#000000\">data: &#45;6.0000</text>\n<polyline fill=\"none\" stroke=\"#000000\" points=\"220.5,-67.5 313.5,-67.5 \"/>\n<text text-anchor=\"middle\" x=\"267\" y=\"-52.3\" font-family=\"Times,serif\" font-size=\"14.00\" fill=\"#000000\">grad: 0.0000</text>\n</g>\n<!-- 140592834892624&#45;&gt;140592834892816+ -->\n<g id=\"edge5\" class=\"edge\">\n<title>140592834892624&#45;&gt;140592834892816+</title>\n<path fill=\"none\" stroke=\"#000000\" d=\"M313.7523,-97.5324C324.3282,-101.7247 335.3389,-106.0893 345.1958,-109.9965\"/>\n<polygon fill=\"#000000\" stroke=\"#000000\" points=\"344.0231,-113.2966 354.6091,-113.728 346.6026,-106.7892 344.0231,-113.2966\"/>\n</g>\n<!-- 140592834892624*&#45;&gt;140592834892624 -->\n<g id=\"edge3\" class=\"edge\">\n<title>140592834892624*&#45;&gt;140592834892624</title>\n<path fill=\"none\" stroke=\"#000000\" d=\"M183.1537,-79C191.355,-79 200.6851,-79 210.0698,-79\"/>\n<polygon fill=\"#000000\" stroke=\"#000000\" points=\"210.2239,-82.5001 220.2238,-79 210.2238,-75.5001 210.2239,-82.5001\"/>\n</g>\n<!-- 140592834470736 -->\n<g id=\"node9\" class=\"node\">\n<title>140592834470736</title>\n<polygon fill=\"none\" stroke=\"#000000\" points=\"441,-176.5 441,-245.5 534,-245.5 534,-176.5 441,-176.5\"/>\n<text text-anchor=\"middle\" x=\"487.5\" y=\"-230.3\" font-family=\"Times,serif\" font-size=\"14.00\" fill=\"#000000\">f</text>\n<polyline fill=\"none\" stroke=\"#000000\" points=\"441,-222.5 534,-222.5 \"/>\n<text text-anchor=\"middle\" x=\"487.5\" y=\"-207.3\" font-family=\"Times,serif\" font-size=\"14.00\" fill=\"#000000\">data: &#45;2.0000</text>\n<polyline fill=\"none\" stroke=\"#000000\" points=\"441,-199.5 534,-199.5 \"/>\n<text text-anchor=\"middle\" x=\"487.5\" y=\"-184.3\" font-family=\"Times,serif\" font-size=\"14.00\" fill=\"#000000\">grad: 0.0000</text>\n</g>\n<!-- 140592834470736&#45;&gt;140592834470672* -->\n<g id=\"edge9\" class=\"edge\">\n<title>140592834470736&#45;&gt;140592834470672*</title>\n<path fill=\"none\" stroke=\"#000000\" d=\"M534.2555,-192.2124C544.3508,-188.1559 554.8166,-183.9504 564.2402,-180.1638\"/>\n<polygon fill=\"#000000\" stroke=\"#000000\" points=\"565.65,-183.3693 573.6239,-176.3931 563.04,-176.8741 565.65,-183.3693\"/>\n</g>\n<!-- 140592834892240 -->\n<g id=\"node10\" class=\"node\">\n<title>140592834892240</title>\n<polygon fill=\"none\" stroke=\"#000000\" points=\"0,-.5 0,-69.5 93,-69.5 93,-.5 0,-.5\"/>\n<text text-anchor=\"middle\" x=\"46.5\" y=\"-54.3\" font-family=\"Times,serif\" font-size=\"14.00\" fill=\"#000000\">b</text>\n<polyline fill=\"none\" stroke=\"#000000\" points=\"0,-46.5 93,-46.5 \"/>\n<text text-anchor=\"middle\" x=\"46.5\" y=\"-31.3\" font-family=\"Times,serif\" font-size=\"14.00\" fill=\"#000000\">data: &#45;3.0000</text>\n<polyline fill=\"none\" stroke=\"#000000\" points=\"0,-23.5 93,-23.5 \"/>\n<text text-anchor=\"middle\" x=\"46.5\" y=\"-8.3\" font-family=\"Times,serif\" font-size=\"14.00\" fill=\"#000000\">grad: 0.0000</text>\n</g>\n<!-- 140592834892240&#45;&gt;140592834892624* -->\n<g id=\"edge6\" class=\"edge\">\n<title>140592834892240&#45;&gt;140592834892624*</title>\n<path fill=\"none\" stroke=\"#000000\" d=\"M93.2555,-53.7876C103.3508,-57.8441 113.8166,-62.0496 123.2402,-65.8362\"/>\n<polygon fill=\"#000000\" stroke=\"#000000\" points=\"122.04,-69.1259 132.6239,-69.6069 124.65,-62.6307 122.04,-69.1259\"/>\n</g>\n</g>\n</svg>\n"
          },
          "metadata": {},
          "execution_count": 91
        }
      ]
    },
    {
      "cell_type": "markdown",
      "source": [
        "```\n",
        "lets begin with e\n",
        "we know that L = e*f\n",
        "we need to find dL/de // partial derivative\n",
        "dL/de = f (in partial derivatives, all other vars are constant except e)\n",
        "dL/de = (L(x+h)-L(x)) / h\n",
        "      = ((e+h)*f - e*f) / h\n",
        "      = h*f/h\n",
        "      = f\n",
        "\n",
        "and similarly\n",
        "\n",
        "dL/df = e\n",
        "```"
      ],
      "metadata": {
        "id": "FmpJQn-99vii"
      }
    },
    {
      "cell_type": "code",
      "source": [
        "f.grad = e.data\n",
        "e.grad = f.data"
      ],
      "metadata": {
        "id": "MapFwQC18asO"
      },
      "execution_count": 92,
      "outputs": []
    },
    {
      "cell_type": "code",
      "source": [
        "draw_dot(L)"
      ],
      "metadata": {
        "colab": {
          "base_uri": "https://localhost:8080/",
          "height": 360
        },
        "id": "tLoA4psV-aFI",
        "outputId": "c8f04879-064e-4923-861e-ee3acd4861aa"
      },
      "execution_count": 93,
      "outputs": [
        {
          "output_type": "execute_result",
          "data": {
            "text/plain": [
              "<graphviz.dot.Digraph at 0x7fde51fac850>"
            ],
            "image/svg+xml": "<?xml version=\"1.0\" encoding=\"UTF-8\" standalone=\"no\"?>\n<!DOCTYPE svg PUBLIC \"-//W3C//DTD SVG 1.1//EN\"\n \"http://www.w3.org/Graphics/SVG/1.1/DTD/svg11.dtd\">\n<!-- Generated by graphviz version 2.40.1 (20161225.0304)\n -->\n<!-- Title: %3 Pages: 1 -->\n<svg width=\"763pt\" height=\"254pt\"\n viewBox=\"0.00 0.00 763.00 254.00\" xmlns=\"http://www.w3.org/2000/svg\" xmlns:xlink=\"http://www.w3.org/1999/xlink\">\n<g id=\"graph0\" class=\"graph\" transform=\"scale(1 1) rotate(0) translate(4 250)\">\n<title>%3</title>\n<polygon fill=\"#ffffff\" stroke=\"transparent\" points=\"-4,4 -4,-250 759,-250 759,4 -4,4\"/>\n<!-- 140592834892816 -->\n<g id=\"node1\" class=\"node\">\n<title>140592834892816</title>\n<polygon fill=\"none\" stroke=\"#000000\" points=\"441,-88.5 441,-157.5 536,-157.5 536,-88.5 441,-88.5\"/>\n<text text-anchor=\"middle\" x=\"488.5\" y=\"-142.3\" font-family=\"Times,serif\" font-size=\"14.00\" fill=\"#000000\">e</text>\n<polyline fill=\"none\" stroke=\"#000000\" points=\"441,-134.5 536,-134.5 \"/>\n<text text-anchor=\"middle\" x=\"488.5\" y=\"-119.3\" font-family=\"Times,serif\" font-size=\"14.00\" fill=\"#000000\">data: 4.0000</text>\n<polyline fill=\"none\" stroke=\"#000000\" points=\"441,-111.5 536,-111.5 \"/>\n<text text-anchor=\"middle\" x=\"488.5\" y=\"-96.3\" font-family=\"Times,serif\" font-size=\"14.00\" fill=\"#000000\">grad: &#45;2.0000</text>\n</g>\n<!-- 140592834470672* -->\n<g id=\"node6\" class=\"node\">\n<title>140592834470672*</title>\n<ellipse fill=\"none\" stroke=\"#000000\" cx=\"599\" cy=\"-167\" rx=\"27\" ry=\"18\"/>\n<text text-anchor=\"middle\" x=\"599\" y=\"-163.3\" font-family=\"Times,serif\" font-size=\"14.00\" fill=\"#000000\">*</text>\n</g>\n<!-- 140592834892816&#45;&gt;140592834470672* -->\n<g id=\"edge7\" class=\"edge\">\n<title>140592834892816&#45;&gt;140592834470672*</title>\n<path fill=\"none\" stroke=\"#000000\" d=\"M536.0032,-141.9153C546.1621,-145.9605 556.6775,-150.1476 566.1386,-153.9149\"/>\n<polygon fill=\"#000000\" stroke=\"#000000\" points=\"564.972,-157.2176 575.5573,-157.6654 567.5616,-150.7142 564.972,-157.2176\"/>\n</g>\n<!-- 140592834892816+ -->\n<g id=\"node2\" class=\"node\">\n<title>140592834892816+</title>\n<ellipse fill=\"none\" stroke=\"#000000\" cx=\"378\" cy=\"-123\" rx=\"27\" ry=\"18\"/>\n<text text-anchor=\"middle\" x=\"378\" y=\"-119.3\" font-family=\"Times,serif\" font-size=\"14.00\" fill=\"#000000\">+</text>\n</g>\n<!-- 140592834892816+&#45;&gt;140592834892816 -->\n<g id=\"edge1\" class=\"edge\">\n<title>140592834892816+&#45;&gt;140592834892816</title>\n<path fill=\"none\" stroke=\"#000000\" d=\"M405.0313,-123C412.8303,-123 421.6547,-123 430.5724,-123\"/>\n<polygon fill=\"#000000\" stroke=\"#000000\" points=\"430.6306,-126.5001 440.6306,-123 430.6306,-119.5001 430.6306,-126.5001\"/>\n</g>\n<!-- 140592834892368 -->\n<g id=\"node3\" class=\"node\">\n<title>140592834892368</title>\n<polygon fill=\"none\" stroke=\"#000000\" points=\"1,-88.5 1,-157.5 92,-157.5 92,-88.5 1,-88.5\"/>\n<text text-anchor=\"middle\" x=\"46.5\" y=\"-142.3\" font-family=\"Times,serif\" font-size=\"14.00\" fill=\"#000000\">a</text>\n<polyline fill=\"none\" stroke=\"#000000\" points=\"1,-134.5 92,-134.5 \"/>\n<text text-anchor=\"middle\" x=\"46.5\" y=\"-119.3\" font-family=\"Times,serif\" font-size=\"14.00\" fill=\"#000000\">data: 2.0000</text>\n<polyline fill=\"none\" stroke=\"#000000\" points=\"1,-111.5 92,-111.5 \"/>\n<text text-anchor=\"middle\" x=\"46.5\" y=\"-96.3\" font-family=\"Times,serif\" font-size=\"14.00\" fill=\"#000000\">grad: 0.0000</text>\n</g>\n<!-- 140592834892624* -->\n<g id=\"node8\" class=\"node\">\n<title>140592834892624*</title>\n<ellipse fill=\"none\" stroke=\"#000000\" cx=\"156\" cy=\"-79\" rx=\"27\" ry=\"18\"/>\n<text text-anchor=\"middle\" x=\"156\" y=\"-75.3\" font-family=\"Times,serif\" font-size=\"14.00\" fill=\"#000000\">*</text>\n</g>\n<!-- 140592834892368&#45;&gt;140592834892624* -->\n<g id=\"edge8\" class=\"edge\">\n<title>140592834892368&#45;&gt;140592834892624*</title>\n<path fill=\"none\" stroke=\"#000000\" d=\"M92.3034,-104.595C102.7644,-100.3915 113.6733,-96.008 123.4463,-92.0809\"/>\n<polygon fill=\"#000000\" stroke=\"#000000\" points=\"124.8081,-95.3058 132.7821,-88.3296 122.1981,-88.8105 124.8081,-95.3058\"/>\n</g>\n<!-- 140592834892432 -->\n<g id=\"node4\" class=\"node\">\n<title>140592834892432</title>\n<polygon fill=\"none\" stroke=\"#000000\" points=\"219,-132.5 219,-201.5 315,-201.5 315,-132.5 219,-132.5\"/>\n<text text-anchor=\"middle\" x=\"267\" y=\"-186.3\" font-family=\"Times,serif\" font-size=\"14.00\" fill=\"#000000\">c</text>\n<polyline fill=\"none\" stroke=\"#000000\" points=\"219,-178.5 315,-178.5 \"/>\n<text text-anchor=\"middle\" x=\"267\" y=\"-163.3\" font-family=\"Times,serif\" font-size=\"14.00\" fill=\"#000000\">data: 10.0000</text>\n<polyline fill=\"none\" stroke=\"#000000\" points=\"219,-155.5 315,-155.5 \"/>\n<text text-anchor=\"middle\" x=\"267\" y=\"-140.3\" font-family=\"Times,serif\" font-size=\"14.00\" fill=\"#000000\">grad: 0.0000</text>\n</g>\n<!-- 140592834892432&#45;&gt;140592834892816+ -->\n<g id=\"edge4\" class=\"edge\">\n<title>140592834892432&#45;&gt;140592834892816+</title>\n<path fill=\"none\" stroke=\"#000000\" d=\"M315.0406,-147.9569C325.2164,-143.9232 335.7329,-139.7545 345.1881,-136.0065\"/>\n<polygon fill=\"#000000\" stroke=\"#000000\" points=\"346.5921,-139.215 354.5986,-132.2762 344.0125,-132.7076 346.5921,-139.215\"/>\n</g>\n<!-- 140592834470672 -->\n<g id=\"node5\" class=\"node\">\n<title>140592834470672</title>\n<polygon fill=\"none\" stroke=\"#000000\" points=\"662,-132.5 662,-201.5 755,-201.5 755,-132.5 662,-132.5\"/>\n<text text-anchor=\"middle\" x=\"708.5\" y=\"-186.3\" font-family=\"Times,serif\" font-size=\"14.00\" fill=\"#000000\">L</text>\n<polyline fill=\"none\" stroke=\"#000000\" points=\"662,-178.5 755,-178.5 \"/>\n<text text-anchor=\"middle\" x=\"708.5\" y=\"-163.3\" font-family=\"Times,serif\" font-size=\"14.00\" fill=\"#000000\">data: &#45;8.0000</text>\n<polyline fill=\"none\" stroke=\"#000000\" points=\"662,-155.5 755,-155.5 \"/>\n<text text-anchor=\"middle\" x=\"708.5\" y=\"-140.3\" font-family=\"Times,serif\" font-size=\"14.00\" fill=\"#000000\">grad: 1.0000</text>\n</g>\n<!-- 140592834470672*&#45;&gt;140592834470672 -->\n<g id=\"edge2\" class=\"edge\">\n<title>140592834470672*&#45;&gt;140592834470672</title>\n<path fill=\"none\" stroke=\"#000000\" d=\"M626.0674,-167C633.8899,-167 642.7356,-167 651.6555,-167\"/>\n<polygon fill=\"#000000\" stroke=\"#000000\" points=\"651.7073,-170.5001 661.7073,-167 651.7073,-163.5001 651.7073,-170.5001\"/>\n</g>\n<!-- 140592834892624 -->\n<g id=\"node7\" class=\"node\">\n<title>140592834892624</title>\n<polygon fill=\"none\" stroke=\"#000000\" points=\"220.5,-44.5 220.5,-113.5 313.5,-113.5 313.5,-44.5 220.5,-44.5\"/>\n<text text-anchor=\"middle\" x=\"267\" y=\"-98.3\" font-family=\"Times,serif\" font-size=\"14.00\" fill=\"#000000\">d</text>\n<polyline fill=\"none\" stroke=\"#000000\" points=\"220.5,-90.5 313.5,-90.5 \"/>\n<text text-anchor=\"middle\" x=\"267\" y=\"-75.3\" font-family=\"Times,serif\" font-size=\"14.00\" fill=\"#000000\">data: &#45;6.0000</text>\n<polyline fill=\"none\" stroke=\"#000000\" points=\"220.5,-67.5 313.5,-67.5 \"/>\n<text text-anchor=\"middle\" x=\"267\" y=\"-52.3\" font-family=\"Times,serif\" font-size=\"14.00\" fill=\"#000000\">grad: 0.0000</text>\n</g>\n<!-- 140592834892624&#45;&gt;140592834892816+ -->\n<g id=\"edge5\" class=\"edge\">\n<title>140592834892624&#45;&gt;140592834892816+</title>\n<path fill=\"none\" stroke=\"#000000\" d=\"M313.7523,-97.5324C324.3282,-101.7247 335.3389,-106.0893 345.1958,-109.9965\"/>\n<polygon fill=\"#000000\" stroke=\"#000000\" points=\"344.0231,-113.2966 354.6091,-113.728 346.6026,-106.7892 344.0231,-113.2966\"/>\n</g>\n<!-- 140592834892624*&#45;&gt;140592834892624 -->\n<g id=\"edge3\" class=\"edge\">\n<title>140592834892624*&#45;&gt;140592834892624</title>\n<path fill=\"none\" stroke=\"#000000\" d=\"M183.1537,-79C191.355,-79 200.6851,-79 210.0698,-79\"/>\n<polygon fill=\"#000000\" stroke=\"#000000\" points=\"210.2239,-82.5001 220.2238,-79 210.2238,-75.5001 210.2239,-82.5001\"/>\n</g>\n<!-- 140592834470736 -->\n<g id=\"node9\" class=\"node\">\n<title>140592834470736</title>\n<polygon fill=\"none\" stroke=\"#000000\" points=\"442,-176.5 442,-245.5 535,-245.5 535,-176.5 442,-176.5\"/>\n<text text-anchor=\"middle\" x=\"488.5\" y=\"-230.3\" font-family=\"Times,serif\" font-size=\"14.00\" fill=\"#000000\">f</text>\n<polyline fill=\"none\" stroke=\"#000000\" points=\"442,-222.5 535,-222.5 \"/>\n<text text-anchor=\"middle\" x=\"488.5\" y=\"-207.3\" font-family=\"Times,serif\" font-size=\"14.00\" fill=\"#000000\">data: &#45;2.0000</text>\n<polyline fill=\"none\" stroke=\"#000000\" points=\"442,-199.5 535,-199.5 \"/>\n<text text-anchor=\"middle\" x=\"488.5\" y=\"-184.3\" font-family=\"Times,serif\" font-size=\"14.00\" fill=\"#000000\">grad: 4.0000</text>\n</g>\n<!-- 140592834470736&#45;&gt;140592834470672* -->\n<g id=\"edge9\" class=\"edge\">\n<title>140592834470736&#45;&gt;140592834470672*</title>\n<path fill=\"none\" stroke=\"#000000\" d=\"M535.0417,-192.4676C545.57,-188.2753 556.5311,-183.9107 566.3435,-180.0035\"/>\n<polygon fill=\"#000000\" stroke=\"#000000\" points=\"567.7188,-183.2232 575.7145,-176.272 565.1291,-176.7198 567.7188,-183.2232\"/>\n</g>\n<!-- 140592834892240 -->\n<g id=\"node10\" class=\"node\">\n<title>140592834892240</title>\n<polygon fill=\"none\" stroke=\"#000000\" points=\"0,-.5 0,-69.5 93,-69.5 93,-.5 0,-.5\"/>\n<text text-anchor=\"middle\" x=\"46.5\" y=\"-54.3\" font-family=\"Times,serif\" font-size=\"14.00\" fill=\"#000000\">b</text>\n<polyline fill=\"none\" stroke=\"#000000\" points=\"0,-46.5 93,-46.5 \"/>\n<text text-anchor=\"middle\" x=\"46.5\" y=\"-31.3\" font-family=\"Times,serif\" font-size=\"14.00\" fill=\"#000000\">data: &#45;3.0000</text>\n<polyline fill=\"none\" stroke=\"#000000\" points=\"0,-23.5 93,-23.5 \"/>\n<text text-anchor=\"middle\" x=\"46.5\" y=\"-8.3\" font-family=\"Times,serif\" font-size=\"14.00\" fill=\"#000000\">grad: 0.0000</text>\n</g>\n<!-- 140592834892240&#45;&gt;140592834892624* -->\n<g id=\"edge6\" class=\"edge\">\n<title>140592834892240&#45;&gt;140592834892624*</title>\n<path fill=\"none\" stroke=\"#000000\" d=\"M93.2555,-53.7876C103.3508,-57.8441 113.8166,-62.0496 123.2402,-65.8362\"/>\n<polygon fill=\"#000000\" stroke=\"#000000\" points=\"122.04,-69.1259 132.6239,-69.6069 124.65,-62.6307 122.04,-69.1259\"/>\n</g>\n</g>\n</svg>\n"
          },
          "metadata": {},
          "execution_count": 93
        }
      ]
    },
    {
      "cell_type": "code",
      "source": [
        "# cross-checking via the formula\n",
        "def derive():\n",
        "    # L = e*f\n",
        "    # e = d + c\n",
        "    # d = a*b \n",
        "    # L = (a*b + c)*f\n",
        "\n",
        "    h = 0.0001\n",
        "\n",
        "    a = Value(2.0, label='a')\n",
        "    b = Value(-3.0, label='b')\n",
        "    c = Value(10, label = 'c')\n",
        "\n",
        "    d = a*b\n",
        "    d.label = 'd'\n",
        "\n",
        "    e = d + c\n",
        "    e.label = 'e'\n",
        "\n",
        "    f =  Value(-2.0, label='f')\n",
        "\n",
        "    L = e*f\n",
        "    L.label = 'L'\n",
        "\n",
        "    L1 = L.data\n",
        "\n",
        "    # --------- wrt f\n",
        "\n",
        "    a = Value(2.0, label='a')\n",
        "    b = Value(-3.0, label='b')\n",
        "    c = Value(10, label = 'c')\n",
        "    d = a*b\n",
        "    d.label = 'd'\n",
        "    e = d + c\n",
        "    e.label = 'e'\n",
        "    f =  Value(-2.0 + h, label='f')\n",
        "    L = e*f\n",
        "    L.label = 'L'\n",
        "\n",
        "    L2 = L.data\n",
        "\n",
        "    print(\"derivative of L wrt f: \",(L2 - L1)/h)\n",
        "\n",
        "    # --------- wrt e\n",
        "\n",
        "    a = Value(2.0, label='a')\n",
        "    b = Value(-3.0, label='b')\n",
        "    c = Value(10, label = 'c')\n",
        "    d = a*b\n",
        "    d.label = 'd'\n",
        "    e = d + c\n",
        "    e.data += h\n",
        "    e.label = 'e'\n",
        "    f =  Value(-2.0, label='f')\n",
        "    L = e*f\n",
        "    L.label = 'L'\n",
        "\n",
        "    L2 = L.data\n",
        "\n",
        "    print(\"derivative of L wrt e: \",(L2 - L1)/h)\n"
      ],
      "metadata": {
        "id": "MtI0dZrbABtK"
      },
      "execution_count": 94,
      "outputs": []
    },
    {
      "cell_type": "code",
      "source": [
        "derive()"
      ],
      "metadata": {
        "colab": {
          "base_uri": "https://localhost:8080/"
        },
        "id": "TgzqcitjAdZZ",
        "outputId": "9d7ef4fc-9a1e-4fc1-f2f0-2cd5465be454"
      },
      "execution_count": 95,
      "outputs": [
        {
          "output_type": "stream",
          "name": "stdout",
          "text": [
            "derivative of L wrt f:  3.9999999999995595\n",
            "derivative of L wrt e:  -1.9999999999953388\n"
          ]
        }
      ]
    },
    {
      "cell_type": "code",
      "source": [
        "draw_dot(L)"
      ],
      "metadata": {
        "colab": {
          "base_uri": "https://localhost:8080/",
          "height": 360
        },
        "id": "lJZK_jgEBA-Z",
        "outputId": "9c38ff33-1dbe-43e1-d28b-e30987f67af4"
      },
      "execution_count": 96,
      "outputs": [
        {
          "output_type": "execute_result",
          "data": {
            "text/plain": [
              "<graphviz.dot.Digraph at 0x7fde51fac190>"
            ],
            "image/svg+xml": "<?xml version=\"1.0\" encoding=\"UTF-8\" standalone=\"no\"?>\n<!DOCTYPE svg PUBLIC \"-//W3C//DTD SVG 1.1//EN\"\n \"http://www.w3.org/Graphics/SVG/1.1/DTD/svg11.dtd\">\n<!-- Generated by graphviz version 2.40.1 (20161225.0304)\n -->\n<!-- Title: %3 Pages: 1 -->\n<svg width=\"763pt\" height=\"254pt\"\n viewBox=\"0.00 0.00 763.00 254.00\" xmlns=\"http://www.w3.org/2000/svg\" xmlns:xlink=\"http://www.w3.org/1999/xlink\">\n<g id=\"graph0\" class=\"graph\" transform=\"scale(1 1) rotate(0) translate(4 250)\">\n<title>%3</title>\n<polygon fill=\"#ffffff\" stroke=\"transparent\" points=\"-4,4 -4,-250 759,-250 759,4 -4,4\"/>\n<!-- 140592834892816 -->\n<g id=\"node1\" class=\"node\">\n<title>140592834892816</title>\n<polygon fill=\"none\" stroke=\"#000000\" points=\"441,-88.5 441,-157.5 536,-157.5 536,-88.5 441,-88.5\"/>\n<text text-anchor=\"middle\" x=\"488.5\" y=\"-142.3\" font-family=\"Times,serif\" font-size=\"14.00\" fill=\"#000000\">e</text>\n<polyline fill=\"none\" stroke=\"#000000\" points=\"441,-134.5 536,-134.5 \"/>\n<text text-anchor=\"middle\" x=\"488.5\" y=\"-119.3\" font-family=\"Times,serif\" font-size=\"14.00\" fill=\"#000000\">data: 4.0000</text>\n<polyline fill=\"none\" stroke=\"#000000\" points=\"441,-111.5 536,-111.5 \"/>\n<text text-anchor=\"middle\" x=\"488.5\" y=\"-96.3\" font-family=\"Times,serif\" font-size=\"14.00\" fill=\"#000000\">grad: &#45;2.0000</text>\n</g>\n<!-- 140592834470672* -->\n<g id=\"node6\" class=\"node\">\n<title>140592834470672*</title>\n<ellipse fill=\"none\" stroke=\"#000000\" cx=\"599\" cy=\"-167\" rx=\"27\" ry=\"18\"/>\n<text text-anchor=\"middle\" x=\"599\" y=\"-163.3\" font-family=\"Times,serif\" font-size=\"14.00\" fill=\"#000000\">*</text>\n</g>\n<!-- 140592834892816&#45;&gt;140592834470672* -->\n<g id=\"edge7\" class=\"edge\">\n<title>140592834892816&#45;&gt;140592834470672*</title>\n<path fill=\"none\" stroke=\"#000000\" d=\"M536.0032,-141.9153C546.1621,-145.9605 556.6775,-150.1476 566.1386,-153.9149\"/>\n<polygon fill=\"#000000\" stroke=\"#000000\" points=\"564.972,-157.2176 575.5573,-157.6654 567.5616,-150.7142 564.972,-157.2176\"/>\n</g>\n<!-- 140592834892816+ -->\n<g id=\"node2\" class=\"node\">\n<title>140592834892816+</title>\n<ellipse fill=\"none\" stroke=\"#000000\" cx=\"378\" cy=\"-123\" rx=\"27\" ry=\"18\"/>\n<text text-anchor=\"middle\" x=\"378\" y=\"-119.3\" font-family=\"Times,serif\" font-size=\"14.00\" fill=\"#000000\">+</text>\n</g>\n<!-- 140592834892816+&#45;&gt;140592834892816 -->\n<g id=\"edge1\" class=\"edge\">\n<title>140592834892816+&#45;&gt;140592834892816</title>\n<path fill=\"none\" stroke=\"#000000\" d=\"M405.0313,-123C412.8303,-123 421.6547,-123 430.5724,-123\"/>\n<polygon fill=\"#000000\" stroke=\"#000000\" points=\"430.6306,-126.5001 440.6306,-123 430.6306,-119.5001 430.6306,-126.5001\"/>\n</g>\n<!-- 140592834892368 -->\n<g id=\"node3\" class=\"node\">\n<title>140592834892368</title>\n<polygon fill=\"none\" stroke=\"#000000\" points=\"1,-88.5 1,-157.5 92,-157.5 92,-88.5 1,-88.5\"/>\n<text text-anchor=\"middle\" x=\"46.5\" y=\"-142.3\" font-family=\"Times,serif\" font-size=\"14.00\" fill=\"#000000\">a</text>\n<polyline fill=\"none\" stroke=\"#000000\" points=\"1,-134.5 92,-134.5 \"/>\n<text text-anchor=\"middle\" x=\"46.5\" y=\"-119.3\" font-family=\"Times,serif\" font-size=\"14.00\" fill=\"#000000\">data: 2.0000</text>\n<polyline fill=\"none\" stroke=\"#000000\" points=\"1,-111.5 92,-111.5 \"/>\n<text text-anchor=\"middle\" x=\"46.5\" y=\"-96.3\" font-family=\"Times,serif\" font-size=\"14.00\" fill=\"#000000\">grad: 0.0000</text>\n</g>\n<!-- 140592834892624* -->\n<g id=\"node8\" class=\"node\">\n<title>140592834892624*</title>\n<ellipse fill=\"none\" stroke=\"#000000\" cx=\"156\" cy=\"-79\" rx=\"27\" ry=\"18\"/>\n<text text-anchor=\"middle\" x=\"156\" y=\"-75.3\" font-family=\"Times,serif\" font-size=\"14.00\" fill=\"#000000\">*</text>\n</g>\n<!-- 140592834892368&#45;&gt;140592834892624* -->\n<g id=\"edge8\" class=\"edge\">\n<title>140592834892368&#45;&gt;140592834892624*</title>\n<path fill=\"none\" stroke=\"#000000\" d=\"M92.3034,-104.595C102.7644,-100.3915 113.6733,-96.008 123.4463,-92.0809\"/>\n<polygon fill=\"#000000\" stroke=\"#000000\" points=\"124.8081,-95.3058 132.7821,-88.3296 122.1981,-88.8105 124.8081,-95.3058\"/>\n</g>\n<!-- 140592834892432 -->\n<g id=\"node4\" class=\"node\">\n<title>140592834892432</title>\n<polygon fill=\"none\" stroke=\"#000000\" points=\"219,-132.5 219,-201.5 315,-201.5 315,-132.5 219,-132.5\"/>\n<text text-anchor=\"middle\" x=\"267\" y=\"-186.3\" font-family=\"Times,serif\" font-size=\"14.00\" fill=\"#000000\">c</text>\n<polyline fill=\"none\" stroke=\"#000000\" points=\"219,-178.5 315,-178.5 \"/>\n<text text-anchor=\"middle\" x=\"267\" y=\"-163.3\" font-family=\"Times,serif\" font-size=\"14.00\" fill=\"#000000\">data: 10.0000</text>\n<polyline fill=\"none\" stroke=\"#000000\" points=\"219,-155.5 315,-155.5 \"/>\n<text text-anchor=\"middle\" x=\"267\" y=\"-140.3\" font-family=\"Times,serif\" font-size=\"14.00\" fill=\"#000000\">grad: 0.0000</text>\n</g>\n<!-- 140592834892432&#45;&gt;140592834892816+ -->\n<g id=\"edge4\" class=\"edge\">\n<title>140592834892432&#45;&gt;140592834892816+</title>\n<path fill=\"none\" stroke=\"#000000\" d=\"M315.0406,-147.9569C325.2164,-143.9232 335.7329,-139.7545 345.1881,-136.0065\"/>\n<polygon fill=\"#000000\" stroke=\"#000000\" points=\"346.5921,-139.215 354.5986,-132.2762 344.0125,-132.7076 346.5921,-139.215\"/>\n</g>\n<!-- 140592834470672 -->\n<g id=\"node5\" class=\"node\">\n<title>140592834470672</title>\n<polygon fill=\"none\" stroke=\"#000000\" points=\"662,-132.5 662,-201.5 755,-201.5 755,-132.5 662,-132.5\"/>\n<text text-anchor=\"middle\" x=\"708.5\" y=\"-186.3\" font-family=\"Times,serif\" font-size=\"14.00\" fill=\"#000000\">L</text>\n<polyline fill=\"none\" stroke=\"#000000\" points=\"662,-178.5 755,-178.5 \"/>\n<text text-anchor=\"middle\" x=\"708.5\" y=\"-163.3\" font-family=\"Times,serif\" font-size=\"14.00\" fill=\"#000000\">data: &#45;8.0000</text>\n<polyline fill=\"none\" stroke=\"#000000\" points=\"662,-155.5 755,-155.5 \"/>\n<text text-anchor=\"middle\" x=\"708.5\" y=\"-140.3\" font-family=\"Times,serif\" font-size=\"14.00\" fill=\"#000000\">grad: 1.0000</text>\n</g>\n<!-- 140592834470672*&#45;&gt;140592834470672 -->\n<g id=\"edge2\" class=\"edge\">\n<title>140592834470672*&#45;&gt;140592834470672</title>\n<path fill=\"none\" stroke=\"#000000\" d=\"M626.0674,-167C633.8899,-167 642.7356,-167 651.6555,-167\"/>\n<polygon fill=\"#000000\" stroke=\"#000000\" points=\"651.7073,-170.5001 661.7073,-167 651.7073,-163.5001 651.7073,-170.5001\"/>\n</g>\n<!-- 140592834892624 -->\n<g id=\"node7\" class=\"node\">\n<title>140592834892624</title>\n<polygon fill=\"none\" stroke=\"#000000\" points=\"220.5,-44.5 220.5,-113.5 313.5,-113.5 313.5,-44.5 220.5,-44.5\"/>\n<text text-anchor=\"middle\" x=\"267\" y=\"-98.3\" font-family=\"Times,serif\" font-size=\"14.00\" fill=\"#000000\">d</text>\n<polyline fill=\"none\" stroke=\"#000000\" points=\"220.5,-90.5 313.5,-90.5 \"/>\n<text text-anchor=\"middle\" x=\"267\" y=\"-75.3\" font-family=\"Times,serif\" font-size=\"14.00\" fill=\"#000000\">data: &#45;6.0000</text>\n<polyline fill=\"none\" stroke=\"#000000\" points=\"220.5,-67.5 313.5,-67.5 \"/>\n<text text-anchor=\"middle\" x=\"267\" y=\"-52.3\" font-family=\"Times,serif\" font-size=\"14.00\" fill=\"#000000\">grad: 0.0000</text>\n</g>\n<!-- 140592834892624&#45;&gt;140592834892816+ -->\n<g id=\"edge5\" class=\"edge\">\n<title>140592834892624&#45;&gt;140592834892816+</title>\n<path fill=\"none\" stroke=\"#000000\" d=\"M313.7523,-97.5324C324.3282,-101.7247 335.3389,-106.0893 345.1958,-109.9965\"/>\n<polygon fill=\"#000000\" stroke=\"#000000\" points=\"344.0231,-113.2966 354.6091,-113.728 346.6026,-106.7892 344.0231,-113.2966\"/>\n</g>\n<!-- 140592834892624*&#45;&gt;140592834892624 -->\n<g id=\"edge3\" class=\"edge\">\n<title>140592834892624*&#45;&gt;140592834892624</title>\n<path fill=\"none\" stroke=\"#000000\" d=\"M183.1537,-79C191.355,-79 200.6851,-79 210.0698,-79\"/>\n<polygon fill=\"#000000\" stroke=\"#000000\" points=\"210.2239,-82.5001 220.2238,-79 210.2238,-75.5001 210.2239,-82.5001\"/>\n</g>\n<!-- 140592834470736 -->\n<g id=\"node9\" class=\"node\">\n<title>140592834470736</title>\n<polygon fill=\"none\" stroke=\"#000000\" points=\"442,-176.5 442,-245.5 535,-245.5 535,-176.5 442,-176.5\"/>\n<text text-anchor=\"middle\" x=\"488.5\" y=\"-230.3\" font-family=\"Times,serif\" font-size=\"14.00\" fill=\"#000000\">f</text>\n<polyline fill=\"none\" stroke=\"#000000\" points=\"442,-222.5 535,-222.5 \"/>\n<text text-anchor=\"middle\" x=\"488.5\" y=\"-207.3\" font-family=\"Times,serif\" font-size=\"14.00\" fill=\"#000000\">data: &#45;2.0000</text>\n<polyline fill=\"none\" stroke=\"#000000\" points=\"442,-199.5 535,-199.5 \"/>\n<text text-anchor=\"middle\" x=\"488.5\" y=\"-184.3\" font-family=\"Times,serif\" font-size=\"14.00\" fill=\"#000000\">grad: 4.0000</text>\n</g>\n<!-- 140592834470736&#45;&gt;140592834470672* -->\n<g id=\"edge9\" class=\"edge\">\n<title>140592834470736&#45;&gt;140592834470672*</title>\n<path fill=\"none\" stroke=\"#000000\" d=\"M535.0417,-192.4676C545.57,-188.2753 556.5311,-183.9107 566.3435,-180.0035\"/>\n<polygon fill=\"#000000\" stroke=\"#000000\" points=\"567.7188,-183.2232 575.7145,-176.272 565.1291,-176.7198 567.7188,-183.2232\"/>\n</g>\n<!-- 140592834892240 -->\n<g id=\"node10\" class=\"node\">\n<title>140592834892240</title>\n<polygon fill=\"none\" stroke=\"#000000\" points=\"0,-.5 0,-69.5 93,-69.5 93,-.5 0,-.5\"/>\n<text text-anchor=\"middle\" x=\"46.5\" y=\"-54.3\" font-family=\"Times,serif\" font-size=\"14.00\" fill=\"#000000\">b</text>\n<polyline fill=\"none\" stroke=\"#000000\" points=\"0,-46.5 93,-46.5 \"/>\n<text text-anchor=\"middle\" x=\"46.5\" y=\"-31.3\" font-family=\"Times,serif\" font-size=\"14.00\" fill=\"#000000\">data: &#45;3.0000</text>\n<polyline fill=\"none\" stroke=\"#000000\" points=\"0,-23.5 93,-23.5 \"/>\n<text text-anchor=\"middle\" x=\"46.5\" y=\"-8.3\" font-family=\"Times,serif\" font-size=\"14.00\" fill=\"#000000\">grad: 0.0000</text>\n</g>\n<!-- 140592834892240&#45;&gt;140592834892624* -->\n<g id=\"edge6\" class=\"edge\">\n<title>140592834892240&#45;&gt;140592834892624*</title>\n<path fill=\"none\" stroke=\"#000000\" d=\"M93.2555,-53.7876C103.3508,-57.8441 113.8166,-62.0496 123.2402,-65.8362\"/>\n<polygon fill=\"#000000\" stroke=\"#000000\" points=\"122.04,-69.1259 132.6239,-69.6069 124.65,-62.6307 122.04,-69.1259\"/>\n</g>\n</g>\n</svg>\n"
          },
          "metadata": {},
          "execution_count": 96
        }
      ]
    },
    {
      "cell_type": "markdown",
      "source": [
        "```\n",
        "now the important nodes: d and c\n",
        "\n",
        "dL/dc = ?\n",
        "\n",
        "wkt, e = c + d\n",
        "de/dc  = 1 // partial\n",
        "de/dd  = 1\n",
        "\n",
        "TIME FOR THE CHAIN RULE!!!!!!\n",
        "\n",
        "if z depends on y and y depends on x\n",
        "then z depends on x as well\n",
        "hence:\n",
        "\n",
        "dz/dx = dz/dy * dy/dx\n",
        "\n",
        "intuitive:\n",
        "\n",
        "car is 2 times faster than bike\n",
        "bike is 4 times faster than walking\n",
        "then car is 2*4=8 times faster than walking\n",
        "```\n",
        "\n",
        "```\n",
        "so now:\n",
        "we want dL/dc\n",
        "\n",
        "wkt:\n",
        "dL/de = -2\n",
        "de/dc = 1\n",
        "de/dd = 1\n",
        "\n",
        "therefore from chain rule:\n",
        "\n",
        "dL/dc = dL/de * de/dc\n",
        "dL/dc = -2 * 1\n",
        "      = -2\n",
        "      = dL/de\n",
        "\n",
        "dL/dd = dL/de * de/dd\n",
        "      = -2 * 1\n",
        "      = -2\n",
        "      = dL/de\n",
        "```"
      ],
      "metadata": {
        "id": "oZOz7Ja0A8zf"
      }
    },
    {
      "cell_type": "code",
      "source": [
        "c.grad = e.grad\n",
        "d.grad = e.grad"
      ],
      "metadata": {
        "id": "0VS6hLhkA7IG"
      },
      "execution_count": 97,
      "outputs": []
    },
    {
      "cell_type": "code",
      "source": [
        "draw_dot(L)"
      ],
      "metadata": {
        "colab": {
          "base_uri": "https://localhost:8080/",
          "height": 360
        },
        "id": "n5J5hdtnFQrz",
        "outputId": "f7dc365b-793e-465f-a65c-1296c97e9656"
      },
      "execution_count": 98,
      "outputs": [
        {
          "output_type": "execute_result",
          "data": {
            "text/plain": [
              "<graphviz.dot.Digraph at 0x7fde51faf450>"
            ],
            "image/svg+xml": "<?xml version=\"1.0\" encoding=\"UTF-8\" standalone=\"no\"?>\n<!DOCTYPE svg PUBLIC \"-//W3C//DTD SVG 1.1//EN\"\n \"http://www.w3.org/Graphics/SVG/1.1/DTD/svg11.dtd\">\n<!-- Generated by graphviz version 2.40.1 (20161225.0304)\n -->\n<!-- Title: %3 Pages: 1 -->\n<svg width=\"763pt\" height=\"254pt\"\n viewBox=\"0.00 0.00 763.00 254.00\" xmlns=\"http://www.w3.org/2000/svg\" xmlns:xlink=\"http://www.w3.org/1999/xlink\">\n<g id=\"graph0\" class=\"graph\" transform=\"scale(1 1) rotate(0) translate(4 250)\">\n<title>%3</title>\n<polygon fill=\"#ffffff\" stroke=\"transparent\" points=\"-4,4 -4,-250 759,-250 759,4 -4,4\"/>\n<!-- 140592834892816 -->\n<g id=\"node1\" class=\"node\">\n<title>140592834892816</title>\n<polygon fill=\"none\" stroke=\"#000000\" points=\"441,-88.5 441,-157.5 536,-157.5 536,-88.5 441,-88.5\"/>\n<text text-anchor=\"middle\" x=\"488.5\" y=\"-142.3\" font-family=\"Times,serif\" font-size=\"14.00\" fill=\"#000000\">e</text>\n<polyline fill=\"none\" stroke=\"#000000\" points=\"441,-134.5 536,-134.5 \"/>\n<text text-anchor=\"middle\" x=\"488.5\" y=\"-119.3\" font-family=\"Times,serif\" font-size=\"14.00\" fill=\"#000000\">data: 4.0000</text>\n<polyline fill=\"none\" stroke=\"#000000\" points=\"441,-111.5 536,-111.5 \"/>\n<text text-anchor=\"middle\" x=\"488.5\" y=\"-96.3\" font-family=\"Times,serif\" font-size=\"14.00\" fill=\"#000000\">grad: &#45;2.0000</text>\n</g>\n<!-- 140592834470672* -->\n<g id=\"node6\" class=\"node\">\n<title>140592834470672*</title>\n<ellipse fill=\"none\" stroke=\"#000000\" cx=\"599\" cy=\"-167\" rx=\"27\" ry=\"18\"/>\n<text text-anchor=\"middle\" x=\"599\" y=\"-163.3\" font-family=\"Times,serif\" font-size=\"14.00\" fill=\"#000000\">*</text>\n</g>\n<!-- 140592834892816&#45;&gt;140592834470672* -->\n<g id=\"edge7\" class=\"edge\">\n<title>140592834892816&#45;&gt;140592834470672*</title>\n<path fill=\"none\" stroke=\"#000000\" d=\"M536.0032,-141.9153C546.1621,-145.9605 556.6775,-150.1476 566.1386,-153.9149\"/>\n<polygon fill=\"#000000\" stroke=\"#000000\" points=\"564.972,-157.2176 575.5573,-157.6654 567.5616,-150.7142 564.972,-157.2176\"/>\n</g>\n<!-- 140592834892816+ -->\n<g id=\"node2\" class=\"node\">\n<title>140592834892816+</title>\n<ellipse fill=\"none\" stroke=\"#000000\" cx=\"378\" cy=\"-123\" rx=\"27\" ry=\"18\"/>\n<text text-anchor=\"middle\" x=\"378\" y=\"-119.3\" font-family=\"Times,serif\" font-size=\"14.00\" fill=\"#000000\">+</text>\n</g>\n<!-- 140592834892816+&#45;&gt;140592834892816 -->\n<g id=\"edge1\" class=\"edge\">\n<title>140592834892816+&#45;&gt;140592834892816</title>\n<path fill=\"none\" stroke=\"#000000\" d=\"M405.0313,-123C412.8303,-123 421.6547,-123 430.5724,-123\"/>\n<polygon fill=\"#000000\" stroke=\"#000000\" points=\"430.6306,-126.5001 440.6306,-123 430.6306,-119.5001 430.6306,-126.5001\"/>\n</g>\n<!-- 140592834892368 -->\n<g id=\"node3\" class=\"node\">\n<title>140592834892368</title>\n<polygon fill=\"none\" stroke=\"#000000\" points=\"1,-88.5 1,-157.5 92,-157.5 92,-88.5 1,-88.5\"/>\n<text text-anchor=\"middle\" x=\"46.5\" y=\"-142.3\" font-family=\"Times,serif\" font-size=\"14.00\" fill=\"#000000\">a</text>\n<polyline fill=\"none\" stroke=\"#000000\" points=\"1,-134.5 92,-134.5 \"/>\n<text text-anchor=\"middle\" x=\"46.5\" y=\"-119.3\" font-family=\"Times,serif\" font-size=\"14.00\" fill=\"#000000\">data: 2.0000</text>\n<polyline fill=\"none\" stroke=\"#000000\" points=\"1,-111.5 92,-111.5 \"/>\n<text text-anchor=\"middle\" x=\"46.5\" y=\"-96.3\" font-family=\"Times,serif\" font-size=\"14.00\" fill=\"#000000\">grad: 0.0000</text>\n</g>\n<!-- 140592834892624* -->\n<g id=\"node8\" class=\"node\">\n<title>140592834892624*</title>\n<ellipse fill=\"none\" stroke=\"#000000\" cx=\"156\" cy=\"-79\" rx=\"27\" ry=\"18\"/>\n<text text-anchor=\"middle\" x=\"156\" y=\"-75.3\" font-family=\"Times,serif\" font-size=\"14.00\" fill=\"#000000\">*</text>\n</g>\n<!-- 140592834892368&#45;&gt;140592834892624* -->\n<g id=\"edge8\" class=\"edge\">\n<title>140592834892368&#45;&gt;140592834892624*</title>\n<path fill=\"none\" stroke=\"#000000\" d=\"M92.3034,-104.595C102.7644,-100.3915 113.6733,-96.008 123.4463,-92.0809\"/>\n<polygon fill=\"#000000\" stroke=\"#000000\" points=\"124.8081,-95.3058 132.7821,-88.3296 122.1981,-88.8105 124.8081,-95.3058\"/>\n</g>\n<!-- 140592834892432 -->\n<g id=\"node4\" class=\"node\">\n<title>140592834892432</title>\n<polygon fill=\"none\" stroke=\"#000000\" points=\"219,-132.5 219,-201.5 315,-201.5 315,-132.5 219,-132.5\"/>\n<text text-anchor=\"middle\" x=\"267\" y=\"-186.3\" font-family=\"Times,serif\" font-size=\"14.00\" fill=\"#000000\">c</text>\n<polyline fill=\"none\" stroke=\"#000000\" points=\"219,-178.5 315,-178.5 \"/>\n<text text-anchor=\"middle\" x=\"267\" y=\"-163.3\" font-family=\"Times,serif\" font-size=\"14.00\" fill=\"#000000\">data: 10.0000</text>\n<polyline fill=\"none\" stroke=\"#000000\" points=\"219,-155.5 315,-155.5 \"/>\n<text text-anchor=\"middle\" x=\"267\" y=\"-140.3\" font-family=\"Times,serif\" font-size=\"14.00\" fill=\"#000000\">grad: &#45;2.0000</text>\n</g>\n<!-- 140592834892432&#45;&gt;140592834892816+ -->\n<g id=\"edge4\" class=\"edge\">\n<title>140592834892432&#45;&gt;140592834892816+</title>\n<path fill=\"none\" stroke=\"#000000\" d=\"M315.0406,-147.9569C325.2164,-143.9232 335.7329,-139.7545 345.1881,-136.0065\"/>\n<polygon fill=\"#000000\" stroke=\"#000000\" points=\"346.5921,-139.215 354.5986,-132.2762 344.0125,-132.7076 346.5921,-139.215\"/>\n</g>\n<!-- 140592834470672 -->\n<g id=\"node5\" class=\"node\">\n<title>140592834470672</title>\n<polygon fill=\"none\" stroke=\"#000000\" points=\"662,-132.5 662,-201.5 755,-201.5 755,-132.5 662,-132.5\"/>\n<text text-anchor=\"middle\" x=\"708.5\" y=\"-186.3\" font-family=\"Times,serif\" font-size=\"14.00\" fill=\"#000000\">L</text>\n<polyline fill=\"none\" stroke=\"#000000\" points=\"662,-178.5 755,-178.5 \"/>\n<text text-anchor=\"middle\" x=\"708.5\" y=\"-163.3\" font-family=\"Times,serif\" font-size=\"14.00\" fill=\"#000000\">data: &#45;8.0000</text>\n<polyline fill=\"none\" stroke=\"#000000\" points=\"662,-155.5 755,-155.5 \"/>\n<text text-anchor=\"middle\" x=\"708.5\" y=\"-140.3\" font-family=\"Times,serif\" font-size=\"14.00\" fill=\"#000000\">grad: 1.0000</text>\n</g>\n<!-- 140592834470672*&#45;&gt;140592834470672 -->\n<g id=\"edge2\" class=\"edge\">\n<title>140592834470672*&#45;&gt;140592834470672</title>\n<path fill=\"none\" stroke=\"#000000\" d=\"M626.0674,-167C633.8899,-167 642.7356,-167 651.6555,-167\"/>\n<polygon fill=\"#000000\" stroke=\"#000000\" points=\"651.7073,-170.5001 661.7073,-167 651.7073,-163.5001 651.7073,-170.5001\"/>\n</g>\n<!-- 140592834892624 -->\n<g id=\"node7\" class=\"node\">\n<title>140592834892624</title>\n<polygon fill=\"none\" stroke=\"#000000\" points=\"219.5,-44.5 219.5,-113.5 314.5,-113.5 314.5,-44.5 219.5,-44.5\"/>\n<text text-anchor=\"middle\" x=\"267\" y=\"-98.3\" font-family=\"Times,serif\" font-size=\"14.00\" fill=\"#000000\">d</text>\n<polyline fill=\"none\" stroke=\"#000000\" points=\"219.5,-90.5 314.5,-90.5 \"/>\n<text text-anchor=\"middle\" x=\"267\" y=\"-75.3\" font-family=\"Times,serif\" font-size=\"14.00\" fill=\"#000000\">data: &#45;6.0000</text>\n<polyline fill=\"none\" stroke=\"#000000\" points=\"219.5,-67.5 314.5,-67.5 \"/>\n<text text-anchor=\"middle\" x=\"267\" y=\"-52.3\" font-family=\"Times,serif\" font-size=\"14.00\" fill=\"#000000\">grad: &#45;2.0000</text>\n</g>\n<!-- 140592834892624&#45;&gt;140592834892816+ -->\n<g id=\"edge5\" class=\"edge\">\n<title>140592834892624&#45;&gt;140592834892816+</title>\n<path fill=\"none\" stroke=\"#000000\" d=\"M314.7182,-97.9153C325.0102,-101.9951 335.6666,-106.2192 345.2334,-110.0114\"/>\n<polygon fill=\"#000000\" stroke=\"#000000\" points=\"344.1616,-113.3515 354.7477,-113.7829 346.7412,-106.8441 344.1616,-113.3515\"/>\n</g>\n<!-- 140592834892624*&#45;&gt;140592834892624 -->\n<g id=\"edge3\" class=\"edge\">\n<title>140592834892624*&#45;&gt;140592834892624</title>\n<path fill=\"none\" stroke=\"#000000\" d=\"M183.1537,-79C191.0812,-79 200.0635,-79 209.1302,-79\"/>\n<polygon fill=\"#000000\" stroke=\"#000000\" points=\"209.3511,-82.5001 219.3511,-79 209.351,-75.5001 209.3511,-82.5001\"/>\n</g>\n<!-- 140592834470736 -->\n<g id=\"node9\" class=\"node\">\n<title>140592834470736</title>\n<polygon fill=\"none\" stroke=\"#000000\" points=\"442,-176.5 442,-245.5 535,-245.5 535,-176.5 442,-176.5\"/>\n<text text-anchor=\"middle\" x=\"488.5\" y=\"-230.3\" font-family=\"Times,serif\" font-size=\"14.00\" fill=\"#000000\">f</text>\n<polyline fill=\"none\" stroke=\"#000000\" points=\"442,-222.5 535,-222.5 \"/>\n<text text-anchor=\"middle\" x=\"488.5\" y=\"-207.3\" font-family=\"Times,serif\" font-size=\"14.00\" fill=\"#000000\">data: &#45;2.0000</text>\n<polyline fill=\"none\" stroke=\"#000000\" points=\"442,-199.5 535,-199.5 \"/>\n<text text-anchor=\"middle\" x=\"488.5\" y=\"-184.3\" font-family=\"Times,serif\" font-size=\"14.00\" fill=\"#000000\">grad: 4.0000</text>\n</g>\n<!-- 140592834470736&#45;&gt;140592834470672* -->\n<g id=\"edge9\" class=\"edge\">\n<title>140592834470736&#45;&gt;140592834470672*</title>\n<path fill=\"none\" stroke=\"#000000\" d=\"M535.0417,-192.4676C545.57,-188.2753 556.5311,-183.9107 566.3435,-180.0035\"/>\n<polygon fill=\"#000000\" stroke=\"#000000\" points=\"567.7188,-183.2232 575.7145,-176.272 565.1291,-176.7198 567.7188,-183.2232\"/>\n</g>\n<!-- 140592834892240 -->\n<g id=\"node10\" class=\"node\">\n<title>140592834892240</title>\n<polygon fill=\"none\" stroke=\"#000000\" points=\"0,-.5 0,-69.5 93,-69.5 93,-.5 0,-.5\"/>\n<text text-anchor=\"middle\" x=\"46.5\" y=\"-54.3\" font-family=\"Times,serif\" font-size=\"14.00\" fill=\"#000000\">b</text>\n<polyline fill=\"none\" stroke=\"#000000\" points=\"0,-46.5 93,-46.5 \"/>\n<text text-anchor=\"middle\" x=\"46.5\" y=\"-31.3\" font-family=\"Times,serif\" font-size=\"14.00\" fill=\"#000000\">data: &#45;3.0000</text>\n<polyline fill=\"none\" stroke=\"#000000\" points=\"0,-23.5 93,-23.5 \"/>\n<text text-anchor=\"middle\" x=\"46.5\" y=\"-8.3\" font-family=\"Times,serif\" font-size=\"14.00\" fill=\"#000000\">grad: 0.0000</text>\n</g>\n<!-- 140592834892240&#45;&gt;140592834892624* -->\n<g id=\"edge6\" class=\"edge\">\n<title>140592834892240&#45;&gt;140592834892624*</title>\n<path fill=\"none\" stroke=\"#000000\" d=\"M93.2555,-53.7876C103.3508,-57.8441 113.8166,-62.0496 123.2402,-65.8362\"/>\n<polygon fill=\"#000000\" stroke=\"#000000\" points=\"122.04,-69.1259 132.6239,-69.6069 124.65,-62.6307 122.04,-69.1259\"/>\n</g>\n</g>\n</svg>\n"
          },
          "metadata": {},
          "execution_count": 98
        }
      ]
    },
    {
      "cell_type": "code",
      "source": [
        "# cross-checking via the formula\n",
        "def derive():\n",
        "    # L = e*f\n",
        "    # e = d + c\n",
        "    # d = a*b \n",
        "    # L = (a*b + c)*f\n",
        "\n",
        "    h = 0.0001\n",
        "\n",
        "    a = Value(2.0, label='a')\n",
        "    b = Value(-3.0, label='b')\n",
        "    c = Value(10, label = 'c')\n",
        "\n",
        "    d = a*b\n",
        "    d.label = 'd'\n",
        "\n",
        "    e = d + c\n",
        "    e.label = 'e'\n",
        "\n",
        "    f =  Value(-2.0, label='f')\n",
        "\n",
        "    L = e*f\n",
        "    L.label = 'L'\n",
        "\n",
        "    L1 = L.data\n",
        "\n",
        "    # --------- wrt c\n",
        "\n",
        "    a = Value(2.0, label='a')\n",
        "    b = Value(-3.0, label='b')\n",
        "    c = Value(10 + h, label = 'c')\n",
        "    d = a*b\n",
        "    d.label = 'd'\n",
        "    e = d + c\n",
        "    e.label = 'e'\n",
        "    f =  Value(-2.0, label='f')\n",
        "    L = e*f\n",
        "    L.label = 'L'\n",
        "\n",
        "    L2 = L.data\n",
        "\n",
        "    print(\"derivative of L wrt c: \",(L2 - L1)/h)\n",
        "\n",
        "    # --------- wrt d\n",
        "\n",
        "    a = Value(2.0, label='a')\n",
        "    b = Value(-3.0, label='b')\n",
        "    c = Value(10, label = 'c')\n",
        "    d = a*b\n",
        "    d.data += h\n",
        "    d.label = 'd'\n",
        "    e = d + c\n",
        "    e.label = 'e'\n",
        "    f =  Value(-2.0, label='f')\n",
        "    L = e*f\n",
        "    L.label = 'L'\n",
        "\n",
        "    L2 = L.data\n",
        "\n",
        "    print(\"derivative of L wrt d: \",(L2 - L1)/h)\n"
      ],
      "metadata": {
        "id": "lI8ppkK5ForZ"
      },
      "execution_count": 99,
      "outputs": []
    },
    {
      "cell_type": "code",
      "source": [
        "derive() # verified"
      ],
      "metadata": {
        "colab": {
          "base_uri": "https://localhost:8080/"
        },
        "id": "9bW47UMbF1Ss",
        "outputId": "ffa9d46d-c0e7-422b-af83-44c788041c74"
      },
      "execution_count": 100,
      "outputs": [
        {
          "output_type": "stream",
          "name": "stdout",
          "text": [
            "derivative of L wrt c:  -1.9999999999953388\n",
            "derivative of L wrt d:  -1.9999999999953388\n"
          ]
        }
      ]
    },
    {
      "cell_type": "markdown",
      "source": [
        "```\n",
        "time for nodes a and b\n",
        "chain rule again\n",
        "\n",
        "dL/dd = -2\n",
        "dL/da = ?\n",
        "dL/db = ?\n",
        "\n",
        "d = a*b\n",
        "dd/da = b = -3\n",
        "dd/db = a = 2\n",
        "\n",
        "therefore\n",
        "\n",
        "dL/da = dL/dd * dd/da\n",
        "      = -2 * -3\n",
        "      = 6\n",
        "\n",
        "dL/db = dL/dd * dd/db\n",
        "      = -2 * 2\n",
        "      = -4\n",
        "```"
      ],
      "metadata": {
        "id": "-sdpVtnlGZsc"
      }
    },
    {
      "cell_type": "code",
      "source": [
        "a.grad = d.grad * b.data\n",
        "b.grad = d.grad * a.data"
      ],
      "metadata": {
        "id": "t14e3tdEF6Np"
      },
      "execution_count": 101,
      "outputs": []
    },
    {
      "cell_type": "code",
      "source": [
        "# cross-checking via the formula\n",
        "def derive():\n",
        "    # L = e*f\n",
        "    # e = d + c\n",
        "    # d = a*b \n",
        "    # L = (a*b + c)*f\n",
        "\n",
        "    h = 0.0001\n",
        "\n",
        "    a = Value(2.0, label='a')\n",
        "    b = Value(-3.0, label='b')\n",
        "    c = Value(10, label = 'c')\n",
        "\n",
        "    d = a*b\n",
        "    d.label = 'd'\n",
        "\n",
        "    e = d + c\n",
        "    e.label = 'e'\n",
        "\n",
        "    f =  Value(-2.0, label='f')\n",
        "\n",
        "    L = e*f\n",
        "    L.label = 'L'\n",
        "\n",
        "    L1 = L.data\n",
        "\n",
        "    # --------- wrt a\n",
        "\n",
        "    a = Value(2.0 + h, label='a')\n",
        "    b = Value(-3.0, label='b')\n",
        "    c = Value(10, label = 'c')\n",
        "    d = a*b\n",
        "    d.label = 'd'\n",
        "    e = d + c\n",
        "    e.label = 'e'\n",
        "    f =  Value(-2.0, label='f')\n",
        "    L = e*f\n",
        "    L.label = 'L'\n",
        "\n",
        "    L2 = L.data\n",
        "\n",
        "    print(\"derivative of L wrt a: \",(L2 - L1)/h)\n",
        "\n",
        "    # --------- wrt b\n",
        "\n",
        "    a = Value(2.0, label='a')\n",
        "    b = Value(-3.0 + h, label='b')\n",
        "    c = Value(10, label = 'c')\n",
        "    d = a*b\n",
        "    d.label = 'd'\n",
        "    e = d + c\n",
        "    e.label = 'e'\n",
        "    f =  Value(-2.0, label='f')\n",
        "    L = e*f\n",
        "    L.label = 'L'\n",
        "\n",
        "    L2 = L.data\n",
        "\n",
        "    print(\"derivative of L wrt b: \",(L2 - L1)/h)\n"
      ],
      "metadata": {
        "id": "LLMsa3vqIQTK"
      },
      "execution_count": 102,
      "outputs": []
    },
    {
      "cell_type": "code",
      "source": [
        "derive() # verified"
      ],
      "metadata": {
        "colab": {
          "base_uri": "https://localhost:8080/"
        },
        "id": "pEEqIP4OIZn8",
        "outputId": "aa0eaf5c-133f-4315-86a5-524bb229338b"
      },
      "execution_count": 103,
      "outputs": [
        {
          "output_type": "stream",
          "name": "stdout",
          "text": [
            "derivative of L wrt a:  6.000000000021544\n",
            "derivative of L wrt b:  -4.000000000008441\n"
          ]
        }
      ]
    },
    {
      "cell_type": "code",
      "source": [
        "draw_dot(L)"
      ],
      "metadata": {
        "colab": {
          "base_uri": "https://localhost:8080/",
          "height": 360
        },
        "id": "wsgAfvdqIg48",
        "outputId": "3b45e419-8a70-4ead-8e96-646d093d51b8"
      },
      "execution_count": 104,
      "outputs": [
        {
          "output_type": "execute_result",
          "data": {
            "text/plain": [
              "<graphviz.dot.Digraph at 0x7fde51fafc50>"
            ],
            "image/svg+xml": "<?xml version=\"1.0\" encoding=\"UTF-8\" standalone=\"no\"?>\n<!DOCTYPE svg PUBLIC \"-//W3C//DTD SVG 1.1//EN\"\n \"http://www.w3.org/Graphics/SVG/1.1/DTD/svg11.dtd\">\n<!-- Generated by graphviz version 2.40.1 (20161225.0304)\n -->\n<!-- Title: %3 Pages: 1 -->\n<svg width=\"765pt\" height=\"254pt\"\n viewBox=\"0.00 0.00 765.00 254.00\" xmlns=\"http://www.w3.org/2000/svg\" xmlns:xlink=\"http://www.w3.org/1999/xlink\">\n<g id=\"graph0\" class=\"graph\" transform=\"scale(1 1) rotate(0) translate(4 250)\">\n<title>%3</title>\n<polygon fill=\"#ffffff\" stroke=\"transparent\" points=\"-4,4 -4,-250 761,-250 761,4 -4,4\"/>\n<!-- 140592834892816 -->\n<g id=\"node1\" class=\"node\">\n<title>140592834892816</title>\n<polygon fill=\"none\" stroke=\"#000000\" points=\"443,-88.5 443,-157.5 538,-157.5 538,-88.5 443,-88.5\"/>\n<text text-anchor=\"middle\" x=\"490.5\" y=\"-142.3\" font-family=\"Times,serif\" font-size=\"14.00\" fill=\"#000000\">e</text>\n<polyline fill=\"none\" stroke=\"#000000\" points=\"443,-134.5 538,-134.5 \"/>\n<text text-anchor=\"middle\" x=\"490.5\" y=\"-119.3\" font-family=\"Times,serif\" font-size=\"14.00\" fill=\"#000000\">data: 4.0000</text>\n<polyline fill=\"none\" stroke=\"#000000\" points=\"443,-111.5 538,-111.5 \"/>\n<text text-anchor=\"middle\" x=\"490.5\" y=\"-96.3\" font-family=\"Times,serif\" font-size=\"14.00\" fill=\"#000000\">grad: &#45;2.0000</text>\n</g>\n<!-- 140592834470672* -->\n<g id=\"node6\" class=\"node\">\n<title>140592834470672*</title>\n<ellipse fill=\"none\" stroke=\"#000000\" cx=\"601\" cy=\"-167\" rx=\"27\" ry=\"18\"/>\n<text text-anchor=\"middle\" x=\"601\" y=\"-163.3\" font-family=\"Times,serif\" font-size=\"14.00\" fill=\"#000000\">*</text>\n</g>\n<!-- 140592834892816&#45;&gt;140592834470672* -->\n<g id=\"edge7\" class=\"edge\">\n<title>140592834892816&#45;&gt;140592834470672*</title>\n<path fill=\"none\" stroke=\"#000000\" d=\"M538.0032,-141.9153C548.1621,-145.9605 558.6775,-150.1476 568.1386,-153.9149\"/>\n<polygon fill=\"#000000\" stroke=\"#000000\" points=\"566.972,-157.2176 577.5573,-157.6654 569.5616,-150.7142 566.972,-157.2176\"/>\n</g>\n<!-- 140592834892816+ -->\n<g id=\"node2\" class=\"node\">\n<title>140592834892816+</title>\n<ellipse fill=\"none\" stroke=\"#000000\" cx=\"380\" cy=\"-123\" rx=\"27\" ry=\"18\"/>\n<text text-anchor=\"middle\" x=\"380\" y=\"-119.3\" font-family=\"Times,serif\" font-size=\"14.00\" fill=\"#000000\">+</text>\n</g>\n<!-- 140592834892816+&#45;&gt;140592834892816 -->\n<g id=\"edge1\" class=\"edge\">\n<title>140592834892816+&#45;&gt;140592834892816</title>\n<path fill=\"none\" stroke=\"#000000\" d=\"M407.0313,-123C414.8303,-123 423.6547,-123 432.5724,-123\"/>\n<polygon fill=\"#000000\" stroke=\"#000000\" points=\"432.6306,-126.5001 442.6306,-123 432.6306,-119.5001 432.6306,-126.5001\"/>\n</g>\n<!-- 140592834892368 -->\n<g id=\"node3\" class=\"node\">\n<title>140592834892368</title>\n<polygon fill=\"none\" stroke=\"#000000\" points=\"2,-88.5 2,-157.5 93,-157.5 93,-88.5 2,-88.5\"/>\n<text text-anchor=\"middle\" x=\"47.5\" y=\"-142.3\" font-family=\"Times,serif\" font-size=\"14.00\" fill=\"#000000\">a</text>\n<polyline fill=\"none\" stroke=\"#000000\" points=\"2,-134.5 93,-134.5 \"/>\n<text text-anchor=\"middle\" x=\"47.5\" y=\"-119.3\" font-family=\"Times,serif\" font-size=\"14.00\" fill=\"#000000\">data: 2.0000</text>\n<polyline fill=\"none\" stroke=\"#000000\" points=\"2,-111.5 93,-111.5 \"/>\n<text text-anchor=\"middle\" x=\"47.5\" y=\"-96.3\" font-family=\"Times,serif\" font-size=\"14.00\" fill=\"#000000\">grad: 6.0000</text>\n</g>\n<!-- 140592834892624* -->\n<g id=\"node8\" class=\"node\">\n<title>140592834892624*</title>\n<ellipse fill=\"none\" stroke=\"#000000\" cx=\"158\" cy=\"-79\" rx=\"27\" ry=\"18\"/>\n<text text-anchor=\"middle\" x=\"158\" y=\"-75.3\" font-family=\"Times,serif\" font-size=\"14.00\" fill=\"#000000\">*</text>\n</g>\n<!-- 140592834892368&#45;&gt;140592834892624* -->\n<g id=\"edge8\" class=\"edge\">\n<title>140592834892368&#45;&gt;140592834892624*</title>\n<path fill=\"none\" stroke=\"#000000\" d=\"M93.0825,-104.8495C103.7836,-100.5884 114.984,-96.1285 125.0101,-92.1363\"/>\n<polygon fill=\"#000000\" stroke=\"#000000\" points=\"126.5869,-95.2757 134.5827,-88.3245 123.9973,-88.7723 126.5869,-95.2757\"/>\n</g>\n<!-- 140592834892432 -->\n<g id=\"node4\" class=\"node\">\n<title>140592834892432</title>\n<polygon fill=\"none\" stroke=\"#000000\" points=\"221,-132.5 221,-201.5 317,-201.5 317,-132.5 221,-132.5\"/>\n<text text-anchor=\"middle\" x=\"269\" y=\"-186.3\" font-family=\"Times,serif\" font-size=\"14.00\" fill=\"#000000\">c</text>\n<polyline fill=\"none\" stroke=\"#000000\" points=\"221,-178.5 317,-178.5 \"/>\n<text text-anchor=\"middle\" x=\"269\" y=\"-163.3\" font-family=\"Times,serif\" font-size=\"14.00\" fill=\"#000000\">data: 10.0000</text>\n<polyline fill=\"none\" stroke=\"#000000\" points=\"221,-155.5 317,-155.5 \"/>\n<text text-anchor=\"middle\" x=\"269\" y=\"-140.3\" font-family=\"Times,serif\" font-size=\"14.00\" fill=\"#000000\">grad: &#45;2.0000</text>\n</g>\n<!-- 140592834892432&#45;&gt;140592834892816+ -->\n<g id=\"edge4\" class=\"edge\">\n<title>140592834892432&#45;&gt;140592834892816+</title>\n<path fill=\"none\" stroke=\"#000000\" d=\"M317.0406,-147.9569C327.2164,-143.9232 337.7329,-139.7545 347.1881,-136.0065\"/>\n<polygon fill=\"#000000\" stroke=\"#000000\" points=\"348.5921,-139.215 356.5986,-132.2762 346.0125,-132.7076 348.5921,-139.215\"/>\n</g>\n<!-- 140592834470672 -->\n<g id=\"node5\" class=\"node\">\n<title>140592834470672</title>\n<polygon fill=\"none\" stroke=\"#000000\" points=\"664,-132.5 664,-201.5 757,-201.5 757,-132.5 664,-132.5\"/>\n<text text-anchor=\"middle\" x=\"710.5\" y=\"-186.3\" font-family=\"Times,serif\" font-size=\"14.00\" fill=\"#000000\">L</text>\n<polyline fill=\"none\" stroke=\"#000000\" points=\"664,-178.5 757,-178.5 \"/>\n<text text-anchor=\"middle\" x=\"710.5\" y=\"-163.3\" font-family=\"Times,serif\" font-size=\"14.00\" fill=\"#000000\">data: &#45;8.0000</text>\n<polyline fill=\"none\" stroke=\"#000000\" points=\"664,-155.5 757,-155.5 \"/>\n<text text-anchor=\"middle\" x=\"710.5\" y=\"-140.3\" font-family=\"Times,serif\" font-size=\"14.00\" fill=\"#000000\">grad: 1.0000</text>\n</g>\n<!-- 140592834470672*&#45;&gt;140592834470672 -->\n<g id=\"edge2\" class=\"edge\">\n<title>140592834470672*&#45;&gt;140592834470672</title>\n<path fill=\"none\" stroke=\"#000000\" d=\"M628.0674,-167C635.8899,-167 644.7356,-167 653.6555,-167\"/>\n<polygon fill=\"#000000\" stroke=\"#000000\" points=\"653.7073,-170.5001 663.7073,-167 653.7073,-163.5001 653.7073,-170.5001\"/>\n</g>\n<!-- 140592834892624 -->\n<g id=\"node7\" class=\"node\">\n<title>140592834892624</title>\n<polygon fill=\"none\" stroke=\"#000000\" points=\"221.5,-44.5 221.5,-113.5 316.5,-113.5 316.5,-44.5 221.5,-44.5\"/>\n<text text-anchor=\"middle\" x=\"269\" y=\"-98.3\" font-family=\"Times,serif\" font-size=\"14.00\" fill=\"#000000\">d</text>\n<polyline fill=\"none\" stroke=\"#000000\" points=\"221.5,-90.5 316.5,-90.5 \"/>\n<text text-anchor=\"middle\" x=\"269\" y=\"-75.3\" font-family=\"Times,serif\" font-size=\"14.00\" fill=\"#000000\">data: &#45;6.0000</text>\n<polyline fill=\"none\" stroke=\"#000000\" points=\"221.5,-67.5 316.5,-67.5 \"/>\n<text text-anchor=\"middle\" x=\"269\" y=\"-52.3\" font-family=\"Times,serif\" font-size=\"14.00\" fill=\"#000000\">grad: &#45;2.0000</text>\n</g>\n<!-- 140592834892624&#45;&gt;140592834892816+ -->\n<g id=\"edge5\" class=\"edge\">\n<title>140592834892624&#45;&gt;140592834892816+</title>\n<path fill=\"none\" stroke=\"#000000\" d=\"M316.7182,-97.9153C327.0102,-101.9951 337.6666,-106.2192 347.2334,-110.0114\"/>\n<polygon fill=\"#000000\" stroke=\"#000000\" points=\"346.1616,-113.3515 356.7477,-113.7829 348.7412,-106.8441 346.1616,-113.3515\"/>\n</g>\n<!-- 140592834892624*&#45;&gt;140592834892624 -->\n<g id=\"edge3\" class=\"edge\">\n<title>140592834892624*&#45;&gt;140592834892624</title>\n<path fill=\"none\" stroke=\"#000000\" d=\"M185.1537,-79C193.0812,-79 202.0635,-79 211.1302,-79\"/>\n<polygon fill=\"#000000\" stroke=\"#000000\" points=\"211.3511,-82.5001 221.3511,-79 211.351,-75.5001 211.3511,-82.5001\"/>\n</g>\n<!-- 140592834470736 -->\n<g id=\"node9\" class=\"node\">\n<title>140592834470736</title>\n<polygon fill=\"none\" stroke=\"#000000\" points=\"444,-176.5 444,-245.5 537,-245.5 537,-176.5 444,-176.5\"/>\n<text text-anchor=\"middle\" x=\"490.5\" y=\"-230.3\" font-family=\"Times,serif\" font-size=\"14.00\" fill=\"#000000\">f</text>\n<polyline fill=\"none\" stroke=\"#000000\" points=\"444,-222.5 537,-222.5 \"/>\n<text text-anchor=\"middle\" x=\"490.5\" y=\"-207.3\" font-family=\"Times,serif\" font-size=\"14.00\" fill=\"#000000\">data: &#45;2.0000</text>\n<polyline fill=\"none\" stroke=\"#000000\" points=\"444,-199.5 537,-199.5 \"/>\n<text text-anchor=\"middle\" x=\"490.5\" y=\"-184.3\" font-family=\"Times,serif\" font-size=\"14.00\" fill=\"#000000\">grad: 4.0000</text>\n</g>\n<!-- 140592834470736&#45;&gt;140592834470672* -->\n<g id=\"edge9\" class=\"edge\">\n<title>140592834470736&#45;&gt;140592834470672*</title>\n<path fill=\"none\" stroke=\"#000000\" d=\"M537.0417,-192.4676C547.57,-188.2753 558.5311,-183.9107 568.3435,-180.0035\"/>\n<polygon fill=\"#000000\" stroke=\"#000000\" points=\"569.7188,-183.2232 577.7145,-176.272 567.1291,-176.7198 569.7188,-183.2232\"/>\n</g>\n<!-- 140592834892240 -->\n<g id=\"node10\" class=\"node\">\n<title>140592834892240</title>\n<polygon fill=\"none\" stroke=\"#000000\" points=\"0,-.5 0,-69.5 95,-69.5 95,-.5 0,-.5\"/>\n<text text-anchor=\"middle\" x=\"47.5\" y=\"-54.3\" font-family=\"Times,serif\" font-size=\"14.00\" fill=\"#000000\">b</text>\n<polyline fill=\"none\" stroke=\"#000000\" points=\"0,-46.5 95,-46.5 \"/>\n<text text-anchor=\"middle\" x=\"47.5\" y=\"-31.3\" font-family=\"Times,serif\" font-size=\"14.00\" fill=\"#000000\">data: &#45;3.0000</text>\n<polyline fill=\"none\" stroke=\"#000000\" points=\"0,-23.5 95,-23.5 \"/>\n<text text-anchor=\"middle\" x=\"47.5\" y=\"-8.3\" font-family=\"Times,serif\" font-size=\"14.00\" fill=\"#000000\">grad: &#45;4.0000</text>\n</g>\n<!-- 140592834892240&#45;&gt;140592834892624* -->\n<g id=\"edge6\" class=\"edge\">\n<title>140592834892240&#45;&gt;140592834892624*</title>\n<path fill=\"none\" stroke=\"#000000\" d=\"M95.0032,-53.9153C105.1621,-57.9605 115.6775,-62.1476 125.1386,-65.9149\"/>\n<polygon fill=\"#000000\" stroke=\"#000000\" points=\"123.972,-69.2176 134.5573,-69.6654 126.5616,-62.7142 123.972,-69.2176\"/>\n</g>\n</g>\n</svg>\n"
          },
          "metadata": {},
          "execution_count": 104
        }
      ]
    },
    {
      "cell_type": "markdown",
      "source": [
        "# Optimization step"
      ],
      "metadata": {
        "id": "BF3gkki4JF7R"
      }
    },
    {
      "cell_type": "code",
      "source": [
        "step_size = 0.01\n",
        "\n",
        "a.data += step_size * a.grad\n",
        "b.data += step_size * b.grad\n",
        "c.data += step_size * c.grad\n",
        "f.data += step_size * f.grad\n",
        "\n",
        "# forward prop\n",
        "d = a*b\n",
        "e = d+c\n",
        "L = e*f"
      ],
      "metadata": {
        "id": "LVSS7VPqJINs"
      },
      "execution_count": 105,
      "outputs": []
    },
    {
      "cell_type": "code",
      "source": [
        "L.data"
      ],
      "metadata": {
        "colab": {
          "base_uri": "https://localhost:8080/"
        },
        "id": "sT2YUQVKJYTi",
        "outputId": "5f6c8d0d-fa2e-4d2b-da3d-1dac6df06e89"
      },
      "execution_count": 106,
      "outputs": [
        {
          "output_type": "execute_result",
          "data": {
            "text/plain": [
              "-7.286496"
            ]
          },
          "metadata": {},
          "execution_count": 106
        }
      ]
    },
    {
      "cell_type": "markdown",
      "source": [
        "___"
      ],
      "metadata": {
        "id": "0JZimbiSIy-_"
      }
    }
  ]
}